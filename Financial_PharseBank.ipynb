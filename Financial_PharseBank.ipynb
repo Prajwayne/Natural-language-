{
  "cells": [
    {
      "cell_type": "markdown",
      "metadata": {
        "id": "dzk9aEtIvSUh"
      },
      "source": [
        "# Main datasets API\n",
        "\n",
        "This notebook is a quick dive in the main user API for loading datasets in `datasets`"
      ]
    },
    {
      "cell_type": "code",
      "source": [
        "# pip install textstat\n",
        "#!pip install rake-nltk\n",
        "!pip install -U spacy"
      ],
      "metadata": {
        "id": "lnUBPo2_7-0M"
      },
      "execution_count": null,
      "outputs": []
    },
    {
      "cell_type": "code",
      "source": [
        "import matplotlib.pyplot as plt\n",
        "import textstat\n",
        "import plotly.express as px\n",
        "from plotly.subplots import make_subplots\n",
        "import plotly.graph_objects as go\n",
        "import nltk\n",
        "from rake_nltk import Rake\n",
        "#r = Rake()\n",
        "import spacy\n",
        "nlp = spacy.load('en_core_web_lg')"
      ],
      "metadata": {
        "id": "f128Cv_Z6pUm"
      },
      "execution_count": null,
      "outputs": []
    },
    {
      "cell_type": "code",
      "source": [
        "import pandas as pd\n",
        "\n",
        "# make sure this points to the right place on your system:\n",
        "data_file = 'Sentences_50Agree.txt'\n",
        "\n",
        "df = pd.read_csv(data_file, sep='.@', header=0, names=['sentence', 'label'], encoding=\"windows_1258\")\n",
        "\n",
        "# change the words in the label column to numbers\n",
        "df.loc[df[\"label\"]==\"negative\", \"label\"] = 0\n",
        "df.loc[df[\"label\"]==\"neutral\", \"label\"] = 1\n",
        "df.loc[df[\"label\"]==\"positive\", \"label\"] = 2\n",
        "\n",
        "# convert from a dataframe object to a dictionary of arrays\n",
        "dataset = {\n",
        "    \"sentence\": df[\"sentence\"].to_numpy(),\n",
        "    \"label\": df[\"label\"].to_numpy()\n",
        "}"
      ],
      "metadata": {
        "colab": {
          "base_uri": "https://localhost:8080/"
        },
        "id": "I63Hqq8t5z5s",
        "outputId": "ec2698b3-fea4-456e-e698-e4cc30eae78f"
      },
      "execution_count": null,
      "outputs": [
        {
          "output_type": "stream",
          "name": "stderr",
          "text": [
            "/usr/local/lib/python3.7/dist-packages/pandas/util/_decorators.py:311: ParserWarning: Falling back to the 'python' engine because the 'c' engine does not support regex separators (separators > 1 char and different from '\\s+' are interpreted as regex); you can avoid this warning by specifying engine='python'.\n",
            "  return func(*args, **kwargs)\n"
          ]
        }
      ]
    },
    {
      "cell_type": "code",
      "source": [
        "\n",
        "\n",
        "df1 = pd.read_csv(data_file, sep='.@', header=0, names=['sentence', 'label'], encoding=\"windows_1258\")\n"
      ],
      "metadata": {
        "colab": {
          "base_uri": "https://localhost:8080/"
        },
        "id": "HX_iOAI8BdDr",
        "outputId": "d3bd74a0-09d4-483f-bfab-d840c22322e4"
      },
      "execution_count": null,
      "outputs": [
        {
          "output_type": "stream",
          "name": "stderr",
          "text": [
            "/usr/local/lib/python3.7/dist-packages/pandas/util/_decorators.py:311: ParserWarning:\n",
            "\n",
            "Falling back to the 'python' engine because the 'c' engine does not support regex separators (separators > 1 char and different from '\\s+' are interpreted as regex); you can avoid this warning by specifying engine='python'.\n",
            "\n"
          ]
        }
      ]
    },
    {
      "cell_type": "markdown",
      "source": [
        "EDA"
      ],
      "metadata": {
        "id": "Ok3QblWF6ZMj"
      }
    },
    {
      "cell_type": "code",
      "source": [
        "unique_sentiments = df.label.unique()\n",
        "unique_sentiments"
      ],
      "metadata": {
        "colab": {
          "base_uri": "https://localhost:8080/"
        },
        "id": "ehBX8C6D7ERG",
        "outputId": "83f05166-5292-4161-d613-11653b3a716c"
      },
      "execution_count": null,
      "outputs": [
        {
          "output_type": "execute_result",
          "data": {
            "text/plain": [
              "array([1, 0, 2], dtype=object)"
            ]
          },
          "metadata": {},
          "execution_count": 20
        }
      ]
    },
    {
      "cell_type": "code",
      "source": [
        "import seaborn as sns\n",
        "sns.set_theme(style=\"whitegrid\")\n",
        "sns.set_palette('rainbow')\n",
        "plt.figure(figsize=(8,6))\n",
        "sns.countplot(x=df.label)\n",
        "plt.xlabel('Count of Sentiment Type')\n",
        "plt.title('Target Distribution')\n",
        "plt.show()\n",
        "plt.savefig('Target Distribution')"
      ],
      "metadata": {
        "colab": {
          "base_uri": "https://localhost:8080/",
          "height": 428
        },
        "id": "PU1Xxwfn6a2O",
        "outputId": "85354646-7991-4cd1-fe1c-2e6600885ef1"
      },
      "execution_count": null,
      "outputs": [
        {
          "output_type": "display_data",
          "data": {
            "text/plain": [
              "<Figure size 576x432 with 1 Axes>"
            ],
            "image/png": "[encoded data removed]"
          },
          "metadata": {}
        },
        {
          "output_type": "display_data",
          "data": {
            "text/plain": [
              "<Figure size 432x288 with 0 Axes>"
            ]
          },
          "metadata": {}
        }
      ]
    },
    {
      "cell_type": "markdown",
      "source": [
        "Imbalanced dataset, 'neutral' class dominates the other 2 classes."
      ],
      "metadata": {
        "id": "mRP8bpB38NgQ"
      }
    },
    {
      "cell_type": "markdown",
      "source": [
        "Calculating length of each sentence could let us know if sentence length varies substantially by class."
      ],
      "metadata": {
        "id": "gLktoGSD8MYV"
      }
    },
    {
      "cell_type": "code",
      "source": [
        "df['Sentence Length'] = df['sentence'].apply(lambda x : textstat.lexicon_count(x, removepunct=True))"
      ],
      "metadata": {
        "id": "0eWrL82a7lVb"
      },
      "execution_count": null,
      "outputs": []
    },
    {
      "cell_type": "markdown",
      "source": [
        "Plotting Sentence Lengths for each class"
      ],
      "metadata": {
        "id": "s36B_vZf8Wr5"
      }
    },
    {
      "cell_type": "code",
      "source": [
        "df_positive = df.loc[df['label'] == 2]\n",
        "df_negative = df.loc[df['label'] == -1]\n",
        "df_neutral = df.loc[df['label'] == 1]\n",
        "\n",
        "\n",
        "fig = make_subplots(rows=1, cols=3)\n",
        "\n",
        "fig.append_trace(\n",
        "    go.Box(name='Positive', y=df_positive['Sentence Length']),\n",
        "    row=1, col=1\n",
        ")\n",
        "\n",
        "fig.append_trace(\n",
        "    go.Box(name='Negative', y=df_negative['Sentence Length']),\n",
        "    row=1, col=2\n",
        ")\n",
        "\n",
        "fig.append_trace(\n",
        "    go.Box(name='Neutral', y=df_neutral['Sentence Length']),\n",
        "    row=1, col=3\n",
        ")\n",
        "\n",
        "\n",
        "\n",
        "fig.update_layout(height=500, width=700, title_text=\"Distribution of Sentence Length across classes\")\n",
        "fig.show()"
      ],
      "metadata": {
        "colab": {
          "base_uri": "https://localhost:8080/",
          "height": 517
        },
        "id": "yvwF_IVz8HlG",
        "outputId": "47b5f5c2-6e86-4089-c7de-932d8a417324"
      },
      "execution_count": null,
      "outputs": [
        {
          "output_type": "display_data",
          "data": {
            "text/html": [
              "<html>\n",
              "<head><meta charset=\"utf-8\" /></head>\n",
              "<body>\n",
              "    <div>            <script src=\"https://cdnjs.cloudflare.com/ajax/libs/mathjax/2.7.5/MathJax.js?config=TeX-AMS-MML_SVG\"></script><script type=\"text/javascript\">if (window.MathJax) {MathJax.Hub.Config({SVG: {font: \"STIX-Web\"}});}</script>                <script type=\"text/javascript\">window.PlotlyConfig = {MathJaxConfig: 'local'};</script>\n",
              "        <script src=\"https://cdn.plot.ly/plotly-2.8.3.min.js\"></script>                <div id=\"7e91850d-24b2-45ba-a8ab-019578ddef1d\" class=\"plotly-graph-div\" style=\"height:500px; width:700px;\"></div>            <script type=\"text/javascript\">                                    window.PLOTLYENV=window.PLOTLYENV || {};                                    if (document.getElementById(\"7e91850d-24b2-45ba-a8ab-019578ddef1d\")) {                    Plotly.newPlot(                        \"7e91850d-24b2-45ba-a8ab-019578ddef1d\",                        [{\"name\":\"Positive\",\"y\":[32,35,24,36,24,22,18,29,25,35,31,27,31,46,35,20,25,20,37,43,35,24,27,26,27,27,26,31,31,31,22,21,36,20,38,15,24,26,30,34,24,7,10,10,30,28,33,31,43,33,45,28,26,36,28,29,35,36,24,23,24,41,19,44,40,18,21,15,20,28,37,27,30,25,29,27,8,21,27,14,13,11,15,27,18,17,25,9,18,15,24,17,32,13,8,17,16,11,31,15,27,27,10,15,36,17,13,27,19,24,13,10,16,20,20,40,22,17,29,20,29,18,39,26,26,28,16,20,11,16,11,11,20,24,17,29,27,27,24,24,24,28,28,28,28,28,26,27,28,27,28,5,6,12,24,12,12,12,12,9,8,46,12,33,43,29,37,35,40,29,35,33,30,39,38,27,16,25,23,22,20,12,25,26,11,34,21,20,21,17,23,23,22,22,13,32,14,16,35,33,35,39,40,16,38,16,14,12,16,17,13,32,11,10,17,16,17,17,13,17,11,11,17,13,8,18,11,11,12,26,8,10,9,15,27,17,16,13,11,20,15,19,13,15,11,20,12,22,34,5,15,25,23,27,13,11,13,17,13,19,22,16,15,18,34,24,38,17,17,18,18,21,15,18,23,27,9,18,13,25,17,22,18,13,23,28,31,24,21,15,15,15,16,11,19,23,8,8,37,28,36,14,38,35,11,15,26,23,38,16,14,21,37,13,9,34,14,28,14,45,14,17,8,11,12,25,13,10,11,17,14,17,10,11,8,10,15,32,19,10,30,21,17,24,16,44,13,24,21,19,15,18,13,24,6,17,22,29,24,37,9,13,26,31,33,47,15,27,19,36,11,28,19,32,10,20,26,26,31,24,38,23,9,21,24,23,21,13,14,32,27,16,27,21,24,17,35,19,19,14,10,10,33,25,17,11,31,17,22,24,37,37,30,24,16,27,28,34,22,37,20,34,12,31,13,14,18,17,24,23,24,20,23,15,17,23,23,20,35,36,39,14,36,28,10,21,9,19,25,10,13,22,32,18,15,28,24,24,26,26,18,28,41,15,25,33,20,30,13,15,33,17,31,12,19,19,11,19,18,37,48,32,36,40,40,26,26,26,32,22,37,38,29,24,40,27,50,12,9,22,22,29,16,14,16,24,19,20,29,25,18,15,18,27,18,36,22,35,31,37,30,20,19,15,14,16,20,17,27,15,20,16,21,23,39,28,26,19,14,30,17,9,16,27,29,19,12,43,12,23,26,17,18,23,32,20,23,25,23,11,34,8,15,30,33,29,33,16,25,13,10,40,16,15,17,9,17,22,25,17,14,18,13,24,20,9,18,16,12,23,25,23,27,9,16,17,21,31,31,30,16,31,27,17,21,20,11,21,28,34,20,15,29,17,23,17,22,35,9,25,29,12,24,10,11,24,27,10,12,27,25,38,33,34,28,35,16,25,19,14,19,19,22,35,29,10,13,20,18,22,11,12,25,26,26,35,42,39,18,31,14,23,39,23,26,26,36,11,11,17,21,11,14,26,14,27,12,13,22,11,17,13,21,23,21,17,19,13,22,38,26,26,25,13,12,10,13,13,35,21,20,31,10,12,8,24,21,16,28,30,13,9,9,8,21,18,35,13,20,18,21,12,41,33,39,22,15,28,16,22,30,17,12,13,22,14,43,8,9,33,18,32,22,29,23,16,13,9,13,15,11,12,13,5,29,20,11,7,10,25,22,5,10,20,33,22,9,12,27,24,22,13,22,17,25,35,13,20,10,21,16,41,16,15,26,28,21,20,14,30,8,23,22,34,33,22,12,19,24,12,17,14,11,31,11,11,34,14,17,18,28,15,13,15,9,18,7,13,15,22,26,32,9,16,31,19,15,16,32,7,34,25,29,24,19,12,19,13,16,16,14,28,35,15,8,8,13,14,18,15,19,15,12,26,25,13,39,7,21,6,33,24,21,11,23,28,25,35,15,16,18,32,20,21,28,15,16,19,20,16,16,4,22,20,19,15,11,12,9,21,18,27,25,33,22,33,28,31,16,29,27,17,31,36,40,12,20,21,24,17,17,22,29,27,21,19,16,19,15,12,24,19,30,28,24,15,21,17,26,22,31,16,32,21,16,28,16,19,26,17,14,19,22,25,20,21,20,29,26,18,30,18,37,25,25,19,10,28,25,15,25,24,37,13,16,17,37,23,12,21,28,15,16,32,10,27,18,18,18,32,37,25,16,13,14,22,13,26,20,14,18,29,18,21,26,25,10,18,28,26,20,21,16,21,36,26,15,31,34,24,16,25,22,18,20,24,26,39,32,36,18,34,13,11,28,23,27,21,40,9,17,39,15,36,15,12,23,15,14,13,32,13,18,47,24,18,14,25,15,9,10,18,34,13,32,16,22,17,26,37,28,8,28,24,23,21,34,28,32,18,9,28,20,23,10,22,35,15,16,22,11,11,19,5,39,33,41,33,41,30,32,34,8,31,12,13,43,13,30,15,24,18,18,17,17,8,23,42,35,24,29,36,29,40,27,19,43,19,15,9,12,30,18,20,20,20,20,27,15,22,29,13,11,40,35,20,14,21,33,18,36,21,12,10,9,12,17,9,26,18,6,23,19,44,10,16,5,18,15,15,19,19,16,18,16,11,16,19,26,17,23,14,26,8,26,27,25,41,44,36,36,32,17,33,18,19,45,42,38,38,38,39,14,27,21,19,39,43,28,18,7,17,14,17,15,15,18,20,32,15,15,35,26,10,17,29,14,21,8,13,15,20,11,23,24,25,17,12,20,16,32,28,7,26,36,15,25,29,8,27,23,10,38,12,31,31,26,16,27,20,8,11,27,29,37,38,13,28,11,18,26,42,36,45,36,26,14,11,35,6,29,26,17,15,11,17,25,13,16,32,19,15,14,17,14,22,27,10,32,34,23,21,10,18,10,10,22,12,22,21,21,13,32,16,16,12,16,15,12,42,26,29,21,24,32,21,20,37,27,27,26,16,20,26,13,29,35,33,20,15,23,19,39,28,26,23,20,18,27,14,27,17,20,30,43,7,23,18,19,42,19,25,13,27,31,15,33,15,21,39,18,15,22],\"type\":\"box\",\"xaxis\":\"x\",\"yaxis\":\"y\"},{\"name\":\"Negative\",\"y\":[],\"type\":\"box\",\"xaxis\":\"x2\",\"yaxis\":\"y2\"},{\"name\":\"Neutral\",\"y\":[29,48,17,23,14,42,26,31,23,12,21,28,41,26,22,41,30,16,22,21,14,29,17,20,9,19,16,14,10,17,21,20,12,45,30,21,32,33,28,9,10,28,29,34,37,18,16,12,31,19,33,33,28,19,37,23,16,39,22,21,15,27,19,11,31,25,18,17,24,33,18,25,17,8,10,18,31,14,13,43,22,17,19,23,13,38,27,23,18,34,21,33,10,10,33,31,18,13,20,17,26,12,19,16,23,21,24,20,16,16,12,17,22,29,14,8,15,11,33,11,12,24,17,47,30,12,19,14,27,19,20,20,33,33,32,36,31,10,28,22,38,27,25,20,29,7,20,24,35,31,26,23,13,18,27,31,22,29,34,24,18,10,12,18,34,13,20,15,19,22,23,27,23,23,12,7,34,22,15,32,14,25,17,17,27,9,20,22,23,23,15,16,16,40,24,21,42,21,3,14,20,19,13,47,31,30,23,29,15,10,22,29,10,21,21,36,23,28,24,12,10,12,11,30,29,25,25,15,24,31,30,21,24,24,32,24,13,25,42,16,15,25,18,23,25,25,29,15,11,17,20,11,38,17,27,44,11,14,7,10,11,10,11,11,14,29,14,10,34,36,12,21,31,28,11,19,14,1,8,12,7,21,20,16,13,26,12,10,17,20,19,7,9,24,37,25,20,18,17,19,15,21,32,21,18,17,27,38,10,31,26,10,10,10,27,11,9,21,14,16,22,19,23,21,34,20,25,11,17,16,24,15,9,6,17,21,25,13,21,15,11,13,37,14,27,15,26,14,36,13,17,21,14,32,17,26,33,9,41,29,14,15,18,11,32,24,24,25,12,20,26,29,18,21,39,7,41,18,30,9,12,20,24,13,16,18,30,5,16,27,15,11,19,15,26,15,12,17,26,21,14,42,15,16,35,28,26,19,34,20,14,15,10,23,25,25,21,26,23,23,26,21,20,23,23,6,22,21,21,21,7,11,35,27,21,13,26,24,13,31,23,28,19,15,15,30,12,26,11,18,27,8,11,22,26,15,8,21,8,11,25,39,14,7,17,17,19,17,39,9,25,17,15,14,18,15,12,28,20,11,29,12,14,16,39,13,19,13,24,15,31,17,19,32,32,22,16,13,36,19,27,19,27,27,32,13,18,17,16,12,15,30,29,10,27,17,15,44,14,13,9,22,22,39,39,12,27,33,22,25,14,20,25,16,22,26,18,23,17,13,9,18,15,20,40,31,14,17,18,25,13,26,7,17,31,17,18,12,12,17,23,24,4,10,9,26,12,34,37,10,15,21,11,16,20,21,30,11,33,18,24,20,20,32,11,22,12,19,18,13,29,18,23,12,24,28,17,18,15,16,11,26,23,29,14,13,25,29,13,16,7,10,34,28,19,30,24,15,25,13,23,16,36,24,24,25,13,21,19,24,28,18,23,34,26,26,18,13,19,18,16,20,27,5,8,24,23,21,12,27,24,10,30,28,24,26,29,12,23,25,23,23,23,23,21,23,16,24,17,15,21,20,19,12,25,6,22,25,16,32,14,21,30,8,20,46,30,17,20,45,28,24,16,36,20,34,28,42,30,20,29,17,8,16,8,16,13,12,21,19,8,17,11,42,18,18,7,8,6,26,29,33,29,32,10,30,16,10,22,27,7,10,16,21,32,14,25,14,13,25,10,25,13,17,19,19,32,21,13,25,28,6,23,13,19,23,35,37,18,24,28,40,28,23,16,35,18,19,30,31,11,33,25,15,41,14,38,31,25,25,18,23,40,15,24,17,42,22,35,12,29,26,18,20,26,13,12,31,18,21,29,6,6,16,22,11,17,15,23,25,28,22,27,15,16,18,30,28,15,22,14,45,20,19,26,25,14,22,36,15,25,11,27,18,19,13,21,21,28,38,14,15,19,20,47,10,18,17,16,20,25,21,11,20,26,19,30,18,13,14,16,18,14,34,16,20,12,47,27,14,14,31,22,24,18,40,23,35,9,34,20,16,15,15,17,21,31,18,37,9,15,12,8,18,19,15,19,20,33,24,28,10,8,13,16,10,17,15,21,9,27,18,33,13,19,17,14,32,15,14,18,16,25,14,19,21,20,15,26,10,10,18,8,26,23,21,18,22,20,15,39,14,17,10,34,34,33,33,36,32,20,25,17,12,20,11,14,10,24,10,25,7,9,23,16,17,33,11,12,12,13,24,14,15,15,18,19,9,9,22,18,11,22,9,24,12,15,34,12,17,7,19,13,13,11,14,18,14,7,21,14,19,36,13,16,18,18,19,19,19,7,18,12,13,24,18,31,12,24,35,34,9,20,14,20,22,12,23,11,6,19,10,18,17,31,13,20,12,32,19,35,12,6,15,31,10,29,20,15,14,15,13,10,9,11,20,49,26,14,14,4,35,13,33,38,37,16,27,43,34,17,17,45,9,12,14,15,22,22,22,25,21,16,20,20,17,29,9,18,29,19,13,19,20,10,10,12,16,3,22,18,10,13,8,16,20,12,17,22,42,30,19,18,24,9,15,17,20,7,21,10,34,10,20,29,21,24,15,18,13,25,25,14,26,7,10,8,7,23,10,19,14,24,29,12,22,7,31,15,23,18,17,33,35,15,23,17,15,14,26,28,14,18,10,7,20,31,27,24,29,31,25,13,20,21,18,32,16,20,10,36,18,11,19,20,13,19,17,15,24,11,20,9,10,28,13,16,23,17,12,17,41,17,12,10,24,19,37,21,3,8,5,5,5,5,7,34,5,29,14,24,7,14,14,6,34,35,15,33,17,8,33,18,9,26,16,13,11,9,6,20,14,9,3,17,19,18,26,8,9,13,27,29,38,17,9,9,31,2,13,34,40,14,20,18,22,30,27,18,15,18,24,26,6,50,22,15,27,15,13,21,15,9,12,24,18,22,17,17,20,28,16,13,29,12,9,5,14,13,11,23,20,22,10,18,19,28,14,15,11,13,14,11,30,22,14,14,24,12,11,15,13,16,25,12,21,15,16,8,16,27,10,20,31,16,12,13,13,13,17,11,45,28,13,9,19,22,10,8,19,10,7,23,13,16,31,10,17,20,24,12,21,37,12,20,29,34,15,7,16,10,19,15,32,19,25,12,8,16,17,19,32,13,8,13,21,17,21,10,7,10,11,15,11,7,11,8,29,16,21,32,10,12,9,12,33,5,17,13,16,11,39,27,33,31,27,39,30,16,9,12,16,27,33,34,33,32,30,22,27,20,20,17,19,25,21,37,16,21,25,13,19,15,25,10,19,25,15,11,18,16,30,15,14,23,30,32,12,10,27,23,9,17,41,13,20,20,21,14,31,22,20,39,26,13,17,21,14,20,42,22,11,13,29,29,10,24,20,21,28,22,14,5,36,11,27,15,12,9,12,42,16,8,26,26,12,9,20,14,8,15,37,22,20,13,28,30,15,30,15,23,19,7,16,16,6,22,29,31,26,26,23,25,25,37,7,11,9,9,19,9,23,16,16,27,14,27,28,6,23,10,22,31,27,17,29,11,7,5,5,5,5,33,32,28,42,29,31,34,13,35,35,18,28,37,23,16,22,11,11,22,24,26,18,29,18,37,21,22,8,13,35,22,21,20,20,24,32,28,16,12,17,21,20,14,12,18,24,24,22,32,28,29,35,29,11,13,21,9,39,16,25,17,34,13,21,23,19,11,14,18,27,32,14,4,11,10,26,20,23,26,20,8,3,11,8,7,13,14,18,20,13,32,20,11,14,8,18,12,20,15,20,20,12,17,19,31,24,14,29,40,7,38,25,36,14,11,23,19,21,14,17,14,38,20,13,25,46,20,3,14,11,19,30,8,17,12,20,5,5,5,9,11,17,28,13,36,12,9,2,11,16,12,11,11,25,20,18,9,13,15,5,25,29,18,7,19,19,9,12,20,13,36,21,19,20,18,40,33,39,39,26,18,9,9,2,15,14,19,19,23,37,23,16,17,12,25,23,40,33,17,15,20,17,22,23,28,14,27,31,11,26,18,16,20,25,33,21,19,28,34,22,45,8,17,34,35,28,34,7,4,34,14,20,21,13,20,14,21,23,16,20,10,12,21,12,18,19,13,15,29,23,27,18,41,23,31,10,9,11,13,33,10,10,11,12,10,13,17,27,25,16,19,17,11,7,30,17,17,19,16,15,9,10,31,31,17,32,21,16,13,21,28,16,17,20,10,11,9,20,6,14,22,20,8,15,20,20,12,12,8,14,6,17,17,13,20,45,25,15,17,9,9,19,17,14,22,43,12,17,28,22,24,19,15,14,20,17,16,30,17,9,24,16,13,9,15,30,6,24,13,24,31,25,27,15,15,35,12,9,12,11,8,16,30,10,14,32,17,11,11,13,39,11,9,14,23,27,17,12,12,12,30,30,35,21,21,12,12,20,17,10,13,11,20,46,13,20,14,14,23,16,12,13,9,24,14,11,20,22,9,6,8,10,15,18,26,12,29,20,6,6,20,25,36,12,11,8,14,8,26,18,17,14,28,15,9,12,15,24,28,10,17,11,13,35,21,8,21,22,18,9,22,16,39,10,23,23,12,20,9,10,9,8,8,8,9,9,9,9,9,9,10,12,22,18,28,19,27,7,7,13,19,12,23,21,16,28,24,19,10,13,13,14,14,6,45,18,11,23,14,32,23,15,26,4,22,17,36,14,9,28,12,14,10,16,19,18,27,12,3,14,14,10,27,27,31,21,11,22,15,22,40,11,4,23,12,14,31,8,26,11,24,15,15,9,14,21,14,17,17,11,19,12,15,26,4,11,38,20,34,15,23,12,35,37,21,18,32,31,22,16,11,28,17,18,21,20,31,30,35,23,40,38,20,26,4,12,14,18,30,32,7,9,13,11,22,19,14,23,25,14,13,15,27,17,12,21,14,15,28,26,15,25,17,14,13,21,14,40,13,19,8,13,15,27,6,15,12,21,19,9,30,13,15,21,18,20,17,41,23,25,9,26,9,28,26,35,15,27,28,22,27,19,18,29,28,15,21,18,16,13,15,19,12,13,19,28,27,30,11,9,20,15,9,18,10,14,15,13,12,24,33,17,22,24,17,12,12,17,18,10,12,16,37,39,21,18,30,11,24,10,19,13,22,18,20,22,13,12,37,27,11,19,21,20,28,20,25,29,34,23,13,22,8,13,26,20,17,13,25,39,32,39,22,15,25,21,32,38,16,13,25,20,16,8,7,6,6,17,13,6,16,12,28,23,11,23,20,21,13,12,18,26,16,29,18,37,10,22,4,21,19,19,12,17,7,26,22,10,14,18,16,9,27,25,19,8,14,12,13,31,19,11,23,20,13,14,16,18,41,22,17,18,11,28,21,27,33,13,8,21,21,16,16,20,17,30,17,10,9,12,12,24,26,25,7,8,14,12,25,27,29,19,32,22,25,9,16,17,22,19,11,10,24,20,20,20,18,31,29,15,31,27,19,20,18,8,8,10,7,26,18,21,23,24,25,17,15,16,20,13,27,13,13,38,44,44,46,12,18,13,39,23,12,10,9,37,9,14,11,11,28,31,9,16,25,15,11,13,18,22,11,17,39,22,22,13,19,20,30,25,14,11,13,37,25,23,14,29,17,16,15,22,18,14,15,7,33,15,46,18,33,18,29,15,12,39,19,11,14,17,30,30,21,24,34,17,32,8,21,18,20,13,7,13,12,12,14,17,11,13,11,9,18,38,12,19,11,23,9,28,8,9,10,9,12,8,12,10,15,17,43,21,11,25,21,23,11,22,16,10,13,13,9,35,16,28,17,11,28,32,24,18,11,15,21,38,12,22,30,22,18,14,17,19,30,30,6,20,30,28,10,18,23,12,14,13,14,22,35,37,14,12,18,20,25,20,6,26,37,22,20,18,22,7,14,19,21,13,15,16,16,10,18,30,15,20,21,6,19,19,19,25,27,19,6,16,20,26,23,16,12,21,14,16,22,18,17,14,24,17,24,21,5,29,26,31,18,6,22,40,20,19,21,18,15,34,18,33,8,12,6,25,17,9,10,16,15,8,33,20,17,16,17,17,12,19,14,49,4,12,17,37,11,13,23,16,21,13,14,13,32,18,33,20,27,20,12,35,26,14,22,14,16,25,10,17,12,13,8,11,13,20,15,24,17,22,33,7,22,19,10,15,16,20,19,19,23,11,14,29,5,12,21,16,31,7,19,16,17,8,18,23,37,12,15,25,9,14,24,10,8,14,34,11,16,23,14,17,18,8,7,9,16,31,21,20,16,20,17,30,14,24,32,35,21,23,24,12,10,19,22,8,18,38,17,23,14,4,41,13,12,25,15,27,40,30,35,14,20,8,27,20,38,20,18,18,20,29,21,39,24,17,11,24,35,18,31,15,18,29,17,29,16,15,21,25,18,14,27,38,21,29,12,10,9,34,25,21,30,28,20,28,23,26,17,25,12,12,41,7,22,23,24,6,29,34,8,19,32,36,36,17,39,24,24,26,7,19,10,17,40,20,26,25,40,27],\"type\":\"box\",\"xaxis\":\"x3\",\"yaxis\":\"y3\"}],                        {\"template\":{\"data\":{\"bar\":[{\"error_x\":{\"color\":\"#2a3f5f\"},\"error_y\":{\"color\":\"#2a3f5f\"},\"marker\":{\"line\":{\"color\":\"#E5ECF6\",\"width\":0.5},\"pattern\":{\"fillmode\":\"overlay\",\"size\":10,\"solidity\":0.2}},\"type\":\"bar\"}],\"barpolar\":[{\"marker\":{\"line\":{\"color\":\"#E5ECF6\",\"width\":0.5},\"pattern\":{\"fillmode\":\"overlay\",\"size\":10,\"solidity\":0.2}},\"type\":\"barpolar\"}],\"carpet\":[{\"aaxis\":{\"endlinecolor\":\"#2a3f5f\",\"gridcolor\":\"white\",\"linecolor\":\"white\",\"minorgridcolor\":\"white\",\"startlinecolor\":\"#2a3f5f\"},\"baxis\":{\"endlinecolor\":\"#2a3f5f\",\"gridcolor\":\"white\",\"linecolor\":\"white\",\"minorgridcolor\":\"white\",\"startlinecolor\":\"#2a3f5f\"},\"type\":\"carpet\"}],\"choropleth\":[{\"colorbar\":{\"outlinewidth\":0,\"ticks\":\"\"},\"type\":\"choropleth\"}],\"contour\":[{\"colorbar\":{\"outlinewidth\":0,\"ticks\":\"\"},\"colorscale\":[[0.0,\"#0d0887\"],[0.1111111111111111,\"#46039f\"],[0.2222222222222222,\"#7201a8\"],[0.3333333333333333,\"#9c179e\"],[0.4444444444444444,\"#bd3786\"],[0.5555555555555556,\"#d8576b\"],[0.6666666666666666,\"#ed7953\"],[0.7777777777777778,\"#fb9f3a\"],[0.8888888888888888,\"#fdca26\"],[1.0,\"#f0f921\"]],\"type\":\"contour\"}],\"contourcarpet\":[{\"colorbar\":{\"outlinewidth\":0,\"ticks\":\"\"},\"type\":\"contourcarpet\"}],\"heatmap\":[{\"colorbar\":{\"outlinewidth\":0,\"ticks\":\"\"},\"colorscale\":[[0.0,\"#0d0887\"],[0.1111111111111111,\"#46039f\"],[0.2222222222222222,\"#7201a8\"],[0.3333333333333333,\"#9c179e\"],[0.4444444444444444,\"#bd3786\"],[0.5555555555555556,\"#d8576b\"],[0.6666666666666666,\"#ed7953\"],[0.7777777777777778,\"#fb9f3a\"],[0.8888888888888888,\"#fdca26\"],[1.0,\"#f0f921\"]],\"type\":\"heatmap\"}],\"heatmapgl\":[{\"colorbar\":{\"outlinewidth\":0,\"ticks\":\"\"},\"colorscale\":[[0.0,\"#0d0887\"],[0.1111111111111111,\"#46039f\"],[0.2222222222222222,\"#7201a8\"],[0.3333333333333333,\"#9c179e\"],[0.4444444444444444,\"#bd3786\"],[0.5555555555555556,\"#d8576b\"],[0.6666666666666666,\"#ed7953\"],[0.7777777777777778,\"#fb9f3a\"],[0.8888888888888888,\"#fdca26\"],[1.0,\"#f0f921\"]],\"type\":\"heatmapgl\"}],\"histogram\":[{\"marker\":{\"pattern\":{\"fillmode\":\"overlay\",\"size\":10,\"solidity\":0.2}},\"type\":\"histogram\"}],\"histogram2d\":[{\"colorbar\":{\"outlinewidth\":0,\"ticks\":\"\"},\"colorscale\":[[0.0,\"#0d0887\"],[0.1111111111111111,\"#46039f\"],[0.2222222222222222,\"#7201a8\"],[0.3333333333333333,\"#9c179e\"],[0.4444444444444444,\"#bd3786\"],[0.5555555555555556,\"#d8576b\"],[0.6666666666666666,\"#ed7953\"],[0.7777777777777778,\"#fb9f3a\"],[0.8888888888888888,\"#fdca26\"],[1.0,\"#f0f921\"]],\"type\":\"histogram2d\"}],\"histogram2dcontour\":[{\"colorbar\":{\"outlinewidth\":0,\"ticks\":\"\"},\"colorscale\":[[0.0,\"#0d0887\"],[0.1111111111111111,\"#46039f\"],[0.2222222222222222,\"#7201a8\"],[0.3333333333333333,\"#9c179e\"],[0.4444444444444444,\"#bd3786\"],[0.5555555555555556,\"#d8576b\"],[0.6666666666666666,\"#ed7953\"],[0.7777777777777778,\"#fb9f3a\"],[0.8888888888888888,\"#fdca26\"],[1.0,\"#f0f921\"]],\"type\":\"histogram2dcontour\"}],\"mesh3d\":[{\"colorbar\":{\"outlinewidth\":0,\"ticks\":\"\"},\"type\":\"mesh3d\"}],\"parcoords\":[{\"line\":{\"colorbar\":{\"outlinewidth\":0,\"ticks\":\"\"}},\"type\":\"parcoords\"}],\"pie\":[{\"automargin\":true,\"type\":\"pie\"}],\"scatter\":[{\"marker\":{\"colorbar\":{\"outlinewidth\":0,\"ticks\":\"\"}},\"type\":\"scatter\"}],\"scatter3d\":[{\"line\":{\"colorbar\":{\"outlinewidth\":0,\"ticks\":\"\"}},\"marker\":{\"colorbar\":{\"outlinewidth\":0,\"ticks\":\"\"}},\"type\":\"scatter3d\"}],\"scattercarpet\":[{\"marker\":{\"colorbar\":{\"outlinewidth\":0,\"ticks\":\"\"}},\"type\":\"scattercarpet\"}],\"scattergeo\":[{\"marker\":{\"colorbar\":{\"outlinewidth\":0,\"ticks\":\"\"}},\"type\":\"scattergeo\"}],\"scattergl\":[{\"marker\":{\"colorbar\":{\"outlinewidth\":0,\"ticks\":\"\"}},\"type\":\"scattergl\"}],\"scattermapbox\":[{\"marker\":{\"colorbar\":{\"outlinewidth\":0,\"ticks\":\"\"}},\"type\":\"scattermapbox\"}],\"scatterpolar\":[{\"marker\":{\"colorbar\":{\"outlinewidth\":0,\"ticks\":\"\"}},\"type\":\"scatterpolar\"}],\"scatterpolargl\":[{\"marker\":{\"colorbar\":{\"outlinewidth\":0,\"ticks\":\"\"}},\"type\":\"scatterpolargl\"}],\"scatterternary\":[{\"marker\":{\"colorbar\":{\"outlinewidth\":0,\"ticks\":\"\"}},\"type\":\"scatterternary\"}],\"surface\":[{\"colorbar\":{\"outlinewidth\":0,\"ticks\":\"\"},\"colorscale\":[[0.0,\"#0d0887\"],[0.1111111111111111,\"#46039f\"],[0.2222222222222222,\"#7201a8\"],[0.3333333333333333,\"#9c179e\"],[0.4444444444444444,\"#bd3786\"],[0.5555555555555556,\"#d8576b\"],[0.6666666666666666,\"#ed7953\"],[0.7777777777777778,\"#fb9f3a\"],[0.8888888888888888,\"#fdca26\"],[1.0,\"#f0f921\"]],\"type\":\"surface\"}],\"table\":[{\"cells\":{\"fill\":{\"color\":\"#EBF0F8\"},\"line\":{\"color\":\"white\"}},\"header\":{\"fill\":{\"color\":\"#C8D4E3\"},\"line\":{\"color\":\"white\"}},\"type\":\"table\"}]},\"layout\":{\"annotationdefaults\":{\"arrowcolor\":\"#2a3f5f\",\"arrowhead\":0,\"arrowwidth\":1},\"autotypenumbers\":\"strict\",\"coloraxis\":{\"colorbar\":{\"outlinewidth\":0,\"ticks\":\"\"}},\"colorscale\":{\"diverging\":[[0,\"#8e0152\"],[0.1,\"#c51b7d\"],[0.2,\"#de77ae\"],[0.3,\"#f1b6da\"],[0.4,\"#fde0ef\"],[0.5,\"#f7f7f7\"],[0.6,\"#e6f5d0\"],[0.7,\"#b8e186\"],[0.8,\"#7fbc41\"],[0.9,\"#4d9221\"],[1,\"#276419\"]],\"sequential\":[[0.0,\"#0d0887\"],[0.1111111111111111,\"#46039f\"],[0.2222222222222222,\"#7201a8\"],[0.3333333333333333,\"#9c179e\"],[0.4444444444444444,\"#bd3786\"],[0.5555555555555556,\"#d8576b\"],[0.6666666666666666,\"#ed7953\"],[0.7777777777777778,\"#fb9f3a\"],[0.8888888888888888,\"#fdca26\"],[1.0,\"#f0f921\"]],\"sequentialminus\":[[0.0,\"#0d0887\"],[0.1111111111111111,\"#46039f\"],[0.2222222222222222,\"#7201a8\"],[0.3333333333333333,\"#9c179e\"],[0.4444444444444444,\"#bd3786\"],[0.5555555555555556,\"#d8576b\"],[0.6666666666666666,\"#ed7953\"],[0.7777777777777778,\"#fb9f3a\"],[0.8888888888888888,\"#fdca26\"],[1.0,\"#f0f921\"]]},\"colorway\":[\"#636efa\",\"#EF553B\",\"#00cc96\",\"#ab63fa\",\"#FFA15A\",\"#19d3f3\",\"#FF6692\",\"#B6E880\",\"#FF97FF\",\"#FECB52\"],\"font\":{\"color\":\"#2a3f5f\"},\"geo\":{\"bgcolor\":\"white\",\"lakecolor\":\"white\",\"landcolor\":\"#E5ECF6\",\"showlakes\":true,\"showland\":true,\"subunitcolor\":\"white\"},\"hoverlabel\":{\"align\":\"left\"},\"hovermode\":\"closest\",\"mapbox\":{\"style\":\"light\"},\"paper_bgcolor\":\"white\",\"plot_bgcolor\":\"#E5ECF6\",\"polar\":{\"angularaxis\":{\"gridcolor\":\"white\",\"linecolor\":\"white\",\"ticks\":\"\"},\"bgcolor\":\"#E5ECF6\",\"radialaxis\":{\"gridcolor\":\"white\",\"linecolor\":\"white\",\"ticks\":\"\"}},\"scene\":{\"xaxis\":{\"backgroundcolor\":\"#E5ECF6\",\"gridcolor\":\"white\",\"gridwidth\":2,\"linecolor\":\"white\",\"showbackground\":true,\"ticks\":\"\",\"zerolinecolor\":\"white\"},\"yaxis\":{\"backgroundcolor\":\"#E5ECF6\",\"gridcolor\":\"white\",\"gridwidth\":2,\"linecolor\":\"white\",\"showbackground\":true,\"ticks\":\"\",\"zerolinecolor\":\"white\"},\"zaxis\":{\"backgroundcolor\":\"#E5ECF6\",\"gridcolor\":\"white\",\"gridwidth\":2,\"linecolor\":\"white\",\"showbackground\":true,\"ticks\":\"\",\"zerolinecolor\":\"white\"}},\"shapedefaults\":{\"line\":{\"color\":\"#2a3f5f\"}},\"ternary\":{\"aaxis\":{\"gridcolor\":\"white\",\"linecolor\":\"white\",\"ticks\":\"\"},\"baxis\":{\"gridcolor\":\"white\",\"linecolor\":\"white\",\"ticks\":\"\"},\"bgcolor\":\"#E5ECF6\",\"caxis\":{\"gridcolor\":\"white\",\"linecolor\":\"white\",\"ticks\":\"\"}},\"title\":{\"x\":0.05},\"xaxis\":{\"automargin\":true,\"gridcolor\":\"white\",\"linecolor\":\"white\",\"ticks\":\"\",\"title\":{\"standoff\":15},\"zerolinecolor\":\"white\",\"zerolinewidth\":2},\"yaxis\":{\"automargin\":true,\"gridcolor\":\"white\",\"linecolor\":\"white\",\"ticks\":\"\",\"title\":{\"standoff\":15},\"zerolinecolor\":\"white\",\"zerolinewidth\":2}}},\"xaxis\":{\"anchor\":\"y\",\"domain\":[0.0,0.2888888888888889]},\"yaxis\":{\"anchor\":\"x\",\"domain\":[0.0,1.0]},\"xaxis2\":{\"anchor\":\"y2\",\"domain\":[0.35555555555555557,0.6444444444444445]},\"yaxis2\":{\"anchor\":\"x2\",\"domain\":[0.0,1.0]},\"xaxis3\":{\"anchor\":\"y3\",\"domain\":[0.7111111111111111,1.0]},\"yaxis3\":{\"anchor\":\"x3\",\"domain\":[0.0,1.0]},\"title\":{\"text\":\"Distribution of Sentence Length across classes\"},\"height\":500,\"width\":700},                        {\"responsive\": true}                    ).then(function(){\n",
              "                            \n",
              "var gd = document.getElementById('7e91850d-24b2-45ba-a8ab-019578ddef1d');\n",
              "var x = new MutationObserver(function (mutations, observer) {{\n",
              "        var display = window.getComputedStyle(gd).display;\n",
              "        if (!display || display === 'none') {{\n",
              "            console.log([gd, 'removed!']);\n",
              "            Plotly.purge(gd);\n",
              "            observer.disconnect();\n",
              "        }}\n",
              "}});\n",
              "\n",
              "// Listen for the removal of the full notebook cells\n",
              "var notebookContainer = gd.closest('#notebook-container');\n",
              "if (notebookContainer) {{\n",
              "    x.observe(notebookContainer, {childList: true});\n",
              "}}\n",
              "\n",
              "// Listen for the clearing of the current output cell\n",
              "var outputEl = gd.closest('.output');\n",
              "if (outputEl) {{\n",
              "    x.observe(outputEl, {childList: true});\n",
              "}}\n",
              "\n",
              "                        })                };                            </script>        </div>\n",
              "</body>\n",
              "</html>"
            ]
          },
          "metadata": {}
        }
      ]
    },
    {
      "cell_type": "markdown",
      "source": [
        "More or less the same across classes, so sentence length is invariant to sentiment type\n",
        "\n",
        "Extracting the top 100 phrases for each class"
      ],
      "metadata": {
        "id": "JFOQSqHI9S24"
      }
    },
    {
      "cell_type": "code",
      "source": [
        "negative_corpus = df_negative['sentence'].tolist()\n",
        "negative_corpus = \" \".join(negative_corpus)\n",
        "r.extract_keywords_from_text(negative_corpus)\n",
        "top_phrases_neg = r.get_ranked_phrases()[0:100]\n",
        "\n",
        "\n",
        "positive_corpus = df_positive['sentence'].tolist()\n",
        "positive_corpus = \" \".join(positive_corpus)\n",
        "r.extract_keywords_from_text(positive_corpus)\n",
        "top_phrases_pos = r.get_ranked_phrases()[0:100]\n",
        "\n",
        "\n",
        "neutral_corpus = df_neutral['sentence'].tolist()\n",
        "neutral_corpus = \" \".join(neutral_corpus)\n",
        "r.extract_keywords_from_text(neutral_corpus)\n",
        "top_phrases_neutral = r.get_ranked_phrases()[0:100]\n",
        "\n",
        "pd.DataFrame({'Top Negative Phrases':top_phrases_neg,'Top Positive Phrases':top_phrases_pos,'Top Neutral Phrases':top_phrases_neutral})"
      ],
      "metadata": {
        "id": "Pelr63eY9VpZ"
      },
      "execution_count": null,
      "outputs": []
    },
    {
      "cell_type": "markdown",
      "source": [
        "In a financial news snippet; Companies, Top executives and Countries are the frequently referred-to entitites. spaCy's built in NER model can be used to determine their counts"
      ],
      "metadata": {
        "id": "VFiylZnI-eL3"
      }
    },
    {
      "cell_type": "code",
      "source": [
        "def ner_counter(doc):\n",
        "    gpe_count = 0\n",
        "    org_count = 0\n",
        "    person_count = 0\n",
        "    money_count=0\n",
        "    for tok in doc.ents:\n",
        "        if tok.label_ == \"GPE\":\n",
        "            gpe_count = gpe_count + 1\n",
        "        elif tok.label_ == \"ORG\":\n",
        "            org_count=org_count+1\n",
        "        elif tok.label_ == \"PERSON\":\n",
        "            person_count=person_count+1\n",
        "        elif tok.label_ == \"MONEY\":\n",
        "            money_count=money_count+1\n",
        "    return (gpe_count,org_count,person_count,money_count)\n",
        "\n",
        "sentences = df['sentence'].tolist()\n",
        "sentences = \" \".join(sentences)\n",
        "sentences = nlp(sentences)\n",
        "entity_counts = list(ner_counter(sentences))\n",
        "entity_df = {'Entity Type':['GPE', 'ORG', 'PERSON', 'MONEY'],\n",
        "        'Count':entity_counts}\n",
        "fig = px.bar(entity_df,x='Entity Type',y='Count',color='Entity Type')\n",
        "fig.update_layout(height=500,width=500)"
      ],
      "metadata": {
        "id": "IwLwQIZG-fYO"
      },
      "execution_count": null,
      "outputs": []
    },
    {
      "cell_type": "code",
      "source": [
        ""
      ],
      "metadata": {
        "id": "VRZIa2ST_sSp"
      },
      "execution_count": null,
      "outputs": []
    },
    {
      "cell_type": "code",
      "source": [
        "from sklearn.model_selection import train_test_split\n",
        "from sklearn.pipeline import Pipeline\n",
        "from sklearn.feature_extraction.text import CountVectorizer\n",
        "from sklearn.linear_model import SGDClassifier\n",
        "from sklearn.utils import resample\n",
        "from sklearn.metrics import classification_report"
      ],
      "metadata": {
        "id": "Uy1hN9ZB_sPm"
      },
      "execution_count": null,
      "outputs": []
    },
    {
      "cell_type": "markdown",
      "source": [
        "Understanding algorithm \n"
      ],
      "metadata": {
        "id": "LIgUwkU6HjsH"
      }
    },
    {
      "cell_type": "code",
      "source": [
        ""
      ],
      "metadata": {
        "id": "ao_dY9LI_sJ_"
      },
      "execution_count": null,
      "outputs": []
    },
    {
      "cell_type": "code",
      "source": [
        "from sklearn.model_selection import train_test_split\n",
        "\n",
        "# Split test data from training data\n",
        "train_sentences, test_sentences, train_labels, test_labels = train_test_split(\n",
        "    dataset['sentence'], \n",
        "    dataset['label'], \n",
        "    test_size=0.2, \n",
        "    stratify=dataset['label']  # make sure the same proportion of labels is in the test set and training set\n",
        ")\n"
      ],
      "metadata": {
        "id": "Z6w8TyRqTt0A"
      },
      "execution_count": null,
      "outputs": []
    },
    {
      "cell_type": "code",
      "source": [
        "X_train,X_test,y_train,y_test = train_test_split(df1['sentence'], df1['label'])"
      ],
      "metadata": {
        "id": "Y4sbwwfSBmt-"
      },
      "execution_count": null,
      "outputs": []
    },
    {
      "cell_type": "code",
      "source": [
        "SD_clf = Pipeline([('cv', CountVectorizer(ngram_range=(1,2))),('clf',  SGDClassifier(class_weight = 'balanced',max_iter=10000,n_iter_no_change=10))])\n"
      ],
      "metadata": {
        "id": "lCbcQGvs_yBV"
      },
      "execution_count": null,
      "outputs": []
    },
    {
      "cell_type": "code",
      "source": [
        "SD_clf.fit(X_train,y_train)"
      ],
      "metadata": {
        "colab": {
          "base_uri": "https://localhost:8080/"
        },
        "id": "ovmTbQcd_7Pq",
        "outputId": "454fff38-f48a-4aad-d759-211c5cd4fa79"
      },
      "execution_count": null,
      "outputs": [
        {
          "output_type": "execute_result",
          "data": {
            "text/plain": [
              "Pipeline(steps=[('cv', CountVectorizer(ngram_range=(1, 2))),\n",
              "                ('clf',\n",
              "                 SGDClassifier(class_weight='balanced', max_iter=10000,\n",
              "                               n_iter_no_change=10))])"
            ]
          },
          "metadata": {},
          "execution_count": 63
        }
      ]
    },
    {
      "cell_type": "code",
      "source": [
        "y_pred = SD_clf.predict(X_test)\n",
        "pd.DataFrame(classification_report(y_pred,y_test,output_dict=True)).T"
      ],
      "metadata": {
        "colab": {
          "base_uri": "https://localhost:8080/",
          "height": 238
        },
        "id": "Ys6uMtaKB6TN",
        "outputId": "ab434283-5acb-40eb-e9fc-6e6d33b0d30c"
      },
      "execution_count": null,
      "outputs": [
        {
          "output_type": "execute_result",
          "data": {
            "text/plain": [
              "              precision    recall  f1-score    support\n",
              "negative       0.513158  0.750000  0.609375   104.0000\n",
              "neutral        0.860563  0.783333  0.820134   780.0000\n",
              "positive       0.640000  0.682927  0.660767   328.0000\n",
              "accuracy       0.753300  0.753300  0.753300     0.7533\n",
              "macro avg      0.671240  0.738753  0.696759  1212.0000\n",
              "weighted avg   0.771063  0.753300  0.758920  1212.0000"
            ],
            "text/html": [
              "\n",
              "  <div id=\"df-8a99d6f7-75a4-4fe1-ac59-210c2ee8b221\">\n",
              "    <div class=\"colab-df-container\">\n",
              "      <div>\n",
              "<style scoped>\n",
              "    .dataframe tbody tr th:only-of-type {\n",
              "        vertical-align: middle;\n",
              "    }\n",
              "\n",
              "    .dataframe tbody tr th {\n",
              "        vertical-align: top;\n",
              "    }\n",
              "\n",
              "    .dataframe thead th {\n",
              "        text-align: right;\n",
              "    }\n",
              "</style>\n",
              "<table border=\"1\" class=\"dataframe\">\n",
              "  <thead>\n",
              "    <tr style=\"text-align: right;\">\n",
              "      <th></th>\n",
              "      <th>precision</th>\n",
              "      <th>recall</th>\n",
              "      <th>f1-score</th>\n",
              "      <th>support</th>\n",
              "    </tr>\n",
              "  </thead>\n",
              "  <tbody>\n",
              "    <tr>\n",
              "      <th>negative</th>\n",
              "      <td>0.513158</td>\n",
              "      <td>0.750000</td>\n",
              "      <td>0.609375</td>\n",
              "      <td>104.0000</td>\n",
              "    </tr>\n",
              "    <tr>\n",
              "      <th>neutral</th>\n",
              "      <td>0.860563</td>\n",
              "      <td>0.783333</td>\n",
              "      <td>0.820134</td>\n",
              "      <td>780.0000</td>\n",
              "    </tr>\n",
              "    <tr>\n",
              "      <th>positive</th>\n",
              "      <td>0.640000</td>\n",
              "      <td>0.682927</td>\n",
              "      <td>0.660767</td>\n",
              "      <td>328.0000</td>\n",
              "    </tr>\n",
              "    <tr>\n",
              "      <th>accuracy</th>\n",
              "      <td>0.753300</td>\n",
              "      <td>0.753300</td>\n",
              "      <td>0.753300</td>\n",
              "      <td>0.7533</td>\n",
              "    </tr>\n",
              "    <tr>\n",
              "      <th>macro avg</th>\n",
              "      <td>0.671240</td>\n",
              "      <td>0.738753</td>\n",
              "      <td>0.696759</td>\n",
              "      <td>1212.0000</td>\n",
              "    </tr>\n",
              "    <tr>\n",
              "      <th>weighted avg</th>\n",
              "      <td>0.771063</td>\n",
              "      <td>0.753300</td>\n",
              "      <td>0.758920</td>\n",
              "      <td>1212.0000</td>\n",
              "    </tr>\n",
              "  </tbody>\n",
              "</table>\n",
              "</div>\n",
              "      <button class=\"colab-df-convert\" onclick=\"convertToInteractive('df-8a99d6f7-75a4-4fe1-ac59-210c2ee8b221')\"\n",
              "              title=\"Convert this dataframe to an interactive table.\"\n",
              "              style=\"display:none;\">\n",
              "        \n",
              "  <svg xmlns=\"http://www.w3.org/2000/svg\" height=\"24px\"viewBox=\"0 0 24 24\"\n",
              "       width=\"24px\">\n",
              "    <path d=\"M0 0h24v24H0V0z\" fill=\"none\"/>\n",
              "    <path d=\"M18.56 5.44l.94 2.06.94-2.06 2.06-.94-2.06-.94-.94-2.06-.94 2.06-2.06.94zm-11 1L8.5 8.5l.94-2.06 2.06-.94-2.06-.94L8.5 2.5l-.94 2.06-2.06.94zm10 10l.94 2.06.94-2.06 2.06-.94-2.06-.94-.94-2.06-.94 2.06-2.06.94z\"/><path d=\"M17.41 7.96l-1.37-1.37c-.4-.4-.92-.59-1.43-.59-.52 0-1.04.2-1.43.59L10.3 9.45l-7.72 7.72c-.78.78-.78 2.05 0 2.83L4 21.41c.39.39.9.59 1.41.59.51 0 1.02-.2 1.41-.59l7.78-7.78 2.81-2.81c.8-.78.8-2.07 0-2.86zM5.41 20L4 18.59l7.72-7.72 1.47 1.35L5.41 20z\"/>\n",
              "  </svg>\n",
              "      </button>\n",
              "      \n",
              "  <style>\n",
              "    .colab-df-container {\n",
              "      display:flex;\n",
              "      flex-wrap:wrap;\n",
              "      gap: 12px;\n",
              "    }\n",
              "\n",
              "    .colab-df-convert {\n",
              "      background-color: #E8F0FE;\n",
              "      border: none;\n",
              "      border-radius: 50%;\n",
              "      cursor: pointer;\n",
              "      display: none;\n",
              "      fill: #1967D2;\n",
              "      height: 32px;\n",
              "      padding: 0 0 0 0;\n",
              "      width: 32px;\n",
              "    }\n",
              "\n",
              "    .colab-df-convert:hover {\n",
              "      background-color: #E2EBFA;\n",
              "      box-shadow: 0px 1px 2px rgba(60, 64, 67, 0.3), 0px 1px 3px 1px rgba(60, 64, 67, 0.15);\n",
              "      fill: #174EA6;\n",
              "    }\n",
              "\n",
              "    [theme=dark] .colab-df-convert {\n",
              "      background-color: #3B4455;\n",
              "      fill: #D2E3FC;\n",
              "    }\n",
              "\n",
              "    [theme=dark] .colab-df-convert:hover {\n",
              "      background-color: #434B5C;\n",
              "      box-shadow: 0px 1px 3px 1px rgba(0, 0, 0, 0.15);\n",
              "      filter: drop-shadow(0px 1px 2px rgba(0, 0, 0, 0.3));\n",
              "      fill: #FFFFFF;\n",
              "    }\n",
              "  </style>\n",
              "\n",
              "      <script>\n",
              "        const buttonEl =\n",
              "          document.querySelector('#df-8a99d6f7-75a4-4fe1-ac59-210c2ee8b221 button.colab-df-convert');\n",
              "        buttonEl.style.display =\n",
              "          google.colab.kernel.accessAllowed ? 'block' : 'none';\n",
              "\n",
              "        async function convertToInteractive(key) {\n",
              "          const element = document.querySelector('#df-8a99d6f7-75a4-4fe1-ac59-210c2ee8b221');\n",
              "          const dataTable =\n",
              "            await google.colab.kernel.invokeFunction('convertToInteractive',\n",
              "                                                     [key], {});\n",
              "          if (!dataTable) return;\n",
              "\n",
              "          const docLinkHtml = 'Like what you see? Visit the ' +\n",
              "            '<a target=\"_blank\" href=https://colab.research.google.com/notebooks/data_table.ipynb>data table notebook</a>'\n",
              "            + ' to learn more about interactive tables.';\n",
              "          element.innerHTML = '';\n",
              "          dataTable['output_type'] = 'display_data';\n",
              "          await google.colab.output.renderOutput(dataTable, element);\n",
              "          const docLink = document.createElement('div');\n",
              "          docLink.innerHTML = docLinkHtml;\n",
              "          element.appendChild(docLink);\n",
              "        }\n",
              "      </script>\n",
              "    </div>\n",
              "  </div>\n",
              "  "
            ]
          },
          "metadata": {},
          "execution_count": 64
        }
      ]
    },
    {
      "cell_type": "markdown",
      "source": [
        "The extremely poor precision and recall scores for the 'negative' class confirms that class-imabalance is indeed the issue\n",
        "\n",
        "Oversampling the negative and positive classes could help."
      ],
      "metadata": {
        "id": "_Sl4hkNQCDKv"
      }
    },
    {
      "cell_type": "code",
      "source": [
        "df_neutral = df1[(df1['label']=='neutral')] \n",
        "df_negative = df1[(df1['label']=='negative')]\n",
        "df_positive = df1[(df1['label']=='positive')]\n",
        "\n",
        "\n",
        "# upsample minority classes\n",
        "df_negative_upsampled = resample(df_negative, \n",
        "                                 replace=True,    \n",
        "                                 n_samples= 2000, \n",
        "                                 random_state=42)  \n",
        "\n",
        "df_positive_upsampled = resample(df_positive, \n",
        "                                 replace=True,    \n",
        "                                 n_samples= 2000, \n",
        "                                 random_state=42)  \n",
        "\n",
        "\n",
        "# Concatenate the upsampled dataframes with the neutral dataframe\n",
        "df_upsampled = pd.concat([df_negative_upsampled,df_neutral,df_positive_upsampled])"
      ],
      "metadata": {
        "id": "rkWxmBdpCHu6"
      },
      "execution_count": null,
      "outputs": []
    },
    {
      "cell_type": "markdown",
      "source": [
        "Fitting the model again where the negative and positive class is oversampled by 2000 samples each"
      ],
      "metadata": {
        "id": "T0LX1IHGCWZd"
      }
    },
    {
      "cell_type": "code",
      "source": [
        "X_train,X_test,y_train,y_test = train_test_split(df_upsampled['sentence'], df_upsampled['label'])\n",
        "SD_clf_upsampled = Pipeline([('cv', CountVectorizer(ngram_range=(1,2))),('clf',  SGDClassifier(class_weight = 'balanced',max_iter=20000,n_iter_no_change=10))])\n",
        "\n",
        "SD_clf_upsampled.fit(X_train,y_train)"
      ],
      "metadata": {
        "colab": {
          "base_uri": "https://localhost:8080/"
        },
        "id": "HmF74ld6CTaT",
        "outputId": "aacc1f8b-cf3c-4f69-ce1e-e9763f69b756"
      },
      "execution_count": null,
      "outputs": [
        {
          "output_type": "execute_result",
          "data": {
            "text/plain": [
              "Pipeline(steps=[('cv', CountVectorizer(ngram_range=(1, 2))),\n",
              "                ('clf',\n",
              "                 SGDClassifier(class_weight='balanced', max_iter=20000,\n",
              "                               n_iter_no_change=10))])"
            ]
          },
          "metadata": {},
          "execution_count": 69
        }
      ]
    },
    {
      "cell_type": "code",
      "source": [
        "SD_clf_upsampled.score(X_test, y_test)"
      ],
      "metadata": {
        "colab": {
          "base_uri": "https://localhost:8080/"
        },
        "id": "Wm8he3ZvCrAM",
        "outputId": "90908311-2e9b-4845-8a4c-3ec8fb543d11"
      },
      "execution_count": null,
      "outputs": [
        {
          "output_type": "execute_result",
          "data": {
            "text/plain": [
              "0.9122093023255814"
            ]
          },
          "metadata": {},
          "execution_count": 70
        }
      ]
    },
    {
      "cell_type": "markdown",
      "source": [
        "91% now!, that's a pretty impressive step-up from the model trained with the unsampled dataset."
      ],
      "metadata": {
        "id": "wK42PUd8CyeH"
      }
    },
    {
      "cell_type": "code",
      "source": [
        "y_pred = SD_clf_upsampled.predict(X_test)\n",
        "pd.DataFrame(classification_report(y_pred,y_test,output_dict=True)).T"
      ],
      "metadata": {
        "colab": {
          "base_uri": "https://localhost:8080/",
          "height": 238
        },
        "id": "ijiDVFnKCx2H",
        "outputId": "df22d841-3419-4d20-fc4a-768553935851"
      },
      "execution_count": null,
      "outputs": [
        {
          "output_type": "execute_result",
          "data": {
            "text/plain": [
              "              precision    recall  f1-score      support\n",
              "negative       0.979879  0.960552  0.970120   507.000000\n",
              "neutral        0.899045  0.903978  0.901505   729.000000\n",
              "positive       0.863265  0.873967  0.868583   484.000000\n",
              "accuracy       0.912209  0.912209  0.912209     0.912209\n",
              "macro avg      0.914063  0.912832  0.913402  1720.000000\n",
              "weighted avg   0.912804  0.912209  0.912466  1720.000000"
            ],
            "text/html": [
              "\n",
              "  <div id=\"df-7dbf8280-1888-4623-bb61-2a18e2ee85b3\">\n",
              "    <div class=\"colab-df-container\">\n",
              "      <div>\n",
              "<style scoped>\n",
              "    .dataframe tbody tr th:only-of-type {\n",
              "        vertical-align: middle;\n",
              "    }\n",
              "\n",
              "    .dataframe tbody tr th {\n",
              "        vertical-align: top;\n",
              "    }\n",
              "\n",
              "    .dataframe thead th {\n",
              "        text-align: right;\n",
              "    }\n",
              "</style>\n",
              "<table border=\"1\" class=\"dataframe\">\n",
              "  <thead>\n",
              "    <tr style=\"text-align: right;\">\n",
              "      <th></th>\n",
              "      <th>precision</th>\n",
              "      <th>recall</th>\n",
              "      <th>f1-score</th>\n",
              "      <th>support</th>\n",
              "    </tr>\n",
              "  </thead>\n",
              "  <tbody>\n",
              "    <tr>\n",
              "      <th>negative</th>\n",
              "      <td>0.979879</td>\n",
              "      <td>0.960552</td>\n",
              "      <td>0.970120</td>\n",
              "      <td>507.000000</td>\n",
              "    </tr>\n",
              "    <tr>\n",
              "      <th>neutral</th>\n",
              "      <td>0.899045</td>\n",
              "      <td>0.903978</td>\n",
              "      <td>0.901505</td>\n",
              "      <td>729.000000</td>\n",
              "    </tr>\n",
              "    <tr>\n",
              "      <th>positive</th>\n",
              "      <td>0.863265</td>\n",
              "      <td>0.873967</td>\n",
              "      <td>0.868583</td>\n",
              "      <td>484.000000</td>\n",
              "    </tr>\n",
              "    <tr>\n",
              "      <th>accuracy</th>\n",
              "      <td>0.912209</td>\n",
              "      <td>0.912209</td>\n",
              "      <td>0.912209</td>\n",
              "      <td>0.912209</td>\n",
              "    </tr>\n",
              "    <tr>\n",
              "      <th>macro avg</th>\n",
              "      <td>0.914063</td>\n",
              "      <td>0.912832</td>\n",
              "      <td>0.913402</td>\n",
              "      <td>1720.000000</td>\n",
              "    </tr>\n",
              "    <tr>\n",
              "      <th>weighted avg</th>\n",
              "      <td>0.912804</td>\n",
              "      <td>0.912209</td>\n",
              "      <td>0.912466</td>\n",
              "      <td>1720.000000</td>\n",
              "    </tr>\n",
              "  </tbody>\n",
              "</table>\n",
              "</div>\n",
              "      <button class=\"colab-df-convert\" onclick=\"convertToInteractive('df-7dbf8280-1888-4623-bb61-2a18e2ee85b3')\"\n",
              "              title=\"Convert this dataframe to an interactive table.\"\n",
              "              style=\"display:none;\">\n",
              "        \n",
              "  <svg xmlns=\"http://www.w3.org/2000/svg\" height=\"24px\"viewBox=\"0 0 24 24\"\n",
              "       width=\"24px\">\n",
              "    <path d=\"M0 0h24v24H0V0z\" fill=\"none\"/>\n",
              "    <path d=\"M18.56 5.44l.94 2.06.94-2.06 2.06-.94-2.06-.94-.94-2.06-.94 2.06-2.06.94zm-11 1L8.5 8.5l.94-2.06 2.06-.94-2.06-.94L8.5 2.5l-.94 2.06-2.06.94zm10 10l.94 2.06.94-2.06 2.06-.94-2.06-.94-.94-2.06-.94 2.06-2.06.94z\"/><path d=\"M17.41 7.96l-1.37-1.37c-.4-.4-.92-.59-1.43-.59-.52 0-1.04.2-1.43.59L10.3 9.45l-7.72 7.72c-.78.78-.78 2.05 0 2.83L4 21.41c.39.39.9.59 1.41.59.51 0 1.02-.2 1.41-.59l7.78-7.78 2.81-2.81c.8-.78.8-2.07 0-2.86zM5.41 20L4 18.59l7.72-7.72 1.47 1.35L5.41 20z\"/>\n",
              "  </svg>\n",
              "      </button>\n",
              "      \n",
              "  <style>\n",
              "    .colab-df-container {\n",
              "      display:flex;\n",
              "      flex-wrap:wrap;\n",
              "      gap: 12px;\n",
              "    }\n",
              "\n",
              "    .colab-df-convert {\n",
              "      background-color: #E8F0FE;\n",
              "      border: none;\n",
              "      border-radius: 50%;\n",
              "      cursor: pointer;\n",
              "      display: none;\n",
              "      fill: #1967D2;\n",
              "      height: 32px;\n",
              "      padding: 0 0 0 0;\n",
              "      width: 32px;\n",
              "    }\n",
              "\n",
              "    .colab-df-convert:hover {\n",
              "      background-color: #E2EBFA;\n",
              "      box-shadow: 0px 1px 2px rgba(60, 64, 67, 0.3), 0px 1px 3px 1px rgba(60, 64, 67, 0.15);\n",
              "      fill: #174EA6;\n",
              "    }\n",
              "\n",
              "    [theme=dark] .colab-df-convert {\n",
              "      background-color: #3B4455;\n",
              "      fill: #D2E3FC;\n",
              "    }\n",
              "\n",
              "    [theme=dark] .colab-df-convert:hover {\n",
              "      background-color: #434B5C;\n",
              "      box-shadow: 0px 1px 3px 1px rgba(0, 0, 0, 0.15);\n",
              "      filter: drop-shadow(0px 1px 2px rgba(0, 0, 0, 0.3));\n",
              "      fill: #FFFFFF;\n",
              "    }\n",
              "  </style>\n",
              "\n",
              "      <script>\n",
              "        const buttonEl =\n",
              "          document.querySelector('#df-7dbf8280-1888-4623-bb61-2a18e2ee85b3 button.colab-df-convert');\n",
              "        buttonEl.style.display =\n",
              "          google.colab.kernel.accessAllowed ? 'block' : 'none';\n",
              "\n",
              "        async function convertToInteractive(key) {\n",
              "          const element = document.querySelector('#df-7dbf8280-1888-4623-bb61-2a18e2ee85b3');\n",
              "          const dataTable =\n",
              "            await google.colab.kernel.invokeFunction('convertToInteractive',\n",
              "                                                     [key], {});\n",
              "          if (!dataTable) return;\n",
              "\n",
              "          const docLinkHtml = 'Like what you see? Visit the ' +\n",
              "            '<a target=\"_blank\" href=https://colab.research.google.com/notebooks/data_table.ipynb>data table notebook</a>'\n",
              "            + ' to learn more about interactive tables.';\n",
              "          element.innerHTML = '';\n",
              "          dataTable['output_type'] = 'display_data';\n",
              "          await google.colab.output.renderOutput(dataTable, element);\n",
              "          const docLink = document.createElement('div');\n",
              "          docLink.innerHTML = docLinkHtml;\n",
              "          element.appendChild(docLink);\n",
              "        }\n",
              "      </script>\n",
              "    </div>\n",
              "  </div>\n",
              "  "
            ]
          },
          "metadata": {},
          "execution_count": 71
        }
      ]
    },
    {
      "cell_type": "markdown",
      "source": [
        "Precision, Recall and F1 have increased for all the classes\n",
        "\n",
        "Finally, Eli5 can assist with interpreting the model"
      ],
      "metadata": {
        "id": "owcAVnUfC7xY"
      }
    },
    {
      "cell_type": "code",
      "source": [
        "pip install eli5"
      ],
      "metadata": {
        "colab": {
          "base_uri": "https://localhost:8080/"
        },
        "id": "BcGWMvmkDVHp",
        "outputId": "826693e3-8c9b-4fab-c2d2-af73f769fa99"
      },
      "execution_count": null,
      "outputs": [
        {
          "output_type": "stream",
          "name": "stdout",
          "text": [
            "Collecting eli5\n",
            "  Downloading eli5-0.11.0-py2.py3-none-any.whl (106 kB)\n",
            "\u001b[?25l\r\u001b[K     |███                             | 10 kB 18.0 MB/s eta 0:00:01\r\u001b[K     |██████▏                         | 20 kB 15.5 MB/s eta 0:00:01\r\u001b[K     |█████████▎                      | 30 kB 9.6 MB/s eta 0:00:01\r\u001b[K     |████████████▍                   | 40 kB 8.2 MB/s eta 0:00:01\r\u001b[K     |███████████████▌                | 51 kB 4.7 MB/s eta 0:00:01\r\u001b[K     |██████████████████▌             | 61 kB 5.5 MB/s eta 0:00:01\r\u001b[K     |█████████████████████▋          | 71 kB 5.5 MB/s eta 0:00:01\r\u001b[K     |████████████████████████▊       | 81 kB 4.3 MB/s eta 0:00:01\r\u001b[K     |███████████████████████████▉    | 92 kB 4.8 MB/s eta 0:00:01\r\u001b[K     |███████████████████████████████ | 102 kB 5.2 MB/s eta 0:00:01\r\u001b[K     |████████████████████████████████| 106 kB 5.2 MB/s \n",
            "\u001b[?25hRequirement already satisfied: scipy in /usr/local/lib/python3.7/dist-packages (from eli5) (1.4.1)\n",
            "Requirement already satisfied: jinja2 in /usr/local/lib/python3.7/dist-packages (from eli5) (2.11.3)\n",
            "Requirement already satisfied: graphviz in /usr/local/lib/python3.7/dist-packages (from eli5) (0.10.1)\n",
            "Requirement already satisfied: scikit-learn>=0.20 in /usr/local/lib/python3.7/dist-packages (from eli5) (1.0.2)\n",
            "Requirement already satisfied: numpy>=1.9.0 in /usr/local/lib/python3.7/dist-packages (from eli5) (1.21.5)\n",
            "Requirement already satisfied: attrs>16.0.0 in /usr/local/lib/python3.7/dist-packages (from eli5) (21.4.0)\n",
            "Requirement already satisfied: six in /usr/local/lib/python3.7/dist-packages (from eli5) (1.15.0)\n",
            "Requirement already satisfied: tabulate>=0.7.7 in /usr/local/lib/python3.7/dist-packages (from eli5) (0.8.9)\n",
            "Requirement already satisfied: joblib>=0.11 in /usr/local/lib/python3.7/dist-packages (from scikit-learn>=0.20->eli5) (1.1.0)\n",
            "Requirement already satisfied: threadpoolctl>=2.0.0 in /usr/local/lib/python3.7/dist-packages (from scikit-learn>=0.20->eli5) (3.1.0)\n",
            "Requirement already satisfied: MarkupSafe>=0.23 in /usr/local/lib/python3.7/dist-packages (from jinja2->eli5) (2.0.1)\n",
            "Installing collected packages: eli5\n",
            "Successfully installed eli5-0.11.0\n"
          ]
        }
      ]
    },
    {
      "cell_type": "code",
      "source": [
        "import eli5"
      ],
      "metadata": {
        "id": "tSKsrmulDGFh"
      },
      "execution_count": null,
      "outputs": []
    },
    {
      "cell_type": "code",
      "source": [
        "eli5.explain_weights(SD_clf_upsampled)"
      ],
      "metadata": {
        "colab": {
          "base_uri": "https://localhost:8080/",
          "height": 567
        },
        "id": "cOk3N0XdC4Pe",
        "outputId": "bf34eefc-57b6-4a4a-8133-766b9fe2a2cc"
      },
      "execution_count": null,
      "outputs": [
        {
          "output_type": "stream",
          "name": "stderr",
          "text": [
            "/usr/local/lib/python3.7/dist-packages/sklearn/utils/deprecation.py:87: FutureWarning:\n",
            "\n",
            "Function get_feature_names is deprecated; get_feature_names is deprecated in 1.0 and will be removed in 1.2. Please use get_feature_names_out instead.\n",
            "\n"
          ]
        },
        {
          "output_type": "execute_result",
          "data": {
            "text/plain": [
              "Explanation(estimator=\"Pipeline(steps=[('cv', CountVectorizer(ngram_range=(1, 2))),\\n                ('clf',\\n                 SGDClassifier(class_weight='balanced', max_iter=20000,\\n                               n_iter_no_change=10))])\", description=\"\\nFeatures with largest coefficients per class.\\nCaveats:\\n1. Be careful with features which are not\\n   independent - weights don't show their importance.\\n2. If scale of input features is different then scale of coefficients\\n   will also be different, making direct comparison between coefficient values\\n   incorrect.\\n3. Depending on regularization, rare features sometimes may have high\\n   coefficients; this doesn't mean they contribute much to the\\n   classification result for most examples.\\n\", error=None, method='linear model', is_regression=False, targets=[TargetExplanation(target='negative', feature_weights=FeatureWeights(pos=[FeatureWeight(feature='down', weight=3.103483240052442, std=None, value=None), FeatureWeight(feature='decreased', weight=2.870736901671771, std=None, value=None), FeatureWeight(feature='fell', weight=2.060500288882481, std=None, value=None), FeatureWeight(feature='dropped', weight=1.6473867167242355, std=None, value=None), FeatureWeight(feature='staff', weight=1.6204732255785772, std=None, value=None), FeatureWeight(feature='jobs', weight=1.5513796506041695, std=None, value=None), FeatureWeight(feature='off', weight=1.524466159458512, std=None, value=None), FeatureWeight(feature='lower', weight=1.4837339533179714, std=None, value=None), FeatureWeight(feature='down from', weight=1.4277351544943384, std=None, value=None), FeatureWeight(feature='decreased to', weight=1.3179093733793867, std=None, value=None), FeatureWeight(feature='cut', weight=1.290995882233732, std=None, value=None), FeatureWeight(feature='declined', weight=1.2771771672388528, std=None, value=None), FeatureWeight(feature='to eur', weight=1.2553312480019447, std=None, value=None)], neg=[FeatureWeight(feature='<BIAS>', weight=-3.097617696423409, std=None, value=None), FeatureWeight(feature='rose', weight=-1.6714044524934595, std=None, value=None), FeatureWeight(feature='rose to', weight=-1.6321201240411378, std=None, value=None), FeatureWeight(feature='increased', weight=-1.5201225263938598, std=None, value=None), FeatureWeight(feature='increase', weight=-1.4401059918010053, std=None, value=None), FeatureWeight(feature='up from', weight=-1.4401059918010017, std=None, value=None), FeatureWeight(feature='up', weight=-1.4241154602737947, std=None, value=None)], pos_remaining=6820, neg_remaining=10166), proba=None, score=None, weighted_spans=None, heatmap=None), TargetExplanation(target='neutral', feature_weights=FeatureWeights(pos=[FeatureWeight(feature='<BIAS>', weight=1.157211158879691, std=None, value=None), FeatureWeight(feature='approximately', weight=0.906138276261904, std=None, value=None)], neg=[FeatureWeight(feature='leading', weight=-1.3029488508662317, std=None, value=None), FeatureWeight(feature='negative', weight=-1.2538346442871116, std=None, value=None), FeatureWeight(feature='positive', weight=-1.2200093615756535, std=None, value=None), FeatureWeight(feature='loss', weight=-1.2167619265995135, std=None, value=None), FeatureWeight(feature='down', weight=-1.1351214112993895, std=None, value=None), FeatureWeight(feature='jobs', weight=-1.0866566917154954, std=None, value=None), FeatureWeight(feature='signed', weight=-1.0642234109003337, std=None, value=None), FeatureWeight(feature='growing international', weight=-1.0030677154296903, std=None, value=None), FeatureWeight(feature='sales', weight=-0.9497578228613984, std=None, value=None), FeatureWeight(feature='grew', weight=-0.9194787391438833, std=None, value=None), FeatureWeight(feature='off', weight=-0.9181797651534265, std=None, value=None), FeatureWeight(feature='increased', weight=-0.9162313041677456, std=None, value=None), FeatureWeight(feature='performance', weight=-0.9015918672953093, std=None, value=None), FeatureWeight(feature='increase', weight=-0.8983444323191697, std=None, value=None), FeatureWeight(feature='percent to', weight=-0.8690655585743096, std=None, value=None), FeatureWeight(feature='from eur', weight=-0.8690655585743058, std=None, value=None), FeatureWeight(feature='lower', weight=-0.8511786867257339, std=None, value=None), FeatureWeight(feature='result', weight=-0.8313433538914784, std=None, value=None)], pos_remaining=19514, neg_remaining=14758), proba=None, score=None, weighted_spans=None, heatmap=None), TargetExplanation(target='positive', feature_weights=FeatureWeights(pos=[FeatureWeight(feature='increased', weight=2.3207721632865734, std=None, value=None), FeatureWeight(feature='rose', weight=2.024824800664927, std=None, value=None), FeatureWeight(feature='grew', weight=2.007347454922539, std=None, value=None), FeatureWeight(feature='increase', weight=1.9645385716263968, std=None, value=None), FeatureWeight(feature='improved', weight=1.8248613226568544, std=None, value=None), FeatureWeight(feature='up', weight=1.7836798845108188, std=None, value=None), FeatureWeight(feature='positive', weight=1.7669455028586896, std=None, value=None), FeatureWeight(feature='leading', weight=1.6733320274854817, std=None, value=None), FeatureWeight(feature='up from', weight=1.551132124258324, std=None, value=None), FeatureWeight(feature='rose to', weight=1.3686459919926388, std=None, value=None), FeatureWeight(feature='signed', weight=1.3679030279023743, std=None, value=None), FeatureWeight(feature='won', weight=1.288512007971354, std=None, value=None), FeatureWeight(feature='increased by', weight=1.277402925859796, std=None, value=None), FeatureWeight(feature='growing international', weight=1.186159859726954, std=None, value=None), FeatureWeight(feature='cost', weight=1.1369827127999843, std=None, value=None)], neg=[FeatureWeight(feature='<BIAS>', weight=-3.066422729821608, std=None, value=None), FeatureWeight(feature='decreased', weight=-2.3127764545056424, std=None, value=None), FeatureWeight(feature='down', weight=-1.762947648468221, std=None, value=None), FeatureWeight(feature='fell', weight=-1.5606137612197826, std=None, value=None), FeatureWeight(feature='declined', weight=-1.1218757762979614, std=None, value=None)], pos_remaining=12207, neg_remaining=17314), proba=None, score=None, weighted_spans=None, heatmap=None)], feature_importances=None, decision_tree=None, highlight_spaces=None, transition_features=None, image=None)"
            ],
            "text/html": [
              "\n",
              "    <style>\n",
              "    table.eli5-weights tr:hover {\n",
              "        filter: brightness(85%);\n",
              "    }\n",
              "</style>\n",
              "\n",
              "\n",
              "\n",
              "    \n",
              "\n",
              "    \n",
              "\n",
              "    \n",
              "\n",
              "    \n",
              "\n",
              "    \n",
              "\n",
              "    \n",
              "\n",
              "\n",
              "    \n",
              "\n",
              "    \n",
              "\n",
              "    \n",
              "\n",
              "    \n",
              "        \n",
              "\n",
              "    \n",
              "        <table class=\"eli5-weights-wrapper\" style=\"border-collapse: collapse; border: none; margin-bottom: 1.5em;\">\n",
              "            <tr>\n",
              "                \n",
              "                    <td style=\"padding: 0.5em; border: 1px solid black; text-align: center;\">\n",
              "                        <b>\n",
              "    \n",
              "        y=negative\n",
              "    \n",
              "</b>\n",
              "\n",
              "top features\n",
              "                    </td>\n",
              "                \n",
              "                    <td style=\"padding: 0.5em; border: 1px solid black; text-align: center;\">\n",
              "                        <b>\n",
              "    \n",
              "        y=neutral\n",
              "    \n",
              "</b>\n",
              "\n",
              "top features\n",
              "                    </td>\n",
              "                \n",
              "                    <td style=\"padding: 0.5em; border: 1px solid black; text-align: center;\">\n",
              "                        <b>\n",
              "    \n",
              "        y=positive\n",
              "    \n",
              "</b>\n",
              "\n",
              "top features\n",
              "                    </td>\n",
              "                \n",
              "            </tr>\n",
              "            <tr>\n",
              "                \n",
              "                    \n",
              "                        <td style=\"padding: 0px; border: 1px solid black; vertical-align: top;\">\n",
              "                            \n",
              "                                \n",
              "                                    \n",
              "                                    \n",
              "    \n",
              "    <table class=\"eli5-weights\"\n",
              "           style=\"border-collapse: collapse; border: none; margin-top: 0em; table-layout: auto; width: 100%;\">\n",
              "        <thead>\n",
              "        <tr style=\"border: none;\">\n",
              "            \n",
              "                <th style=\"padding: 0 1em 0 0.5em; text-align: right; border: none;\" title=\"Feature weights. Note that weights do not account for feature value scales, so if feature values have different scales, features with highest weights might not be the most important.\">\n",
              "                    Weight<sup>?</sup>\n",
              "                </th>\n",
              "            \n",
              "            <th style=\"padding: 0 0.5em 0 0.5em; text-align: left; border: none;\">Feature</th>\n",
              "            \n",
              "        </tr>\n",
              "        </thead>\n",
              "        <tbody>\n",
              "        \n",
              "            <tr style=\"background-color: hsl(120, 100.00%, 80.00%); border: none;\">\n",
              "    <td style=\"padding: 0 1em 0 0.5em; text-align: right; border: none;\">\n",
              "        +3.103\n",
              "    </td>\n",
              "    <td style=\"padding: 0 0.5em 0 0.5em; text-align: left; border: none;\">\n",
              "        down\n",
              "    </td>\n",
              "    \n",
              "</tr>\n",
              "        \n",
              "            <tr style=\"background-color: hsl(120, 100.00%, 81.06%); border: none;\">\n",
              "    <td style=\"padding: 0 1em 0 0.5em; text-align: right; border: none;\">\n",
              "        +2.871\n",
              "    </td>\n",
              "    <td style=\"padding: 0 0.5em 0 0.5em; text-align: left; border: none;\">\n",
              "        decreased\n",
              "    </td>\n",
              "    \n",
              "</tr>\n",
              "        \n",
              "            <tr style=\"background-color: hsl(120, 100.00%, 84.99%); border: none;\">\n",
              "    <td style=\"padding: 0 1em 0 0.5em; text-align: right; border: none;\">\n",
              "        +2.061\n",
              "    </td>\n",
              "    <td style=\"padding: 0 0.5em 0 0.5em; text-align: left; border: none;\">\n",
              "        fell\n",
              "    </td>\n",
              "    \n",
              "</tr>\n",
              "        \n",
              "            <tr style=\"background-color: hsl(120, 100.00%, 87.16%); border: none;\">\n",
              "    <td style=\"padding: 0 1em 0 0.5em; text-align: right; border: none;\">\n",
              "        +1.647\n",
              "    </td>\n",
              "    <td style=\"padding: 0 0.5em 0 0.5em; text-align: left; border: none;\">\n",
              "        dropped\n",
              "    </td>\n",
              "    \n",
              "</tr>\n",
              "        \n",
              "            <tr style=\"background-color: hsl(120, 100.00%, 87.31%); border: none;\">\n",
              "    <td style=\"padding: 0 1em 0 0.5em; text-align: right; border: none;\">\n",
              "        +1.620\n",
              "    </td>\n",
              "    <td style=\"padding: 0 0.5em 0 0.5em; text-align: left; border: none;\">\n",
              "        staff\n",
              "    </td>\n",
              "    \n",
              "</tr>\n",
              "        \n",
              "            <tr style=\"background-color: hsl(120, 100.00%, 87.69%); border: none;\">\n",
              "    <td style=\"padding: 0 1em 0 0.5em; text-align: right; border: none;\">\n",
              "        +1.551\n",
              "    </td>\n",
              "    <td style=\"padding: 0 0.5em 0 0.5em; text-align: left; border: none;\">\n",
              "        jobs\n",
              "    </td>\n",
              "    \n",
              "</tr>\n",
              "        \n",
              "            <tr style=\"background-color: hsl(120, 100.00%, 87.84%); border: none;\">\n",
              "    <td style=\"padding: 0 1em 0 0.5em; text-align: right; border: none;\">\n",
              "        +1.524\n",
              "    </td>\n",
              "    <td style=\"padding: 0 0.5em 0 0.5em; text-align: left; border: none;\">\n",
              "        off\n",
              "    </td>\n",
              "    \n",
              "</tr>\n",
              "        \n",
              "            <tr style=\"background-color: hsl(120, 100.00%, 88.07%); border: none;\">\n",
              "    <td style=\"padding: 0 1em 0 0.5em; text-align: right; border: none;\">\n",
              "        +1.484\n",
              "    </td>\n",
              "    <td style=\"padding: 0 0.5em 0 0.5em; text-align: left; border: none;\">\n",
              "        lower\n",
              "    </td>\n",
              "    \n",
              "</tr>\n",
              "        \n",
              "            <tr style=\"background-color: hsl(120, 100.00%, 88.39%); border: none;\">\n",
              "    <td style=\"padding: 0 1em 0 0.5em; text-align: right; border: none;\">\n",
              "        +1.428\n",
              "    </td>\n",
              "    <td style=\"padding: 0 0.5em 0 0.5em; text-align: left; border: none;\">\n",
              "        down from\n",
              "    </td>\n",
              "    \n",
              "</tr>\n",
              "        \n",
              "            <tr style=\"background-color: hsl(120, 100.00%, 89.02%); border: none;\">\n",
              "    <td style=\"padding: 0 1em 0 0.5em; text-align: right; border: none;\">\n",
              "        +1.318\n",
              "    </td>\n",
              "    <td style=\"padding: 0 0.5em 0 0.5em; text-align: left; border: none;\">\n",
              "        decreased to\n",
              "    </td>\n",
              "    \n",
              "</tr>\n",
              "        \n",
              "            <tr style=\"background-color: hsl(120, 100.00%, 89.18%); border: none;\">\n",
              "    <td style=\"padding: 0 1em 0 0.5em; text-align: right; border: none;\">\n",
              "        +1.291\n",
              "    </td>\n",
              "    <td style=\"padding: 0 0.5em 0 0.5em; text-align: left; border: none;\">\n",
              "        cut\n",
              "    </td>\n",
              "    \n",
              "</tr>\n",
              "        \n",
              "            <tr style=\"background-color: hsl(120, 100.00%, 89.26%); border: none;\">\n",
              "    <td style=\"padding: 0 1em 0 0.5em; text-align: right; border: none;\">\n",
              "        +1.277\n",
              "    </td>\n",
              "    <td style=\"padding: 0 0.5em 0 0.5em; text-align: left; border: none;\">\n",
              "        declined\n",
              "    </td>\n",
              "    \n",
              "</tr>\n",
              "        \n",
              "            <tr style=\"background-color: hsl(120, 100.00%, 89.39%); border: none;\">\n",
              "    <td style=\"padding: 0 1em 0 0.5em; text-align: right; border: none;\">\n",
              "        +1.255\n",
              "    </td>\n",
              "    <td style=\"padding: 0 0.5em 0 0.5em; text-align: left; border: none;\">\n",
              "        to eur\n",
              "    </td>\n",
              "    \n",
              "</tr>\n",
              "        \n",
              "        \n",
              "            <tr style=\"background-color: hsl(120, 100.00%, 89.39%); border: none;\">\n",
              "                <td colspan=\"2\" style=\"padding: 0 0.5em 0 0.5em; text-align: center; border: none; white-space: nowrap;\">\n",
              "                    <i>&hellip; 6820 more positive &hellip;</i>\n",
              "                </td>\n",
              "            </tr>\n",
              "        \n",
              "\n",
              "        \n",
              "            <tr style=\"background-color: hsl(0, 100.00%, 88.41%); border: none;\">\n",
              "                <td colspan=\"2\" style=\"padding: 0 0.5em 0 0.5em; text-align: center; border: none; white-space: nowrap;\">\n",
              "                    <i>&hellip; 10166 more negative &hellip;</i>\n",
              "                </td>\n",
              "            </tr>\n",
              "        \n",
              "        \n",
              "            <tr style=\"background-color: hsl(0, 100.00%, 88.41%); border: none;\">\n",
              "    <td style=\"padding: 0 1em 0 0.5em; text-align: right; border: none;\">\n",
              "        -1.424\n",
              "    </td>\n",
              "    <td style=\"padding: 0 0.5em 0 0.5em; text-align: left; border: none;\">\n",
              "        up\n",
              "    </td>\n",
              "    \n",
              "</tr>\n",
              "        \n",
              "            <tr style=\"background-color: hsl(0, 100.00%, 88.32%); border: none;\">\n",
              "    <td style=\"padding: 0 1em 0 0.5em; text-align: right; border: none;\">\n",
              "        -1.440\n",
              "    </td>\n",
              "    <td style=\"padding: 0 0.5em 0 0.5em; text-align: left; border: none;\">\n",
              "        up from\n",
              "    </td>\n",
              "    \n",
              "</tr>\n",
              "        \n",
              "            <tr style=\"background-color: hsl(0, 100.00%, 88.32%); border: none;\">\n",
              "    <td style=\"padding: 0 1em 0 0.5em; text-align: right; border: none;\">\n",
              "        -1.440\n",
              "    </td>\n",
              "    <td style=\"padding: 0 0.5em 0 0.5em; text-align: left; border: none;\">\n",
              "        increase\n",
              "    </td>\n",
              "    \n",
              "</tr>\n",
              "        \n",
              "            <tr style=\"background-color: hsl(0, 100.00%, 87.86%); border: none;\">\n",
              "    <td style=\"padding: 0 1em 0 0.5em; text-align: right; border: none;\">\n",
              "        -1.520\n",
              "    </td>\n",
              "    <td style=\"padding: 0 0.5em 0 0.5em; text-align: left; border: none;\">\n",
              "        increased\n",
              "    </td>\n",
              "    \n",
              "</tr>\n",
              "        \n",
              "            <tr style=\"background-color: hsl(0, 100.00%, 87.25%); border: none;\">\n",
              "    <td style=\"padding: 0 1em 0 0.5em; text-align: right; border: none;\">\n",
              "        -1.632\n",
              "    </td>\n",
              "    <td style=\"padding: 0 0.5em 0 0.5em; text-align: left; border: none;\">\n",
              "        rose to\n",
              "    </td>\n",
              "    \n",
              "</tr>\n",
              "        \n",
              "            <tr style=\"background-color: hsl(0, 100.00%, 87.03%); border: none;\">\n",
              "    <td style=\"padding: 0 1em 0 0.5em; text-align: right; border: none;\">\n",
              "        -1.671\n",
              "    </td>\n",
              "    <td style=\"padding: 0 0.5em 0 0.5em; text-align: left; border: none;\">\n",
              "        rose\n",
              "    </td>\n",
              "    \n",
              "</tr>\n",
              "        \n",
              "            <tr style=\"background-color: hsl(0, 100.00%, 80.03%); border: none;\">\n",
              "    <td style=\"padding: 0 1em 0 0.5em; text-align: right; border: none;\">\n",
              "        -3.098\n",
              "    </td>\n",
              "    <td style=\"padding: 0 0.5em 0 0.5em; text-align: left; border: none;\">\n",
              "        &lt;BIAS&gt;\n",
              "    </td>\n",
              "    \n",
              "</tr>\n",
              "        \n",
              "\n",
              "        </tbody>\n",
              "    </table>\n",
              "\n",
              "                                \n",
              "                            \n",
              "                        </td>\n",
              "                    \n",
              "                        <td style=\"padding: 0px; border: 1px solid black; vertical-align: top;\">\n",
              "                            \n",
              "                                \n",
              "                                    \n",
              "                                    \n",
              "    \n",
              "    <table class=\"eli5-weights\"\n",
              "           style=\"border-collapse: collapse; border: none; margin-top: 0em; table-layout: auto; width: 100%;\">\n",
              "        <thead>\n",
              "        <tr style=\"border: none;\">\n",
              "            \n",
              "                <th style=\"padding: 0 1em 0 0.5em; text-align: right; border: none;\" title=\"Feature weights. Note that weights do not account for feature value scales, so if feature values have different scales, features with highest weights might not be the most important.\">\n",
              "                    Weight<sup>?</sup>\n",
              "                </th>\n",
              "            \n",
              "            <th style=\"padding: 0 0.5em 0 0.5em; text-align: left; border: none;\">Feature</th>\n",
              "            \n",
              "        </tr>\n",
              "        </thead>\n",
              "        <tbody>\n",
              "        \n",
              "            <tr style=\"background-color: hsl(120, 100.00%, 89.97%); border: none;\">\n",
              "    <td style=\"padding: 0 1em 0 0.5em; text-align: right; border: none;\">\n",
              "        +1.157\n",
              "    </td>\n",
              "    <td style=\"padding: 0 0.5em 0 0.5em; text-align: left; border: none;\">\n",
              "        &lt;BIAS&gt;\n",
              "    </td>\n",
              "    \n",
              "</tr>\n",
              "        \n",
              "            <tr style=\"background-color: hsl(120, 100.00%, 91.55%); border: none;\">\n",
              "    <td style=\"padding: 0 1em 0 0.5em; text-align: right; border: none;\">\n",
              "        +0.906\n",
              "    </td>\n",
              "    <td style=\"padding: 0 0.5em 0 0.5em; text-align: left; border: none;\">\n",
              "        approximately\n",
              "    </td>\n",
              "    \n",
              "</tr>\n",
              "        \n",
              "        \n",
              "            <tr style=\"background-color: hsl(120, 100.00%, 91.55%); border: none;\">\n",
              "                <td colspan=\"2\" style=\"padding: 0 0.5em 0 0.5em; text-align: center; border: none; white-space: nowrap;\">\n",
              "                    <i>&hellip; 19514 more positive &hellip;</i>\n",
              "                </td>\n",
              "            </tr>\n",
              "        \n",
              "\n",
              "        \n",
              "            <tr style=\"background-color: hsl(0, 100.00%, 92.05%); border: none;\">\n",
              "                <td colspan=\"2\" style=\"padding: 0 0.5em 0 0.5em; text-align: center; border: none; white-space: nowrap;\">\n",
              "                    <i>&hellip; 14758 more negative &hellip;</i>\n",
              "                </td>\n",
              "            </tr>\n",
              "        \n",
              "        \n",
              "            <tr style=\"background-color: hsl(0, 100.00%, 92.05%); border: none;\">\n",
              "    <td style=\"padding: 0 1em 0 0.5em; text-align: right; border: none;\">\n",
              "        -0.831\n",
              "    </td>\n",
              "    <td style=\"padding: 0 0.5em 0 0.5em; text-align: left; border: none;\">\n",
              "        result\n",
              "    </td>\n",
              "    \n",
              "</tr>\n",
              "        \n",
              "            <tr style=\"background-color: hsl(0, 100.00%, 91.91%); border: none;\">\n",
              "    <td style=\"padding: 0 1em 0 0.5em; text-align: right; border: none;\">\n",
              "        -0.851\n",
              "    </td>\n",
              "    <td style=\"padding: 0 0.5em 0 0.5em; text-align: left; border: none;\">\n",
              "        lower\n",
              "    </td>\n",
              "    \n",
              "</tr>\n",
              "        \n",
              "            <tr style=\"background-color: hsl(0, 100.00%, 91.80%); border: none;\">\n",
              "    <td style=\"padding: 0 1em 0 0.5em; text-align: right; border: none;\">\n",
              "        -0.869\n",
              "    </td>\n",
              "    <td style=\"padding: 0 0.5em 0 0.5em; text-align: left; border: none;\">\n",
              "        from eur\n",
              "    </td>\n",
              "    \n",
              "</tr>\n",
              "        \n",
              "            <tr style=\"background-color: hsl(0, 100.00%, 91.80%); border: none;\">\n",
              "    <td style=\"padding: 0 1em 0 0.5em; text-align: right; border: none;\">\n",
              "        -0.869\n",
              "    </td>\n",
              "    <td style=\"padding: 0 0.5em 0 0.5em; text-align: left; border: none;\">\n",
              "        percent to\n",
              "    </td>\n",
              "    \n",
              "</tr>\n",
              "        \n",
              "            <tr style=\"background-color: hsl(0, 100.00%, 91.60%); border: none;\">\n",
              "    <td style=\"padding: 0 1em 0 0.5em; text-align: right; border: none;\">\n",
              "        -0.898\n",
              "    </td>\n",
              "    <td style=\"padding: 0 0.5em 0 0.5em; text-align: left; border: none;\">\n",
              "        increase\n",
              "    </td>\n",
              "    \n",
              "</tr>\n",
              "        \n",
              "            <tr style=\"background-color: hsl(0, 100.00%, 91.58%); border: none;\">\n",
              "    <td style=\"padding: 0 1em 0 0.5em; text-align: right; border: none;\">\n",
              "        -0.902\n",
              "    </td>\n",
              "    <td style=\"padding: 0 0.5em 0 0.5em; text-align: left; border: none;\">\n",
              "        performance\n",
              "    </td>\n",
              "    \n",
              "</tr>\n",
              "        \n",
              "            <tr style=\"background-color: hsl(0, 100.00%, 91.49%); border: none;\">\n",
              "    <td style=\"padding: 0 1em 0 0.5em; text-align: right; border: none;\">\n",
              "        -0.916\n",
              "    </td>\n",
              "    <td style=\"padding: 0 0.5em 0 0.5em; text-align: left; border: none;\">\n",
              "        increased\n",
              "    </td>\n",
              "    \n",
              "</tr>\n",
              "        \n",
              "            <tr style=\"background-color: hsl(0, 100.00%, 91.47%); border: none;\">\n",
              "    <td style=\"padding: 0 1em 0 0.5em; text-align: right; border: none;\">\n",
              "        -0.918\n",
              "    </td>\n",
              "    <td style=\"padding: 0 0.5em 0 0.5em; text-align: left; border: none;\">\n",
              "        off\n",
              "    </td>\n",
              "    \n",
              "</tr>\n",
              "        \n",
              "            <tr style=\"background-color: hsl(0, 100.00%, 91.46%); border: none;\">\n",
              "    <td style=\"padding: 0 1em 0 0.5em; text-align: right; border: none;\">\n",
              "        -0.919\n",
              "    </td>\n",
              "    <td style=\"padding: 0 0.5em 0 0.5em; text-align: left; border: none;\">\n",
              "        grew\n",
              "    </td>\n",
              "    \n",
              "</tr>\n",
              "        \n",
              "            <tr style=\"background-color: hsl(0, 100.00%, 91.27%); border: none;\">\n",
              "    <td style=\"padding: 0 1em 0 0.5em; text-align: right; border: none;\">\n",
              "        -0.950\n",
              "    </td>\n",
              "    <td style=\"padding: 0 0.5em 0 0.5em; text-align: left; border: none;\">\n",
              "        sales\n",
              "    </td>\n",
              "    \n",
              "</tr>\n",
              "        \n",
              "            <tr style=\"background-color: hsl(0, 100.00%, 90.93%); border: none;\">\n",
              "    <td style=\"padding: 0 1em 0 0.5em; text-align: right; border: none;\">\n",
              "        -1.003\n",
              "    </td>\n",
              "    <td style=\"padding: 0 0.5em 0 0.5em; text-align: left; border: none;\">\n",
              "        growing international\n",
              "    </td>\n",
              "    \n",
              "</tr>\n",
              "        \n",
              "            <tr style=\"background-color: hsl(0, 100.00%, 90.55%); border: none;\">\n",
              "    <td style=\"padding: 0 1em 0 0.5em; text-align: right; border: none;\">\n",
              "        -1.064\n",
              "    </td>\n",
              "    <td style=\"padding: 0 0.5em 0 0.5em; text-align: left; border: none;\">\n",
              "        signed\n",
              "    </td>\n",
              "    \n",
              "</tr>\n",
              "        \n",
              "            <tr style=\"background-color: hsl(0, 100.00%, 90.41%); border: none;\">\n",
              "    <td style=\"padding: 0 1em 0 0.5em; text-align: right; border: none;\">\n",
              "        -1.087\n",
              "    </td>\n",
              "    <td style=\"padding: 0 0.5em 0 0.5em; text-align: left; border: none;\">\n",
              "        jobs\n",
              "    </td>\n",
              "    \n",
              "</tr>\n",
              "        \n",
              "            <tr style=\"background-color: hsl(0, 100.00%, 90.11%); border: none;\">\n",
              "    <td style=\"padding: 0 1em 0 0.5em; text-align: right; border: none;\">\n",
              "        -1.135\n",
              "    </td>\n",
              "    <td style=\"padding: 0 0.5em 0 0.5em; text-align: left; border: none;\">\n",
              "        down\n",
              "    </td>\n",
              "    \n",
              "</tr>\n",
              "        \n",
              "            <tr style=\"background-color: hsl(0, 100.00%, 89.62%); border: none;\">\n",
              "    <td style=\"padding: 0 1em 0 0.5em; text-align: right; border: none;\">\n",
              "        -1.217\n",
              "    </td>\n",
              "    <td style=\"padding: 0 0.5em 0 0.5em; text-align: left; border: none;\">\n",
              "        loss\n",
              "    </td>\n",
              "    \n",
              "</tr>\n",
              "        \n",
              "            <tr style=\"background-color: hsl(0, 100.00%, 89.60%); border: none;\">\n",
              "    <td style=\"padding: 0 1em 0 0.5em; text-align: right; border: none;\">\n",
              "        -1.220\n",
              "    </td>\n",
              "    <td style=\"padding: 0 0.5em 0 0.5em; text-align: left; border: none;\">\n",
              "        positive\n",
              "    </td>\n",
              "    \n",
              "</tr>\n",
              "        \n",
              "            <tr style=\"background-color: hsl(0, 100.00%, 89.40%); border: none;\">\n",
              "    <td style=\"padding: 0 1em 0 0.5em; text-align: right; border: none;\">\n",
              "        -1.254\n",
              "    </td>\n",
              "    <td style=\"padding: 0 0.5em 0 0.5em; text-align: left; border: none;\">\n",
              "        negative\n",
              "    </td>\n",
              "    \n",
              "</tr>\n",
              "        \n",
              "            <tr style=\"background-color: hsl(0, 100.00%, 89.11%); border: none;\">\n",
              "    <td style=\"padding: 0 1em 0 0.5em; text-align: right; border: none;\">\n",
              "        -1.303\n",
              "    </td>\n",
              "    <td style=\"padding: 0 0.5em 0 0.5em; text-align: left; border: none;\">\n",
              "        leading\n",
              "    </td>\n",
              "    \n",
              "</tr>\n",
              "        \n",
              "\n",
              "        </tbody>\n",
              "    </table>\n",
              "\n",
              "                                \n",
              "                            \n",
              "                        </td>\n",
              "                    \n",
              "                        <td style=\"padding: 0px; border: 1px solid black; vertical-align: top;\">\n",
              "                            \n",
              "                                \n",
              "                                    \n",
              "                                    \n",
              "    \n",
              "    <table class=\"eli5-weights\"\n",
              "           style=\"border-collapse: collapse; border: none; margin-top: 0em; table-layout: auto; width: 100%;\">\n",
              "        <thead>\n",
              "        <tr style=\"border: none;\">\n",
              "            \n",
              "                <th style=\"padding: 0 1em 0 0.5em; text-align: right; border: none;\" title=\"Feature weights. Note that weights do not account for feature value scales, so if feature values have different scales, features with highest weights might not be the most important.\">\n",
              "                    Weight<sup>?</sup>\n",
              "                </th>\n",
              "            \n",
              "            <th style=\"padding: 0 0.5em 0 0.5em; text-align: left; border: none;\">Feature</th>\n",
              "            \n",
              "        </tr>\n",
              "        </thead>\n",
              "        <tbody>\n",
              "        \n",
              "            <tr style=\"background-color: hsl(120, 100.00%, 83.68%); border: none;\">\n",
              "    <td style=\"padding: 0 1em 0 0.5em; text-align: right; border: none;\">\n",
              "        +2.321\n",
              "    </td>\n",
              "    <td style=\"padding: 0 0.5em 0 0.5em; text-align: left; border: none;\">\n",
              "        increased\n",
              "    </td>\n",
              "    \n",
              "</tr>\n",
              "        \n",
              "            <tr style=\"background-color: hsl(120, 100.00%, 85.17%); border: none;\">\n",
              "    <td style=\"padding: 0 1em 0 0.5em; text-align: right; border: none;\">\n",
              "        +2.025\n",
              "    </td>\n",
              "    <td style=\"padding: 0 0.5em 0 0.5em; text-align: left; border: none;\">\n",
              "        rose\n",
              "    </td>\n",
              "    \n",
              "</tr>\n",
              "        \n",
              "            <tr style=\"background-color: hsl(120, 100.00%, 85.26%); border: none;\">\n",
              "    <td style=\"padding: 0 1em 0 0.5em; text-align: right; border: none;\">\n",
              "        +2.007\n",
              "    </td>\n",
              "    <td style=\"padding: 0 0.5em 0 0.5em; text-align: left; border: none;\">\n",
              "        grew\n",
              "    </td>\n",
              "    \n",
              "</tr>\n",
              "        \n",
              "            <tr style=\"background-color: hsl(120, 100.00%, 85.48%); border: none;\">\n",
              "    <td style=\"padding: 0 1em 0 0.5em; text-align: right; border: none;\">\n",
              "        +1.965\n",
              "    </td>\n",
              "    <td style=\"padding: 0 0.5em 0 0.5em; text-align: left; border: none;\">\n",
              "        increase\n",
              "    </td>\n",
              "    \n",
              "</tr>\n",
              "        \n",
              "            <tr style=\"background-color: hsl(120, 100.00%, 86.21%); border: none;\">\n",
              "    <td style=\"padding: 0 1em 0 0.5em; text-align: right; border: none;\">\n",
              "        +1.825\n",
              "    </td>\n",
              "    <td style=\"padding: 0 0.5em 0 0.5em; text-align: left; border: none;\">\n",
              "        improved\n",
              "    </td>\n",
              "    \n",
              "</tr>\n",
              "        \n",
              "            <tr style=\"background-color: hsl(120, 100.00%, 86.43%); border: none;\">\n",
              "    <td style=\"padding: 0 1em 0 0.5em; text-align: right; border: none;\">\n",
              "        +1.784\n",
              "    </td>\n",
              "    <td style=\"padding: 0 0.5em 0 0.5em; text-align: left; border: none;\">\n",
              "        up\n",
              "    </td>\n",
              "    \n",
              "</tr>\n",
              "        \n",
              "            <tr style=\"background-color: hsl(120, 100.00%, 86.52%); border: none;\">\n",
              "    <td style=\"padding: 0 1em 0 0.5em; text-align: right; border: none;\">\n",
              "        +1.767\n",
              "    </td>\n",
              "    <td style=\"padding: 0 0.5em 0 0.5em; text-align: left; border: none;\">\n",
              "        positive\n",
              "    </td>\n",
              "    \n",
              "</tr>\n",
              "        \n",
              "            <tr style=\"background-color: hsl(120, 100.00%, 87.02%); border: none;\">\n",
              "    <td style=\"padding: 0 1em 0 0.5em; text-align: right; border: none;\">\n",
              "        +1.673\n",
              "    </td>\n",
              "    <td style=\"padding: 0 0.5em 0 0.5em; text-align: left; border: none;\">\n",
              "        leading\n",
              "    </td>\n",
              "    \n",
              "</tr>\n",
              "        \n",
              "            <tr style=\"background-color: hsl(120, 100.00%, 87.69%); border: none;\">\n",
              "    <td style=\"padding: 0 1em 0 0.5em; text-align: right; border: none;\">\n",
              "        +1.551\n",
              "    </td>\n",
              "    <td style=\"padding: 0 0.5em 0 0.5em; text-align: left; border: none;\">\n",
              "        up from\n",
              "    </td>\n",
              "    \n",
              "</tr>\n",
              "        \n",
              "            <tr style=\"background-color: hsl(120, 100.00%, 88.72%); border: none;\">\n",
              "    <td style=\"padding: 0 1em 0 0.5em; text-align: right; border: none;\">\n",
              "        +1.369\n",
              "    </td>\n",
              "    <td style=\"padding: 0 0.5em 0 0.5em; text-align: left; border: none;\">\n",
              "        rose to\n",
              "    </td>\n",
              "    \n",
              "</tr>\n",
              "        \n",
              "            <tr style=\"background-color: hsl(120, 100.00%, 88.73%); border: none;\">\n",
              "    <td style=\"padding: 0 1em 0 0.5em; text-align: right; border: none;\">\n",
              "        +1.368\n",
              "    </td>\n",
              "    <td style=\"padding: 0 0.5em 0 0.5em; text-align: left; border: none;\">\n",
              "        signed\n",
              "    </td>\n",
              "    \n",
              "</tr>\n",
              "        \n",
              "            <tr style=\"background-color: hsl(120, 100.00%, 89.19%); border: none;\">\n",
              "    <td style=\"padding: 0 1em 0 0.5em; text-align: right; border: none;\">\n",
              "        +1.289\n",
              "    </td>\n",
              "    <td style=\"padding: 0 0.5em 0 0.5em; text-align: left; border: none;\">\n",
              "        won\n",
              "    </td>\n",
              "    \n",
              "</tr>\n",
              "        \n",
              "            <tr style=\"background-color: hsl(120, 100.00%, 89.26%); border: none;\">\n",
              "    <td style=\"padding: 0 1em 0 0.5em; text-align: right; border: none;\">\n",
              "        +1.277\n",
              "    </td>\n",
              "    <td style=\"padding: 0 0.5em 0 0.5em; text-align: left; border: none;\">\n",
              "        increased by\n",
              "    </td>\n",
              "    \n",
              "</tr>\n",
              "        \n",
              "            <tr style=\"background-color: hsl(120, 100.00%, 89.80%); border: none;\">\n",
              "    <td style=\"padding: 0 1em 0 0.5em; text-align: right; border: none;\">\n",
              "        +1.186\n",
              "    </td>\n",
              "    <td style=\"padding: 0 0.5em 0 0.5em; text-align: left; border: none;\">\n",
              "        growing international\n",
              "    </td>\n",
              "    \n",
              "</tr>\n",
              "        \n",
              "            <tr style=\"background-color: hsl(120, 100.00%, 90.10%); border: none;\">\n",
              "    <td style=\"padding: 0 1em 0 0.5em; text-align: right; border: none;\">\n",
              "        +1.137\n",
              "    </td>\n",
              "    <td style=\"padding: 0 0.5em 0 0.5em; text-align: left; border: none;\">\n",
              "        cost\n",
              "    </td>\n",
              "    \n",
              "</tr>\n",
              "        \n",
              "        \n",
              "            <tr style=\"background-color: hsl(120, 100.00%, 90.10%); border: none;\">\n",
              "                <td colspan=\"2\" style=\"padding: 0 0.5em 0 0.5em; text-align: center; border: none; white-space: nowrap;\">\n",
              "                    <i>&hellip; 12207 more positive &hellip;</i>\n",
              "                </td>\n",
              "            </tr>\n",
              "        \n",
              "\n",
              "        \n",
              "            <tr style=\"background-color: hsl(0, 100.00%, 90.19%); border: none;\">\n",
              "                <td colspan=\"2\" style=\"padding: 0 0.5em 0 0.5em; text-align: center; border: none; white-space: nowrap;\">\n",
              "                    <i>&hellip; 17314 more negative &hellip;</i>\n",
              "                </td>\n",
              "            </tr>\n",
              "        \n",
              "        \n",
              "            <tr style=\"background-color: hsl(0, 100.00%, 90.19%); border: none;\">\n",
              "    <td style=\"padding: 0 1em 0 0.5em; text-align: right; border: none;\">\n",
              "        -1.122\n",
              "    </td>\n",
              "    <td style=\"padding: 0 0.5em 0 0.5em; text-align: left; border: none;\">\n",
              "        declined\n",
              "    </td>\n",
              "    \n",
              "</tr>\n",
              "        \n",
              "            <tr style=\"background-color: hsl(0, 100.00%, 87.64%); border: none;\">\n",
              "    <td style=\"padding: 0 1em 0 0.5em; text-align: right; border: none;\">\n",
              "        -1.561\n",
              "    </td>\n",
              "    <td style=\"padding: 0 0.5em 0 0.5em; text-align: left; border: none;\">\n",
              "        fell\n",
              "    </td>\n",
              "    \n",
              "</tr>\n",
              "        \n",
              "            <tr style=\"background-color: hsl(0, 100.00%, 86.54%); border: none;\">\n",
              "    <td style=\"padding: 0 1em 0 0.5em; text-align: right; border: none;\">\n",
              "        -1.763\n",
              "    </td>\n",
              "    <td style=\"padding: 0 0.5em 0 0.5em; text-align: left; border: none;\">\n",
              "        down\n",
              "    </td>\n",
              "    \n",
              "</tr>\n",
              "        \n",
              "            <tr style=\"background-color: hsl(0, 100.00%, 83.72%); border: none;\">\n",
              "    <td style=\"padding: 0 1em 0 0.5em; text-align: right; border: none;\">\n",
              "        -2.313\n",
              "    </td>\n",
              "    <td style=\"padding: 0 0.5em 0 0.5em; text-align: left; border: none;\">\n",
              "        decreased\n",
              "    </td>\n",
              "    \n",
              "</tr>\n",
              "        \n",
              "            <tr style=\"background-color: hsl(0, 100.00%, 80.17%); border: none;\">\n",
              "    <td style=\"padding: 0 1em 0 0.5em; text-align: right; border: none;\">\n",
              "        -3.066\n",
              "    </td>\n",
              "    <td style=\"padding: 0 0.5em 0 0.5em; text-align: left; border: none;\">\n",
              "        &lt;BIAS&gt;\n",
              "    </td>\n",
              "    \n",
              "</tr>\n",
              "        \n",
              "\n",
              "        </tbody>\n",
              "    </table>\n",
              "\n",
              "                                \n",
              "                            \n",
              "                        </td>\n",
              "                    \n",
              "                \n",
              "            </tr>\n",
              "        </table>\n",
              "    \n",
              "\n",
              "    \n",
              "        \n",
              "\n",
              "\n",
              "    \n",
              "        \n",
              "\n",
              "\n",
              "    \n",
              "        \n",
              "\n",
              "\n",
              "    \n",
              "\n",
              "\n",
              "    \n",
              "\n",
              "    \n",
              "\n",
              "    \n",
              "\n",
              "\n",
              "    \n",
              "\n",
              "    \n",
              "\n",
              "    \n",
              "\n",
              "    \n",
              "\n",
              "    \n",
              "\n",
              "    \n",
              "\n",
              "\n",
              "    \n",
              "\n",
              "    \n",
              "\n",
              "    \n",
              "\n",
              "    \n",
              "\n",
              "    \n",
              "\n",
              "    \n",
              "\n",
              "\n",
              "\n"
            ]
          },
          "metadata": {},
          "execution_count": 76
        }
      ]
    },
    {
      "cell_type": "markdown",
      "source": [
        "Negative classes are defined by verbs such as 'down', 'decreased', 'fall', 'lower' etc, to indicate some quantity going down.\n",
        "\n",
        "The converse is true for positive class, verbs such as 'increased', 'up', grew', 'rise' indicate a positive sentiment.\n",
        "\n",
        "Interestingly, Verbs not adjectives are the most important features here, usually models rely on adjectives and adverbs for sentiment classification.\n",
        "\n",
        "The distinction between 'neutral' and 'positive' sentence is very subjective and varies across people. Any ML model is sure to have a hard time distinguishing between them.\n",
        "\n",
        "Closing Remarks\n",
        "Finance is one of the domains where NLP techniques are being adopted at an accelerated rate, the ability to classify financial news into sentiment-defined buckets saves a lot of time & effort for workers in financial analysis based roles.\n",
        "\n",
        "Even with a dataset of just 5.8k records, a model with decent accuracy was achieved, suggesting that more data coupled with high quality labels and the right amount of variance can make sentiment analysis the de-facto paradigm to sort financial news."
      ],
      "metadata": {
        "id": "RBHotNSeDk_S"
      }
    },
    {
      "cell_type": "code",
      "source": [
        ""
      ],
      "metadata": {
        "id": "k-l8OJfFDkem"
      },
      "execution_count": null,
      "outputs": []
    },
    {
      "cell_type": "code",
      "source": [
        ""
      ],
      "metadata": {
        "id": "C4U3TfFwCuCC"
      },
      "execution_count": null,
      "outputs": []
    },
    {
      "cell_type": "code",
      "source": [
        "dataset.shape"
      ],
      "metadata": {
        "colab": {
          "base_uri": "https://localhost:8080/"
        },
        "id": "_XOscjjZzrEy",
        "outputId": "aaf42534-284f-4e26-fed6-8330e2095d3c"
      },
      "execution_count": null,
      "outputs": [
        {
          "output_type": "execute_result",
          "data": {
            "text/plain": [
              "(4846, 2)"
            ]
          },
          "metadata": {},
          "execution_count": 24
        }
      ]
    },
    {
      "cell_type": "code",
      "source": [
        "# label 0 = negative, 1 = neutral, 2 = positive\n",
        "print(f'How many instances in the train dataset? \\n\\n{len(train_sentences)}')\n",
        "print('')\n",
        "print(f'What does one instance look like? \\n\\n{train_sentences[234]}')"
      ],
      "metadata": {
        "colab": {
          "base_uri": "https://localhost:8080/"
        },
        "id": "LffmUT2XXBkO",
        "outputId": "0bc62670-29ed-4757-ded3-96ee18958732"
      },
      "execution_count": null,
      "outputs": [
        {
          "output_type": "stream",
          "name": "stdout",
          "text": [
            "How many instances in the train dataset? \n",
            "\n",
            "3876\n",
            "\n",
            "What does one instance look like? \n",
            "\n",
            "Production will expand to other of Elcoteq 's locations including Mexico and Hungary during 2010 .\n"
          ]
        }
      ]
    },
    {
      "cell_type": "code",
      "source": [
        "train_sentences, val_sentences, train_labels, val_labels = train_test_split(train_sentences, train_labels, test_size=0.25, stratify=train_labels)\n"
      ],
      "metadata": {
        "id": "XWHJz9gfXOlw"
      },
      "execution_count": null,
      "outputs": []
    },
    {
      "cell_type": "code",
      "source": [
        "print(f'How many instances in the validation dataset? \\n\\n{len(val_sentences)}\\n')\n",
        "print(f'How many instances in the test dataset? \\n\\n{len(test_sentences)}')"
      ],
      "metadata": {
        "colab": {
          "base_uri": "https://localhost:8080/"
        },
        "id": "Ck0XlehaXOha",
        "outputId": "9cc0f9a3-5c1b-44b1-d788-16afebbbbdfe"
      },
      "execution_count": null,
      "outputs": [
        {
          "output_type": "stream",
          "name": "stdout",
          "text": [
            "How many instances in the validation dataset? \n",
            "\n",
            "969\n",
            "\n",
            "How many instances in the test dataset? \n",
            "\n",
            "970\n"
          ]
        }
      ]
    },
    {
      "cell_type": "code",
      "source": [
        ""
      ],
      "metadata": {
        "id": "Lqeevh6dzbiV"
      },
      "execution_count": null,
      "outputs": []
    },
    {
      "cell_type": "code",
      "source": [
        ""
      ],
      "metadata": {
        "id": "cizvmy_2zbfk"
      },
      "execution_count": null,
      "outputs": []
    },
    {
      "cell_type": "code",
      "source": [
        ""
      ],
      "metadata": {
        "id": "ty8WWwiEzbcC"
      },
      "execution_count": null,
      "outputs": []
    },
    {
      "cell_type": "code",
      "source": [
        ""
      ],
      "metadata": {
        "id": "yRBYUa7DzbYy"
      },
      "execution_count": null,
      "outputs": []
    },
    {
      "cell_type": "code",
      "source": [
        ""
      ],
      "metadata": {
        "id": "pbFC2WFpzbWE"
      },
      "execution_count": null,
      "outputs": []
    },
    {
      "cell_type": "code",
      "source": [
        ""
      ],
      "metadata": {
        "id": "LjsqYdIczbTB"
      },
      "execution_count": null,
      "outputs": []
    },
    {
      "cell_type": "code",
      "source": [
        ""
      ],
      "metadata": {
        "id": "3x3bxaB6zbN7"
      },
      "execution_count": null,
      "outputs": []
    },
    {
      "cell_type": "code",
      "source": [
        ""
      ],
      "metadata": {
        "id": "oBE71O3qzbLW"
      },
      "execution_count": null,
      "outputs": []
    },
    {
      "cell_type": "code",
      "source": [
        ""
      ],
      "metadata": {
        "id": "3XG6JiC_zbIh"
      },
      "execution_count": null,
      "outputs": []
    },
    {
      "cell_type": "code",
      "source": [
        ""
      ],
      "metadata": {
        "id": "L9xhXukLzbFz"
      },
      "execution_count": null,
      "outputs": []
    },
    {
      "cell_type": "code",
      "source": [
        ""
      ],
      "metadata": {
        "id": "yzOWQLnGzbCx"
      },
      "execution_count": null,
      "outputs": []
    },
    {
      "cell_type": "code",
      "source": [
        ""
      ],
      "metadata": {
        "id": "gur_vd_Kza8H"
      },
      "execution_count": null,
      "outputs": []
    },
    {
      "cell_type": "code",
      "source": [
        ""
      ],
      "metadata": {
        "id": "lXaOjX-8zauV"
      },
      "execution_count": null,
      "outputs": []
    },
    {
      "cell_type": "code",
      "source": [
        ""
      ],
      "metadata": {
        "id": "1ZWyozRPzLN3"
      },
      "execution_count": null,
      "outputs": []
    }
  ],
  "metadata": {
    "colab": {
      "name": "Financial PharseBank ",
      "provenance": [],
      "collapsed_sections": []
    },
    "file_extension": ".py",
    "kernelspec": {
      "display_name": "Python 3 (ipykernel)",
      "language": "python",
      "name": "python3"
    },
    "language_info": {
      "codemirror_mode": {
        "name": "ipython",
        "version": 3
      },
      "file_extension": ".py",
      "mimetype": "text/x-python",
      "name": "python",
      "nbconvert_exporter": "python",
      "pygments_lexer": "ipython3",
      "version": "3.9.6"
    },
    "mimetype": "text/x-python",
    "name": "python",
    "npconvert_exporter": "python",
    "pygments_lexer": "ipython3",
    "version": 3
  },
  "nbformat": 4,
  "nbformat_minor": 0
}