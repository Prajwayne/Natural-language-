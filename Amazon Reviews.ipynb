{
  "cells": [
    {
      "cell_type": "markdown",
      "metadata": {
        "id": "view-in-github",
        "colab_type": "text"
      },
      "source": [
        "<a href=\"https://colab.research.google.com/github/Prajwayne/Natural-language-/blob/main/Amazon%20Reviews.ipynb\" target=\"_parent\"><img src=\"https://colab.research.google.com/assets/colab-badge.svg\" alt=\"Open In Colab\"/></a>"
      ]
    },
    {
      "cell_type": "markdown",
      "metadata": {
        "id": "794243c0"
      },
      "source": [
        "# Introduction to Data Analytics Coursework -- Text Analytics Data Loader\n",
        "\n",
        "For this coursework, we recommend that you use your virtual environment that you created for the labs. Alternatively, create a fresh environment following the instructions below. \n",
        "\n",
        "### Setting up your environment\n",
        "\n",
        "We recommend using ```conda``` to create an environment with the correct versions of all the packages you need for these labs. You can install either Anaconda or Miniconda, which will include the ```conda``` program. \n",
        "\n",
        "We provide a .yml file that lists all the packages you will need, and the versions that we have tested the labs with. You can use this file to create your environment as follows.\n",
        "\n",
        "1. Open a terminal. Use the command line to navigate to the directory containing this notebook and the file ```crossplatform_environment.yml```. You can use the command ```cd``` to change directory on the command line.\n",
        "\n",
        "1. If necessary, edit the file ```crossplatform_environment.yml``` to change the name of your new environment. By default, it's called 'data_analytics'. s\n",
        "\n",
        "1. Run conda by typing ```conda env create -f crossplatform_environment.yml```, then answer any questions that appear on the command line.\n",
        "\n",
        "1. Activate the environment by running the command ```conda activate data_analytics```.\n",
        "\n",
        "1. Make the kernel available in Jupyter: ```python -m ipykernel install --user --name=data_analytics```.\n",
        "\n",
        "1. Relaunch Jupyter: shutdown any running instances, and then type ```jupyter lab``` or ```jupyter notebook``` into your command line, depending on whether you prefer the full Jupyter lab development environment, or the simpler Jupyter notebook.\n",
        "\n",
        "1. Find this notebook and open it up again.\n",
        "\n",
        "1. Go to the top menu and change the kernel: click on 'Kernel'--> 'Change kernel' --> data_analytics."
      ],
      "id": "794243c0"
    },
    {
      "cell_type": "code",
      "execution_count": null,
      "metadata": {
        "id": "Glry_Xgf6gJh"
      },
      "outputs": [],
      "source": [
        "# install datasets\n",
        "!pip install datasets\n",
        "\n",
        "# Make sure that we have a recent version of pyarrow in the session before we continue - otherwise reboot Colab to activate it\n",
        "import pyarrow\n",
        "if int(pyarrow.__version__.split('.')[1]) < 16 and int(pyarrow.__version__.split('.')[0]) == 0:\n",
        "    import os\n",
        "    os.kill(os.getpid(), 9)"
      ],
      "id": "Glry_Xgf6gJh"
    },
    {
      "cell_type": "code",
      "execution_count": null,
      "metadata": {
        "id": "_ivpqt1y6mjM"
      },
      "outputs": [],
      "source": [],
      "id": "_ivpqt1y6mjM"
    },
    {
      "cell_type": "code",
      "execution_count": null,
      "metadata": {
        "id": "annoying-ethiopia"
      },
      "outputs": [],
      "source": [
        "%load_ext autoreload\n",
        "%autoreload 2\n",
        "\n",
        "# Use HuggingFace's datasets library to access the financial_phrasebank dataset\n",
        "from datasets import load_dataset"
      ],
      "id": "annoying-ethiopia"
    },
    {
      "cell_type": "code",
      "execution_count": null,
      "metadata": {
        "id": "7zEaWN0o6tu-"
      },
      "outputs": [],
      "source": [
        "# Let's import the library. We typically only need at most four methods:\n",
        "from datasets import list_datasets, list_metrics, load_dataset, load_metric\n",
        "\n",
        "from pprint import pprint"
      ],
      "id": "7zEaWN0o6tu-"
    },
    {
      "cell_type": "markdown",
      "metadata": {
        "id": "4e6c8361"
      },
      "source": [
        "# Amazon Reviews"
      ],
      "id": "4e6c8361"
    },
    {
      "cell_type": "code",
      "execution_count": null,
      "metadata": {
        "id": "a8502fa6"
      },
      "outputs": [],
      "source": [
        "dataset = load_dataset(\n",
        "    \"amazon_reviews_multi\", \n",
        "    'en' # Select language of the dataset\n",
        ")\n",
        "\n",
        "print(f'The dataset is a dictionary with two splits: \\n\\n{dataset}')"
      ],
      "id": "a8502fa6"
    },
    {
      "cell_type": "markdown",
      "metadata": {
        "id": "97c8f839-6844-47d6-8997-bc076489fa9d"
      },
      "source": [
        "The dataset already contains a test split, which we can hold out until we have tuned our method(s), and a validation split that we could use to tune hyperparameters."
      ],
      "id": "97c8f839-6844-47d6-8997-bc076489fa9d"
    },
    {
      "cell_type": "markdown",
      "metadata": {
        "id": "4cd37970"
      },
      "source": [
        "The training set is very large, so you may wish to work with a subset of the training data."
      ],
      "id": "4cd37970"
    },
    {
      "cell_type": "code",
      "execution_count": null,
      "metadata": {
        "colab": {
          "base_uri": "https://localhost:8080/"
        },
        "id": "JuImkypUus-t",
        "outputId": "a2b26013-3288-489e-facc-aeabcd9e4d6a"
      },
      "outputs": [
        {
          "output_type": "stream",
          "name": "stdout",
          "text": [
            "Arrived broken. Manufacturer defect. Two of the legs of the base were not completely formed, so there was no way to insert the casters. I unpackaged the entire chair and hardware before noticing this. So, I'll spend twice the amount of time boxing up the whole useless thing and send it back with a 1-star review of part of a chair I never got to sit in. I will go so far as to include a picture of what their injection molding and quality assurance process missed though. I will be hesitant to buy again. It makes me wonder if there aren't missing structures and supports that don't impede the assembly process.\n",
            "1\n",
            "200000\n",
            "Pathetic design of the caps. Very impractical to use everyday. The caps close so tight that everyday we have to wrestle with the bottle to open the cap. With a baby in one hand opening the cap is a night mare. And on top of these extra ordinary features of super secure cap, they are so expensive when compared to other brands. Stay away from these until they fix the cap issues. We have hurt ourselves many time trying to open caps as they have sharp edges on the inner and outer edges. Not worth the price.\n",
            "1\n",
            "5000\n",
            "These are AWFUL. They are see through, the fabric feels like tablecloth, and they fit like children’s clothing. Customer service did seem to be nice though, but I regret missing my return date for these. I wouldn’t even donate them because the quality is so poor.\n",
            "1\n",
            "5000\n"
          ]
        }
      ],
      "source": [
        "train_documents = dataset[\"train\"]['review_body']\n",
        "print(train_documents[0])\n",
        "\n",
        "train_labels = dataset[\"train\"]['stars']\n",
        "print(train_labels[0])\n",
        "\n",
        "print(len(train_labels))\n",
        "\n",
        "val_documents = dataset[\"validation\"]['review_body']\n",
        "print(val_documents[0])\n",
        "\n",
        "val_labels = dataset[\"validation\"]['stars']\n",
        "print(val_labels[0])\n",
        "\n",
        "print(len(val_labels))\n",
        "\n",
        "test_documents = dataset[\"test\"]['review_body']\n",
        "print(test_documents[0])\n",
        "\n",
        "test_labels = dataset[\"test\"]['stars']\n",
        "print(test_labels[0])\n",
        "\n",
        "print(len(test_labels))"
      ],
      "id": "JuImkypUus-t"
    },
    {
      "cell_type": "code",
      "execution_count": null,
      "metadata": {
        "id": "a7f6f17a"
      },
      "outputs": [],
      "source": [
        "from sklearn.model_selection import train_test_split\n",
        "\n",
        "# Split test data from training data\n",
        "train_documents, unused_documents, train_labels, unused_labels = train_test_split(\n",
        "    train_documents, \n",
        "    train_labels, \n",
        "    test_size=0.9, \n",
        "    stratify=train_labels  # make sure the same proportion of labels is in the test set and training set\n",
        ")"
      ],
      "id": "a7f6f17a"
    },
    {
      "cell_type": "code",
      "execution_count": null,
      "metadata": {
        "id": "7b3af369",
        "colab": {
          "base_uri": "https://localhost:8080/"
        },
        "outputId": "1c345cfb-7f45-444f-d802-03e11605d76c"
      },
      "outputs": [
        {
          "output_type": "stream",
          "name": "stdout",
          "text": [
            "How many instances in the train dataset? \n",
            "\n",
            "20000\n",
            "\n",
            "What does one instance look like? \n",
            "\n",
            "Love movie and it is not on the usually streaming channels\n"
          ]
        }
      ],
      "source": [
        "# label 0 = negative, 1 = neutral, 2 = positive\n",
        "print(f'How many instances in the train dataset? \\n\\n{len(train_documents)}')\n",
        "print('')\n",
        "print(f'What does one instance look like? \\n\\n{train_documents[234]}')"
      ],
      "id": "7b3af369"
    },
    {
      "cell_type": "code",
      "execution_count": null,
      "metadata": {
        "id": "gW-ZrAajc9ce"
      },
      "outputs": [],
      "source": [
        "dataset_id=\"amazon_reviews_multi\"\n",
        "dataset_config=\"en\"\n",
        "\n"
      ],
      "id": "gW-ZrAajc9ce"
    },
    {
      "cell_type": "code",
      "execution_count": null,
      "metadata": {
        "id": "Crrz3ViRc3FY"
      },
      "outputs": [],
      "source": [
        "from datasets import load_dataset\n",
        "\n",
        "dataset = load_dataset(dataset_id,dataset_config)"
      ],
      "id": "Crrz3ViRc3FY"
    },
    {
      "cell_type": "code",
      "execution_count": null,
      "metadata": {
        "id": "0jh0MBoPdNOP"
      },
      "outputs": [],
      "source": [
        "from datasets import ClassLabel\n",
        "\n",
        "def map_start_to_label(review):\n",
        "  if review[\"stars\"] < 3:\n",
        "    review[\"stars\"] = 0\n",
        "  elif review[\"stars\"] == 3:\n",
        "    review[\"stars\"] = 1\n",
        "  else:\n",
        "    review[\"stars\"] = 2\n",
        "  return review\n",
        "\n",
        "# convert 1-5 star reviews to 0,1,2\n",
        "dataset = dataset.map(map_start_to_label)\n",
        "\n",
        "# convert feature from Value to ClassLabel\n",
        "class_feature =  ClassLabel(names=['negative','neutral', 'positive'])\n",
        "dataset = dataset.cast_column(\"stars\", class_feature)\n",
        "\n",
        "# rename our target column to labels\n",
        "dataset = dataset.rename_column(\"stars\",\"labels\")\n",
        "\n",
        "# drop columns that are not needed\n",
        "dataset = dataset.remove_columns(['review_id', 'product_id', 'reviewer_id', 'review_title', 'language', 'product_category'])"
      ],
      "id": "0jh0MBoPdNOP"
    },
    {
      "cell_type": "code",
      "execution_count": null,
      "metadata": {
        "id": "b88oftLudn1Y"
      },
      "outputs": [],
      "source": [
        "df.review_body"
      ],
      "id": "b88oftLudn1Y"
    },
    {
      "cell_type": "code",
      "execution_count": null,
      "metadata": {
        "id": "dzV1ceJVeyOc"
      },
      "outputs": [],
      "source": [
        "import matplotlib.pyplot as plt\n",
        "import seaborn as sns"
      ],
      "id": "dzV1ceJVeyOc"
    },
    {
      "cell_type": "code",
      "execution_count": null,
      "metadata": {
        "id": "76I0J8fveGRE",
        "colab": {
          "base_uri": "https://localhost:8080/",
          "height": 428
        },
        "outputId": "1c613eb9-1b69-4d33-b8e3-cd159d729df9"
      },
      "outputs": [
        {
          "output_type": "display_data",
          "data": {
            "text/plain": [
              "<Figure size 576x432 with 1 Axes>"
            ],
            "image/png": "[encoded data removed]"
          },
          "metadata": {}
        },
        {
          "output_type": "display_data",
          "data": {
            "text/plain": [
              "<Figure size 432x288 with 0 Axes>"
            ]
          },
          "metadata": {}
        }
      ],
      "source": [
        "import seaborn as sns\n",
        "sns.set_theme(style=\"whitegrid\")\n",
        "sns.set_palette('rainbow')\n",
        "plt.figure(figsize=(8,6))\n",
        "sns.countplot(x=df.labels)\n",
        "plt.xlabel('Count of Sentiment Type')\n",
        "plt.title('Target Distribution')\n",
        "plt.show()\n",
        "plt.savefig('Target Distribution')"
      ],
      "id": "76I0J8fveGRE"
    },
    {
      "cell_type": "code",
      "execution_count": null,
      "metadata": {
        "id": "_EmdL0rGjF2q"
      },
      "outputs": [],
      "source": [
        "df.head()"
      ],
      "id": "_EmdL0rGjF2q"
    },
    {
      "cell_type": "code",
      "execution_count": null,
      "metadata": {
        "id": "9V9u3qaGi3SZ"
      },
      "outputs": [],
      "source": [
        "from sklearn.model_selection import train_test_split\n",
        "\n",
        "# Split test data from training data\n",
        "train_sentences, test_sentences, train_labels, test_labels = train_test_split(\n",
        "    df['review_body'], \n",
        "    df['labels'], \n",
        "    test_size=0.9,\n",
        "    stratify=df['labels'] \n",
        ")"
      ],
      "id": "9V9u3qaGi3SZ"
    },
    {
      "cell_type": "code",
      "execution_count": null,
      "metadata": {
        "colab": {
          "base_uri": "https://localhost:8080/"
        },
        "id": "hoccvL2ObPrr",
        "outputId": "b3229362-f335-47d3-acfe-8b22d38f43ac"
      },
      "outputs": [
        {
          "data": {
            "text/plain": [
              "20000"
            ]
          },
          "execution_count": 18,
          "metadata": {},
          "output_type": "execute_result"
        }
      ],
      "source": [
        "len(train_sentences)"
      ],
      "id": "hoccvL2ObPrr"
    },
    {
      "cell_type": "code",
      "execution_count": null,
      "metadata": {
        "id": "aUHj3TqxrDL7"
      },
      "outputs": [],
      "source": [
        "\n",
        "frame = ((train_sentences,train_labels))"
      ],
      "id": "aUHj3TqxrDL7"
    },
    {
      "cell_type": "code",
      "execution_count": null,
      "metadata": {
        "colab": {
          "base_uri": "https://localhost:8080/"
        },
        "id": "yyXpIcQ-utWV",
        "outputId": "5e9643d9-e854-4715-aa47-b0bc8d9a9086"
      },
      "outputs": [
        {
          "data": {
            "text/plain": [
              "pandas.core.series.Series"
            ]
          },
          "execution_count": 19,
          "metadata": {},
          "output_type": "execute_result"
        }
      ],
      "source": [
        "type(train_sentences)"
      ],
      "id": "yyXpIcQ-utWV"
    },
    {
      "cell_type": "code",
      "execution_count": null,
      "metadata": {
        "id": "x0wqRI1Wuwc4"
      },
      "outputs": [],
      "source": [
        "train_sentences"
      ],
      "id": "x0wqRI1Wuwc4"
    },
    {
      "cell_type": "code",
      "execution_count": null,
      "metadata": {
        "id": "BzqyyoQarTvg"
      },
      "outputs": [],
      "source": [
        "import pandas as pd\n",
        "\n",
        "products_list = train_sentences\n",
        "\n",
        "df1 = pd.DataFrame (products_list, columns = ['review_body'])\n",
        "print (df1)"
      ],
      "id": "BzqyyoQarTvg"
    },
    {
      "cell_type": "markdown",
      "source": [
        "Reducing the dataset "
      ],
      "metadata": {
        "id": "xj-3gMhTj8hB"
      },
      "id": "xj-3gMhTj8hB"
    },
    {
      "cell_type": "code",
      "execution_count": null,
      "metadata": {
        "id": "PJDrXHu5sNd6"
      },
      "outputs": [],
      "source": [
        "import pandas as pd\n",
        "\n",
        "products_list = train_labels\n",
        "\n",
        "df2 = pd.DataFrame (products_list, columns = ['labels'])\n",
        "print (df2)"
      ],
      "id": "PJDrXHu5sNd6"
    },
    {
      "cell_type": "code",
      "execution_count": null,
      "metadata": {
        "id": "VwOEHHubsVr3"
      },
      "outputs": [],
      "source": [
        "data1 = pd.concat([df1, df2], axis=1, join= 'inner')\n",
        "display(data1)"
      ],
      "id": "VwOEHHubsVr3"
    },
    {
      "cell_type": "code",
      "execution_count": null,
      "metadata": {
        "colab": {
          "base_uri": "https://localhost:8080/"
        },
        "id": "BgMuOw9Csy6R",
        "outputId": "3f2c7ac3-4ed8-4390-9451-48af5c1951f2"
      },
      "outputs": [
        {
          "output_type": "execute_result",
          "data": {
            "text/plain": [
              "False"
            ]
          },
          "metadata": {},
          "execution_count": 19
        }
      ],
      "source": [
        "data1['review_body'].isnull().values.any()"
      ],
      "id": "BgMuOw9Csy6R"
    },
    {
      "cell_type": "code",
      "execution_count": null,
      "metadata": {
        "id": "_rT1u_4KtMq1"
      },
      "outputs": [],
      "source": [
        "from sklearn.model_selection import train_test_split\n",
        "\n",
        "# Split test data from training data\n",
        "trainsent, testsent, train_lab, test_lab = train_test_split(\n",
        "    data1['review_body'], \n",
        "    data1['labels'], \n",
        "    test_size=0.2,\n",
        "    stratify=data1['labels'] \n",
        ")"
      ],
      "id": "_rT1u_4KtMq1"
    },
    {
      "cell_type": "markdown",
      "metadata": {
        "id": "gA9flskejp3F"
      },
      "source": [
        "Tokenization "
      ],
      "id": "gA9flskejp3F"
    },
    {
      "cell_type": "markdown",
      "metadata": {
        "id": "03zcEgnujnIG"
      },
      "source": [
        "First step in any nlp pipeline is tokenizing text i.e breaking down paragraphs into sentenses and then sentenses into words, punctuations and so on.\n",
        "\n",
        "we will load english language model to tokenize our english text.\n",
        "\n",
        "Every language is different and have different rules. Spacy offers 8 different language models."
      ],
      "id": "03zcEgnujnIG"
    },
    {
      "cell_type": "code",
      "execution_count": null,
      "metadata": {
        "id": "AT7geZ_Gj8Hn"
      },
      "outputs": [],
      "source": [
        "import pandas as pd\n",
        "import numpy as np\n",
        "import spacy\n",
        "from spacy import displacy\n",
        "from spacy.util import minibatch, compounding\n",
        "\n",
        "import matplotlib.pyplot as plt\n",
        "%matplotlib inline"
      ],
      "id": "AT7geZ_Gj8Hn"
    },
    {
      "cell_type": "code",
      "execution_count": null,
      "metadata": {
        "colab": {
          "base_uri": "https://localhost:8080/",
          "height": 36
        },
        "id": "AyFWs5yzjf2u",
        "outputId": "9492dde4-1e0f-4c9d-ad1c-751c1c2d5d87"
      },
      "outputs": [
        {
          "output_type": "execute_result",
          "data": {
            "text/plain": [
              "'Seemed like a nice pen, but I couldn’t even get a decent line out of it. Disappointing.'"
            ],
            "application/vnd.google.colaboratory.intrinsic+json": {
              "type": "string"
            }
          },
          "metadata": {},
          "execution_count": 22
        }
      ],
      "source": [
        "spacy_tok = spacy.load('en_core_web_sm')\n",
        "sample_review=df.review_body[54]\n",
        "sample_review"
      ],
      "id": "AyFWs5yzjf2u"
    },
    {
      "cell_type": "markdown",
      "metadata": {
        "id": "-_9WPWOnkekh"
      },
      "source": [
        "took out the quotation marks "
      ],
      "id": "-_9WPWOnkekh"
    },
    {
      "cell_type": "code",
      "execution_count": null,
      "metadata": {
        "colab": {
          "base_uri": "https://localhost:8080/"
        },
        "id": "t4VRVDnfjUlP",
        "outputId": "abb1952d-d049-4f84-90c3-9495f67760e5"
      },
      "outputs": [
        {
          "output_type": "execute_result",
          "data": {
            "text/plain": [
              "Seemed like a nice pen, but I couldn’t even get a decent line out of it. Disappointing."
            ]
          },
          "metadata": {},
          "execution_count": 23
        }
      ],
      "source": [
        "parsed_review = spacy_tok(sample_review)\n",
        "parsed_review"
      ],
      "id": "t4VRVDnfjUlP"
    },
    {
      "cell_type": "code",
      "execution_count": null,
      "metadata": {
        "colab": {
          "base_uri": "https://localhost:8080/"
        },
        "id": "MLx10KY6k_lz",
        "outputId": "e90e911f-a505-4195-cc7a-c3542f74a127"
      },
      "outputs": [
        {
          "name": "stdout",
          "output_type": "stream",
          "text": [
            "--2022-08-10 09:09:56--  https://raw.githubusercontent.com/tylerneylon/explacy/master/explacy.py\n",
            "Resolving raw.githubusercontent.com (raw.githubusercontent.com)... 185.199.110.133, 185.199.108.133, 185.199.111.133, ...\n",
            "Connecting to raw.githubusercontent.com (raw.githubusercontent.com)|185.199.110.133|:443... connected.\n",
            "HTTP request sent, awaiting response... 200 OK\n",
            "Length: 6896 (6.7K) [text/plain]\n",
            "Saving to: ‘explacy.py.2’\n",
            "\n",
            "\rexplacy.py.2          0%[                    ]       0  --.-KB/s               \rexplacy.py.2        100%[===================>]   6.73K  --.-KB/s    in 0s      \n",
            "\n",
            "2022-08-10 09:09:56 (58.9 MB/s) - ‘explacy.py.2’ saved [6896/6896]\n",
            "\n"
          ]
        }
      ],
      "source": [
        "!wget https://raw.githubusercontent.com/tylerneylon/explacy/master/explacy.py"
      ],
      "id": "MLx10KY6k_lz"
    },
    {
      "cell_type": "markdown",
      "metadata": {
        "id": "0VI9S2EclkSZ"
      },
      "source": [
        "Part-of-speech tagging\n",
        "After tokenization we can parse and tag variety of parts of speech to paragraph text. SpaCy uses statistical models in background to predict which tag will go for each word(s) based on the context.\n",
        "\n",
        "Lemmatization\n",
        "It is the process of extracting uninflected/base form of the word. Lemma can be like"
      ],
      "id": "0VI9S2EclkSZ"
    },
    {
      "cell_type": "code",
      "execution_count": null,
      "metadata": {
        "id": "xncczz2jlY9g"
      },
      "outputs": [],
      "source": [
        "tokenized_text = pd.DataFrame()\n",
        "\n",
        "for i, token in enumerate(parsed_review):\n",
        "    tokenized_text.loc[i, 'text'] = token.text\n",
        "    tokenized_text.loc[i, 'lemma'] = token.lemma_,\n",
        "    tokenized_text.loc[i, 'pos'] = token.pos_\n",
        "    tokenized_text.loc[i, 'tag'] = token.tag_\n",
        "    tokenized_text.loc[i, 'dep'] = token.dep_\n",
        "    tokenized_text.loc[i, 'shape'] = token.shape_\n",
        "    tokenized_text.loc[i, 'is_alpha'] = token.is_alpha\n",
        "    tokenized_text.loc[i, 'is_stop'] = token.is_stop\n",
        "    tokenized_text.loc[i, 'is_punctuation'] = token.is_punct"
      ],
      "id": "xncczz2jlY9g"
    },
    {
      "cell_type": "code",
      "execution_count": null,
      "metadata": {
        "id": "VlPYH7Z1mIph"
      },
      "outputs": [],
      "source": [
        "from datasets import load_dataset\n",
        "import nltk\n",
        "from nltk.corpus import stopwords\n",
        "import re\n",
        "from nltk.stem import WordNetLemmatizer"
      ],
      "id": "VlPYH7Z1mIph"
    },
    {
      "cell_type": "code",
      "execution_count": null,
      "metadata": {
        "id": "GLGECHUkmaL_",
        "colab": {
          "base_uri": "https://localhost:8080/"
        },
        "outputId": "74125633-32f4-425d-8143-d311e938070c"
      },
      "outputs": [
        {
          "output_type": "stream",
          "name": "stderr",
          "text": [
            "[nltk_data] Downloading package stopwords to /root/nltk_data...\n",
            "[nltk_data]   Unzipping corpora/stopwords.zip.\n",
            "[nltk_data] Downloading package wordnet to /root/nltk_data...\n",
            "[nltk_data] Downloading package punkt to /root/nltk_data...\n",
            "[nltk_data]   Unzipping tokenizers/punkt.zip.\n",
            "[nltk_data] Downloading package averaged_perceptron_tagger to\n",
            "[nltk_data]     /root/nltk_data...\n",
            "[nltk_data]   Unzipping taggers/averaged_perceptron_tagger.zip.\n",
            "[nltk_data] Downloading package omw-1.4 to /root/nltk_data...\n"
          ]
        }
      ],
      "source": [
        "# Setup\n",
        "!pip install -q wordcloud\n",
        "import wordcloud\n",
        "\n",
        "import nltk\n",
        "nltk.download('stopwords')\n",
        "nltk.download('wordnet')\n",
        "nltk.download('punkt')\n",
        "nltk.download('averaged_perceptron_tagger') \n",
        "nltk.download('omw-1.4')\n",
        "import pandas as pd\n",
        "import matplotlib.pyplot as plt\n",
        "import io\n",
        "import unicodedata\n",
        "import numpy as np\n",
        "import re\n",
        "import string"
      ],
      "id": "GLGECHUkmaL_"
    },
    {
      "cell_type": "code",
      "execution_count": null,
      "metadata": {
        "id": "bAbOq_UmlsWl"
      },
      "outputs": [],
      "source": [
        "#Test preprocessing\n",
        "def cleanText(text):\n",
        "    \"\"\"\n",
        "    function to clean the text,\n",
        "    all methods are explained here\n",
        "    \"\"\"\n",
        "    \n",
        "    lemma = WordNetLemmatizer()\n",
        "    stp = stopwords.words('english')\n",
        "    \n",
        "    # removing everything except alphabetical and numerical characters\n",
        "    text = re.sub(\"[^a-zA-Z0-9]\",\" \",text)\n",
        "    \n",
        "    text = text.lower()\n",
        "    text = nltk.word_tokenize(text)\n",
        "    text = [lemma.lemmatize(word) for word in text]\n",
        "    text = [word for word in text if word not in stp]\n",
        "    text = \" \".join(text)\n",
        "    \n",
        "    return text"
      ],
      "id": "bAbOq_UmlsWl"
    },
    {
      "cell_type": "code",
      "execution_count": null,
      "metadata": {
        "id": "TzaloEmzl4aR"
      },
      "outputs": [],
      "source": [
        "# cleaning the train and test documents\n",
        "train_sentences = list(map(cleanText, trainsent))\n",
        "test_sentences = list(map(cleanText, testsent))"
      ],
      "id": "TzaloEmzl4aR"
    },
    {
      "cell_type": "code",
      "execution_count": null,
      "metadata": {
        "id": "l2bpJI_P12Ht"
      },
      "outputs": [],
      "source": [
        "import pandas as pd\n",
        "import numpy as np\n",
        "#import nltk\n",
        "#from nltk.corpus import stopwords\n",
        "from sklearn.feature_extraction.text import TfidfVectorizer\n",
        "from sklearn.model_selection import train_test_split\n",
        "from sklearn import naive_bayes\n",
        "from sklearn.metrics import roc_auc_score,accuracy_score\n",
        "import pickle"
      ],
      "id": "l2bpJI_P12Ht"
    },
    {
      "cell_type": "code",
      "execution_count": null,
      "metadata": {
        "id": "f2CIAy8alsSw"
      },
      "outputs": [],
      "source": [
        "from sklearn.linear_model import LogisticRegression\n",
        "from sklearn.feature_extraction.text import TfidfVectorizer\n",
        "\n",
        "from sklearn.model_selection import GridSearchCV\n",
        "from sklearn.pipeline import Pipeline\n",
        "\n",
        "from sklearn.metrics import accuracy_score, classification_report, confusion_matrix, f1_score, precision_score, recall_score"
      ],
      "id": "f2CIAy8alsSw"
    },
    {
      "cell_type": "code",
      "execution_count": null,
      "metadata": {
        "id": "vJagY3Hh6S9G"
      },
      "outputs": [],
      "source": [
        "from sklearn.model_selection import train_test_split\n",
        "from sklearn.pipeline import Pipeline\n",
        "from sklearn.feature_extraction.text import CountVectorizer\n",
        "from sklearn.linear_model import SGDClassifier\n",
        "from sklearn.utils import resample\n",
        "from sklearn.metrics import classification_report"
      ],
      "id": "vJagY3Hh6S9G"
    },
    {
      "cell_type": "code",
      "source": [],
      "metadata": {
        "id": "9hjdqtdpkT63"
      },
      "id": "9hjdqtdpkT63",
      "execution_count": null,
      "outputs": []
    },
    {
      "cell_type": "markdown",
      "source": [
        "#Implementation "
      ],
      "metadata": {
        "id": "UuzbeBxRkWB1"
      },
      "id": "UuzbeBxRkWB1"
    },
    {
      "cell_type": "code",
      "execution_count": null,
      "metadata": {
        "id": "pjpId65C6RqF"
      },
      "outputs": [],
      "source": [
        "SD_clf = Pipeline([('cv', CountVectorizer(ngram_range=(1,2))),('clf',  SGDClassifier(class_weight = 'balanced',max_iter=10000,n_iter_no_change=10))])"
      ],
      "id": "pjpId65C6RqF"
    },
    {
      "cell_type": "code",
      "execution_count": null,
      "metadata": {
        "id": "bh4xcHpx6XNY"
      },
      "outputs": [],
      "source": [
        "SD_clf.fit(trainsent, train_lab)"
      ],
      "id": "bh4xcHpx6XNY"
    },
    {
      "cell_type": "code",
      "execution_count": null,
      "metadata": {
        "colab": {
          "base_uri": "https://localhost:8080/",
          "height": 237
        },
        "id": "X2FhbxuO6iww",
        "outputId": "e5202a70-6c76-4ebc-812a-3bb037c41a13"
      },
      "outputs": [
        {
          "data": {
            "text/html": [
              "\n",
              "  <div id=\"df-f062def6-73d0-4be5-8b58-1b0e25e7fef4\">\n",
              "    <div class=\"colab-df-container\">\n",
              "      <div>\n",
              "<style scoped>\n",
              "    .dataframe tbody tr th:only-of-type {\n",
              "        vertical-align: middle;\n",
              "    }\n",
              "\n",
              "    .dataframe tbody tr th {\n",
              "        vertical-align: top;\n",
              "    }\n",
              "\n",
              "    .dataframe thead th {\n",
              "        text-align: right;\n",
              "    }\n",
              "</style>\n",
              "<table border=\"1\" class=\"dataframe\">\n",
              "  <thead>\n",
              "    <tr style=\"text-align: right;\">\n",
              "      <th></th>\n",
              "      <th>precision</th>\n",
              "      <th>recall</th>\n",
              "      <th>f1-score</th>\n",
              "      <th>support</th>\n",
              "    </tr>\n",
              "  </thead>\n",
              "  <tbody>\n",
              "    <tr>\n",
              "      <th>0</th>\n",
              "      <td>0.760625</td>\n",
              "      <td>0.707147</td>\n",
              "      <td>0.732912</td>\n",
              "      <td>1721.00000</td>\n",
              "    </tr>\n",
              "    <tr>\n",
              "      <th>1</th>\n",
              "      <td>0.320000</td>\n",
              "      <td>0.401254</td>\n",
              "      <td>0.356050</td>\n",
              "      <td>638.00000</td>\n",
              "    </tr>\n",
              "    <tr>\n",
              "      <th>2</th>\n",
              "      <td>0.792500</td>\n",
              "      <td>0.772700</td>\n",
              "      <td>0.782475</td>\n",
              "      <td>1641.00000</td>\n",
              "    </tr>\n",
              "    <tr>\n",
              "      <th>accuracy</th>\n",
              "      <td>0.685250</td>\n",
              "      <td>0.685250</td>\n",
              "      <td>0.685250</td>\n",
              "      <td>0.68525</td>\n",
              "    </tr>\n",
              "    <tr>\n",
              "      <th>macro avg</th>\n",
              "      <td>0.624375</td>\n",
              "      <td>0.627033</td>\n",
              "      <td>0.623812</td>\n",
              "      <td>4000.00000</td>\n",
              "    </tr>\n",
              "    <tr>\n",
              "      <th>weighted avg</th>\n",
              "      <td>0.703422</td>\n",
              "      <td>0.685250</td>\n",
              "      <td>0.693135</td>\n",
              "      <td>4000.00000</td>\n",
              "    </tr>\n",
              "  </tbody>\n",
              "</table>\n",
              "</div>\n",
              "      <button class=\"colab-df-convert\" onclick=\"convertToInteractive('df-f062def6-73d0-4be5-8b58-1b0e25e7fef4')\"\n",
              "              title=\"Convert this dataframe to an interactive table.\"\n",
              "              style=\"display:none;\">\n",
              "        \n",
              "  <svg xmlns=\"http://www.w3.org/2000/svg\" height=\"24px\"viewBox=\"0 0 24 24\"\n",
              "       width=\"24px\">\n",
              "    <path d=\"M0 0h24v24H0V0z\" fill=\"none\"/>\n",
              "    <path d=\"M18.56 5.44l.94 2.06.94-2.06 2.06-.94-2.06-.94-.94-2.06-.94 2.06-2.06.94zm-11 1L8.5 8.5l.94-2.06 2.06-.94-2.06-.94L8.5 2.5l-.94 2.06-2.06.94zm10 10l.94 2.06.94-2.06 2.06-.94-2.06-.94-.94-2.06-.94 2.06-2.06.94z\"/><path d=\"M17.41 7.96l-1.37-1.37c-.4-.4-.92-.59-1.43-.59-.52 0-1.04.2-1.43.59L10.3 9.45l-7.72 7.72c-.78.78-.78 2.05 0 2.83L4 21.41c.39.39.9.59 1.41.59.51 0 1.02-.2 1.41-.59l7.78-7.78 2.81-2.81c.8-.78.8-2.07 0-2.86zM5.41 20L4 18.59l7.72-7.72 1.47 1.35L5.41 20z\"/>\n",
              "  </svg>\n",
              "      </button>\n",
              "      \n",
              "  <style>\n",
              "    .colab-df-container {\n",
              "      display:flex;\n",
              "      flex-wrap:wrap;\n",
              "      gap: 12px;\n",
              "    }\n",
              "\n",
              "    .colab-df-convert {\n",
              "      background-color: #E8F0FE;\n",
              "      border: none;\n",
              "      border-radius: 50%;\n",
              "      cursor: pointer;\n",
              "      display: none;\n",
              "      fill: #1967D2;\n",
              "      height: 32px;\n",
              "      padding: 0 0 0 0;\n",
              "      width: 32px;\n",
              "    }\n",
              "\n",
              "    .colab-df-convert:hover {\n",
              "      background-color: #E2EBFA;\n",
              "      box-shadow: 0px 1px 2px rgba(60, 64, 67, 0.3), 0px 1px 3px 1px rgba(60, 64, 67, 0.15);\n",
              "      fill: #174EA6;\n",
              "    }\n",
              "\n",
              "    [theme=dark] .colab-df-convert {\n",
              "      background-color: #3B4455;\n",
              "      fill: #D2E3FC;\n",
              "    }\n",
              "\n",
              "    [theme=dark] .colab-df-convert:hover {\n",
              "      background-color: #434B5C;\n",
              "      box-shadow: 0px 1px 3px 1px rgba(0, 0, 0, 0.15);\n",
              "      filter: drop-shadow(0px 1px 2px rgba(0, 0, 0, 0.3));\n",
              "      fill: #FFFFFF;\n",
              "    }\n",
              "  </style>\n",
              "\n",
              "      <script>\n",
              "        const buttonEl =\n",
              "          document.querySelector('#df-f062def6-73d0-4be5-8b58-1b0e25e7fef4 button.colab-df-convert');\n",
              "        buttonEl.style.display =\n",
              "          google.colab.kernel.accessAllowed ? 'block' : 'none';\n",
              "\n",
              "        async function convertToInteractive(key) {\n",
              "          const element = document.querySelector('#df-f062def6-73d0-4be5-8b58-1b0e25e7fef4');\n",
              "          const dataTable =\n",
              "            await google.colab.kernel.invokeFunction('convertToInteractive',\n",
              "                                                     [key], {});\n",
              "          if (!dataTable) return;\n",
              "\n",
              "          const docLinkHtml = 'Like what you see? Visit the ' +\n",
              "            '<a target=\"_blank\" href=https://colab.research.google.com/notebooks/data_table.ipynb>data table notebook</a>'\n",
              "            + ' to learn more about interactive tables.';\n",
              "          element.innerHTML = '';\n",
              "          dataTable['output_type'] = 'display_data';\n",
              "          await google.colab.output.renderOutput(dataTable, element);\n",
              "          const docLink = document.createElement('div');\n",
              "          docLink.innerHTML = docLinkHtml;\n",
              "          element.appendChild(docLink);\n",
              "        }\n",
              "      </script>\n",
              "    </div>\n",
              "  </div>\n",
              "  "
            ],
            "text/plain": [
              "              precision    recall  f1-score     support\n",
              "0              0.760625  0.707147  0.732912  1721.00000\n",
              "1              0.320000  0.401254  0.356050   638.00000\n",
              "2              0.792500  0.772700  0.782475  1641.00000\n",
              "accuracy       0.685250  0.685250  0.685250     0.68525\n",
              "macro avg      0.624375  0.627033  0.623812  4000.00000\n",
              "weighted avg   0.703422  0.685250  0.693135  4000.00000"
            ]
          },
          "execution_count": 44,
          "metadata": {},
          "output_type": "execute_result"
        }
      ],
      "source": [
        "y_pred = SD_clf.predict(testsent)\n",
        "pd.DataFrame(classification_report(y_pred,test_lab,output_dict=True)).T"
      ],
      "id": "X2FhbxuO6iww"
    },
    {
      "cell_type": "code",
      "execution_count": null,
      "metadata": {
        "id": "O4xb1MBVULlE"
      },
      "outputs": [],
      "source": [
        "vectorise = CountVectorizer()\n",
        "\n"
      ],
      "id": "O4xb1MBVULlE"
    },
    {
      "cell_type": "code",
      "execution_count": null,
      "metadata": {
        "colab": {
          "base_uri": "https://localhost:8080/"
        },
        "id": "EQsuu05W7GGv",
        "outputId": "eee43c2c-4f05-4a60-bf93-d9972bd51ac8"
      },
      "outputs": [
        {
          "name": "stderr",
          "output_type": "stream",
          "text": [
            "/usr/local/lib/python3.7/dist-packages/sklearn/utils/deprecation.py:87: FutureWarning: Function get_feature_names is deprecated; get_feature_names is deprecated in 1.0 and will be removed in 1.2. Please use get_feature_names_out instead.\n",
            "  warnings.warn(msg, category=FutureWarning)\n"
          ]
        }
      ],
      "source": [
        "weights = SD_clf['clf'].coef_\n",
        "features = SD_clf['cv'].get_feature_names()"
      ],
      "id": "EQsuu05W7GGv"
    },
    {
      "cell_type": "code",
      "execution_count": null,
      "metadata": {
        "id": "EXeeq1S4zE1a"
      },
      "outputs": [],
      "source": [
        "# ConfusionMatrixDisplay(cm).plot()"
      ],
      "id": "EXeeq1S4zE1a"
    },
    {
      "cell_type": "code",
      "execution_count": null,
      "metadata": {
        "colab": {
          "base_uri": "https://localhost:8080/"
        },
        "id": "hACoWR3yzExt",
        "outputId": "5d7cf8c9-178d-4feb-bffc-5804fe025cbc"
      },
      "outputs": [
        {
          "name": "stdout",
          "output_type": "stream",
          "text": [
            "Micro Average Precision Score = 0.68525\n",
            "Micro Average Recall Score = 0.68525\n",
            "Micro Average  F1-Score = 0.68525\n"
          ]
        }
      ],
      "source": [
        "print(f\"Micro Average Precision Score = {precision_score(test_lab, y_pred, average='micro')}\")\n",
        "print(f\"Micro Average Recall Score = {recall_score(test_lab, y_pred, average='micro')}\")\n",
        "print(f\"Micro Average  F1-Score = {f1_score(test_lab, y_pred, average='micro')}\")"
      ],
      "id": "hACoWR3yzExt"
    },
    {
      "cell_type": "markdown",
      "metadata": {
        "id": "iGQKzNsdbbKH"
      },
      "source": [
        "check weights "
      ],
      "id": "iGQKzNsdbbKH"
    },
    {
      "cell_type": "code",
      "execution_count": null,
      "metadata": {
        "colab": {
          "base_uri": "https://localhost:8080/"
        },
        "id": "UIkf-gks7GDE",
        "outputId": "cb9831f1-9d38-4bfc-9a62-4f16d79bff01"
      },
      "outputs": [
        {
          "data": {
            "text/plain": [
              "(3, 197557)"
            ]
          },
          "execution_count": 47,
          "metadata": {},
          "output_type": "execute_result"
        }
      ],
      "source": [
        "weights.shape"
      ],
      "id": "UIkf-gks7GDE"
    },
    {
      "cell_type": "code",
      "execution_count": null,
      "metadata": {
        "id": "iXtLJSlZ7GAV"
      },
      "outputs": [],
      "source": [
        "top_features_bad = weights[2].argsort()[:20]"
      ],
      "id": "iXtLJSlZ7GAV"
    },
    {
      "cell_type": "code",
      "execution_count": null,
      "metadata": {
        "id": "56BPfW8bbm1i"
      },
      "outputs": [],
      "source": [
        "top_features_neutral = weights[1].argsort()[:20]"
      ],
      "id": "56BPfW8bbm1i"
    },
    {
      "cell_type": "code",
      "execution_count": null,
      "metadata": {
        "id": "yyMI3yxpbq3U"
      },
      "outputs": [],
      "source": [
        "top_features_good = weights[0].argsort()[:20]"
      ],
      "id": "yyMI3yxpbq3U"
    },
    {
      "cell_type": "code",
      "execution_count": null,
      "metadata": {
        "id": "eGjljFelZfzU"
      },
      "outputs": [],
      "source": [
        "features = np.array(features)"
      ],
      "id": "eGjljFelZfzU"
    },
    {
      "cell_type": "code",
      "execution_count": null,
      "metadata": {
        "colab": {
          "base_uri": "https://localhost:8080/"
        },
        "id": "vo6QoKplZf27",
        "outputId": "465e1258-7661-4bc5-9d7a-7767d7bd7c6a"
      },
      "outputs": [
        {
          "data": {
            "text/plain": [
              "array(['disappointed', 'not very', 'unfortunately', 'horrible',\n",
              "       'great but', 'not worth', 'broke', 'not great', 'size was',\n",
              "       'stopped', 'smaller than', 'guess', 'not happy', 'product good',\n",
              "       'larger than', 'doesn', 'price but', 'fits little', 'to small',\n",
              "       'some work'], dtype='<U54')"
            ]
          },
          "execution_count": 52,
          "metadata": {},
          "output_type": "execute_result"
        }
      ],
      "source": [
        "features[top_features_bad]"
      ],
      "id": "vo6QoKplZf27"
    },
    {
      "cell_type": "code",
      "execution_count": null,
      "metadata": {
        "colab": {
          "base_uri": "https://localhost:8080/"
        },
        "id": "rf9RqTTRcAv3",
        "outputId": "3cfa790c-0a44-4778-d11c-dcce894f5dae"
      },
      "outputs": [
        {
          "data": {
            "text/plain": [
              "array(['but smaller', 'was much', 'the next', 'program', 'works as',\n",
              "       'but otherwise', 'it little', 'long but', 'bass', 'as pictured',\n",
              "       'expected and', 'are the', 'return it', 'money', 'for small',\n",
              "       'is perfect', 'cute little', 'aware', 'and did', 'works they'],\n",
              "      dtype='<U54')"
            ]
          },
          "execution_count": 53,
          "metadata": {},
          "output_type": "execute_result"
        }
      ],
      "source": [
        "features[top_features_neutral]"
      ],
      "id": "rf9RqTTRcAv3"
    },
    {
      "cell_type": "code",
      "execution_count": null,
      "metadata": {
        "colab": {
          "base_uri": "https://localhost:8080/"
        },
        "id": "eFhYCjbbcAsj",
        "outputId": "a37e5c5e-27cd-4c64-c811-7b6a16366d1f"
      },
      "outputs": [
        {
          "data": {
            "text/plain": [
              "array(['not bad', 'not too', 'awesome', 'looked cheap', 'perfect',\n",
              "       'then thought', 'accessories', 'attractive', 'great', 'loves',\n",
              "       'expecting it', 'works well', 'sturdy', 'would buy', 'likes',\n",
              "       'amazing', 'back for', 'very sturdy', 'in damaged', 'package at'],\n",
              "      dtype='<U54')"
            ]
          },
          "execution_count": 54,
          "metadata": {},
          "output_type": "execute_result"
        }
      ],
      "source": [
        "features[top_features_good]"
      ],
      "id": "eFhYCjbbcAsj"
    },
    {
      "cell_type": "markdown",
      "metadata": {
        "id": "1m9Kj3qsclaq"
      },
      "source": [
        "these are the top features on which our model predicts "
      ],
      "id": "1m9Kj3qsclaq"
    },
    {
      "cell_type": "code",
      "execution_count": null,
      "metadata": {
        "id": "SiWAQAjncAqI"
      },
      "outputs": [],
      "source": [
        "pip install eli5"
      ],
      "id": "SiWAQAjncAqI"
    },
    {
      "cell_type": "markdown",
      "metadata": {
        "id": "cHBiZa_qg9bh"
      },
      "source": [
        "features and their weights "
      ],
      "id": "cHBiZa_qg9bh"
    },
    {
      "cell_type": "code",
      "execution_count": null,
      "metadata": {
        "id": "CwJSjuz2g3jv"
      },
      "outputs": [],
      "source": [
        "import eli5"
      ],
      "id": "CwJSjuz2g3jv"
    },
    {
      "cell_type": "code",
      "execution_count": null,
      "metadata": {
        "colab": {
          "base_uri": "https://localhost:8080/",
          "height": 531
        },
        "id": "KhK_CBFWcAoB",
        "outputId": "94ec7c7d-9675-418d-cf34-bf6b428fb49a"
      },
      "outputs": [
        {
          "name": "stderr",
          "output_type": "stream",
          "text": [
            "/usr/local/lib/python3.7/dist-packages/sklearn/utils/deprecation.py:87: FutureWarning: Function get_feature_names is deprecated; get_feature_names is deprecated in 1.0 and will be removed in 1.2. Please use get_feature_names_out instead.\n",
            "  warnings.warn(msg, category=FutureWarning)\n"
          ]
        },
        {
          "data": {
            "text/html": [
              "\n",
              "    <style>\n",
              "    table.eli5-weights tr:hover {\n",
              "        filter: brightness(85%);\n",
              "    }\n",
              "</style>\n",
              "\n",
              "\n",
              "\n",
              "    \n",
              "\n",
              "    \n",
              "\n",
              "    \n",
              "\n",
              "    \n",
              "\n",
              "    \n",
              "\n",
              "    \n",
              "\n",
              "\n",
              "    \n",
              "\n",
              "    \n",
              "\n",
              "    \n",
              "\n",
              "    \n",
              "        \n",
              "\n",
              "    \n",
              "        <table class=\"eli5-weights-wrapper\" style=\"border-collapse: collapse; border: none; margin-bottom: 1.5em;\">\n",
              "            <tr>\n",
              "                \n",
              "                    <td style=\"padding: 0.5em; border: 1px solid black; text-align: center;\">\n",
              "                        <b>\n",
              "    \n",
              "        y=0\n",
              "    \n",
              "</b>\n",
              "\n",
              "top features\n",
              "                    </td>\n",
              "                \n",
              "                    <td style=\"padding: 0.5em; border: 1px solid black; text-align: center;\">\n",
              "                        <b>\n",
              "    \n",
              "        y=1\n",
              "    \n",
              "</b>\n",
              "\n",
              "top features\n",
              "                    </td>\n",
              "                \n",
              "                    <td style=\"padding: 0.5em; border: 1px solid black; text-align: center;\">\n",
              "                        <b>\n",
              "    \n",
              "        y=2\n",
              "    \n",
              "</b>\n",
              "\n",
              "top features\n",
              "                    </td>\n",
              "                \n",
              "            </tr>\n",
              "            <tr>\n",
              "                \n",
              "                    \n",
              "                        <td style=\"padding: 0px; border: 1px solid black; vertical-align: top;\">\n",
              "                            \n",
              "                                \n",
              "                                    \n",
              "                                    \n",
              "    \n",
              "    <table class=\"eli5-weights\"\n",
              "           style=\"border-collapse: collapse; border: none; margin-top: 0em; table-layout: auto; width: 100%;\">\n",
              "        <thead>\n",
              "        <tr style=\"border: none;\">\n",
              "            \n",
              "                <th style=\"padding: 0 1em 0 0.5em; text-align: right; border: none;\" title=\"Feature weights. Note that weights do not account for feature value scales, so if feature values have different scales, features with highest weights might not be the most important.\">\n",
              "                    Weight<sup>?</sup>\n",
              "                </th>\n",
              "            \n",
              "            <th style=\"padding: 0 0.5em 0 0.5em; text-align: left; border: none;\">Feature</th>\n",
              "            \n",
              "        </tr>\n",
              "        </thead>\n",
              "        <tbody>\n",
              "        \n",
              "            <tr style=\"background-color: hsl(120, 100.00%, 84.18%); border: none;\">\n",
              "    <td style=\"padding: 0 1em 0 0.5em; text-align: right; border: none;\">\n",
              "        +1.070\n",
              "    </td>\n",
              "    <td style=\"padding: 0 0.5em 0 0.5em; text-align: left; border: none;\">\n",
              "        junk\n",
              "    </td>\n",
              "    \n",
              "</tr>\n",
              "        \n",
              "            <tr style=\"background-color: hsl(120, 100.00%, 85.30%); border: none;\">\n",
              "    <td style=\"padding: 0 1em 0 0.5em; text-align: right; border: none;\">\n",
              "        +0.963\n",
              "    </td>\n",
              "    <td style=\"padding: 0 0.5em 0 0.5em; text-align: left; border: none;\">\n",
              "        horrible\n",
              "    </td>\n",
              "    \n",
              "</tr>\n",
              "        \n",
              "            <tr style=\"background-color: hsl(120, 100.00%, 85.49%); border: none;\">\n",
              "    <td style=\"padding: 0 1em 0 0.5em; text-align: right; border: none;\">\n",
              "        +0.945\n",
              "    </td>\n",
              "    <td style=\"padding: 0 0.5em 0 0.5em; text-align: left; border: none;\">\n",
              "        much smaller\n",
              "    </td>\n",
              "    \n",
              "</tr>\n",
              "        \n",
              "            <tr style=\"background-color: hsl(120, 100.00%, 85.85%); border: none;\">\n",
              "    <td style=\"padding: 0 1em 0 0.5em; text-align: right; border: none;\">\n",
              "        +0.912\n",
              "    </td>\n",
              "    <td style=\"padding: 0 0.5em 0 0.5em; text-align: left; border: none;\">\n",
              "        wouldn\n",
              "    </td>\n",
              "    \n",
              "</tr>\n",
              "        \n",
              "            <tr style=\"background-color: hsl(120, 100.00%, 86.23%); border: none;\">\n",
              "    <td style=\"padding: 0 1em 0 0.5em; text-align: right; border: none;\">\n",
              "        +0.876\n",
              "    </td>\n",
              "    <td style=\"padding: 0 0.5em 0 0.5em; text-align: left; border: none;\">\n",
              "        wasn what\n",
              "    </td>\n",
              "    \n",
              "</tr>\n",
              "        \n",
              "            <tr style=\"background-color: hsl(120, 100.00%, 86.79%); border: none;\">\n",
              "    <td style=\"padding: 0 1em 0 0.5em; text-align: right; border: none;\">\n",
              "        +0.826\n",
              "    </td>\n",
              "    <td style=\"padding: 0 0.5em 0 0.5em; text-align: left; border: none;\">\n",
              "        terrible\n",
              "    </td>\n",
              "    \n",
              "</tr>\n",
              "        \n",
              "            <tr style=\"background-color: hsl(120, 100.00%, 86.79%); border: none;\">\n",
              "    <td style=\"padding: 0 1em 0 0.5em; text-align: right; border: none;\">\n",
              "        +0.826\n",
              "    </td>\n",
              "    <td style=\"padding: 0 0.5em 0 0.5em; text-align: left; border: none;\">\n",
              "        not happy\n",
              "    </td>\n",
              "    \n",
              "</tr>\n",
              "        \n",
              "            <tr style=\"background-color: hsl(120, 100.00%, 86.86%); border: none;\">\n",
              "    <td style=\"padding: 0 1em 0 0.5em; text-align: right; border: none;\">\n",
              "        +0.820\n",
              "    </td>\n",
              "    <td style=\"padding: 0 0.5em 0 0.5em; text-align: left; border: none;\">\n",
              "        useless\n",
              "    </td>\n",
              "    \n",
              "</tr>\n",
              "        \n",
              "            <tr style=\"background-color: hsl(120, 100.00%, 86.89%); border: none;\">\n",
              "    <td style=\"padding: 0 1em 0 0.5em; text-align: right; border: none;\">\n",
              "        +0.817\n",
              "    </td>\n",
              "    <td style=\"padding: 0 0.5em 0 0.5em; text-align: left; border: none;\">\n",
              "        fine but\n",
              "    </td>\n",
              "    \n",
              "</tr>\n",
              "        \n",
              "            <tr style=\"background-color: hsl(120, 100.00%, 87.06%); border: none;\">\n",
              "    <td style=\"padding: 0 1em 0 0.5em; text-align: right; border: none;\">\n",
              "        +0.802\n",
              "    </td>\n",
              "    <td style=\"padding: 0 0.5em 0 0.5em; text-align: left; border: none;\">\n",
              "        not received\n",
              "    </td>\n",
              "    \n",
              "</tr>\n",
              "        \n",
              "            <tr style=\"background-color: hsl(120, 100.00%, 87.30%); border: none;\">\n",
              "    <td style=\"padding: 0 1em 0 0.5em; text-align: right; border: none;\">\n",
              "        +0.781\n",
              "    </td>\n",
              "    <td style=\"padding: 0 0.5em 0 0.5em; text-align: left; border: none;\">\n",
              "        nothing\n",
              "    </td>\n",
              "    \n",
              "</tr>\n",
              "        \n",
              "            <tr style=\"background-color: hsl(120, 100.00%, 87.40%); border: none;\">\n",
              "    <td style=\"padding: 0 1em 0 0.5em; text-align: right; border: none;\">\n",
              "        +0.772\n",
              "    </td>\n",
              "    <td style=\"padding: 0 0.5em 0 0.5em; text-align: left; border: none;\">\n",
              "        one works\n",
              "    </td>\n",
              "    \n",
              "</tr>\n",
              "        \n",
              "            <tr style=\"background-color: hsl(120, 100.00%, 87.50%); border: none;\">\n",
              "    <td style=\"padding: 0 1em 0 0.5em; text-align: right; border: none;\">\n",
              "        +0.764\n",
              "    </td>\n",
              "    <td style=\"padding: 0 0.5em 0 0.5em; text-align: left; border: none;\">\n",
              "        waste\n",
              "    </td>\n",
              "    \n",
              "</tr>\n",
              "        \n",
              "            <tr style=\"background-color: hsl(120, 100.00%, 87.60%); border: none;\">\n",
              "    <td style=\"padding: 0 1em 0 0.5em; text-align: right; border: none;\">\n",
              "        +0.755\n",
              "    </td>\n",
              "    <td style=\"padding: 0 0.5em 0 0.5em; text-align: left; border: none;\">\n",
              "        not good\n",
              "    </td>\n",
              "    \n",
              "</tr>\n",
              "        \n",
              "        \n",
              "            <tr style=\"background-color: hsl(120, 100.00%, 87.60%); border: none;\">\n",
              "                <td colspan=\"2\" style=\"padding: 0 0.5em 0 0.5em; text-align: center; border: none; white-space: nowrap;\">\n",
              "                    <i>&hellip; 69746 more positive &hellip;</i>\n",
              "                </td>\n",
              "            </tr>\n",
              "        \n",
              "\n",
              "        \n",
              "            <tr style=\"background-color: hsl(0, 100.00%, 87.40%); border: none;\">\n",
              "                <td colspan=\"2\" style=\"padding: 0 0.5em 0 0.5em; text-align: center; border: none; white-space: nowrap;\">\n",
              "                    <i>&hellip; 78603 more negative &hellip;</i>\n",
              "                </td>\n",
              "            </tr>\n",
              "        \n",
              "        \n",
              "            <tr style=\"background-color: hsl(0, 100.00%, 87.40%); border: none;\">\n",
              "    <td style=\"padding: 0 1em 0 0.5em; text-align: right; border: none;\">\n",
              "        -0.772\n",
              "    </td>\n",
              "    <td style=\"padding: 0 0.5em 0 0.5em; text-align: left; border: none;\">\n",
              "        awesome\n",
              "    </td>\n",
              "    \n",
              "</tr>\n",
              "        \n",
              "            <tr style=\"background-color: hsl(0, 100.00%, 87.00%); border: none;\">\n",
              "    <td style=\"padding: 0 1em 0 0.5em; text-align: right; border: none;\">\n",
              "        -0.808\n",
              "    </td>\n",
              "    <td style=\"padding: 0 0.5em 0 0.5em; text-align: left; border: none;\">\n",
              "        perfectly\n",
              "    </td>\n",
              "    \n",
              "</tr>\n",
              "        \n",
              "            <tr style=\"background-color: hsl(0, 100.00%, 87.00%); border: none;\">\n",
              "    <td style=\"padding: 0 1em 0 0.5em; text-align: right; border: none;\">\n",
              "        -0.808\n",
              "    </td>\n",
              "    <td style=\"padding: 0 0.5em 0 0.5em; text-align: left; border: none;\">\n",
              "        note\n",
              "    </td>\n",
              "    \n",
              "</tr>\n",
              "        \n",
              "            <tr style=\"background-color: hsl(0, 100.00%, 86.50%); border: none;\">\n",
              "    <td style=\"padding: 0 1em 0 0.5em; text-align: right; border: none;\">\n",
              "        -0.853\n",
              "    </td>\n",
              "    <td style=\"padding: 0 0.5em 0 0.5em; text-align: left; border: none;\">\n",
              "        not too\n",
              "    </td>\n",
              "    \n",
              "</tr>\n",
              "        \n",
              "            <tr style=\"background-color: hsl(0, 100.00%, 86.40%); border: none;\">\n",
              "    <td style=\"padding: 0 1em 0 0.5em; text-align: right; border: none;\">\n",
              "        -0.862\n",
              "    </td>\n",
              "    <td style=\"padding: 0 0.5em 0 0.5em; text-align: left; border: none;\">\n",
              "        on time\n",
              "    </td>\n",
              "    \n",
              "</tr>\n",
              "        \n",
              "            <tr style=\"background-color: hsl(0, 100.00%, 82.05%); border: none;\">\n",
              "    <td style=\"padding: 0 1em 0 0.5em; text-align: right; border: none;\">\n",
              "        -1.280\n",
              "    </td>\n",
              "    <td style=\"padding: 0 0.5em 0 0.5em; text-align: left; border: none;\">\n",
              "        not bad\n",
              "    </td>\n",
              "    \n",
              "</tr>\n",
              "        \n",
              "\n",
              "        </tbody>\n",
              "    </table>\n",
              "\n",
              "                                \n",
              "                            \n",
              "                        </td>\n",
              "                    \n",
              "                        <td style=\"padding: 0px; border: 1px solid black; vertical-align: top;\">\n",
              "                            \n",
              "                                \n",
              "                                    \n",
              "                                    \n",
              "    \n",
              "    <table class=\"eli5-weights\"\n",
              "           style=\"border-collapse: collapse; border: none; margin-top: 0em; table-layout: auto; width: 100%;\">\n",
              "        <thead>\n",
              "        <tr style=\"border: none;\">\n",
              "            \n",
              "                <th style=\"padding: 0 1em 0 0.5em; text-align: right; border: none;\" title=\"Feature weights. Note that weights do not account for feature value scales, so if feature values have different scales, features with highest weights might not be the most important.\">\n",
              "                    Weight<sup>?</sup>\n",
              "                </th>\n",
              "            \n",
              "            <th style=\"padding: 0 0.5em 0 0.5em; text-align: left; border: none;\">Feature</th>\n",
              "            \n",
              "        </tr>\n",
              "        </thead>\n",
              "        <tbody>\n",
              "        \n",
              "            <tr style=\"background-color: hsl(120, 100.00%, 80.00%); border: none;\">\n",
              "    <td style=\"padding: 0 1em 0 0.5em; text-align: right; border: none;\">\n",
              "        +1.494\n",
              "    </td>\n",
              "    <td style=\"padding: 0 0.5em 0 0.5em; text-align: left; border: none;\">\n",
              "        didn love\n",
              "    </td>\n",
              "    \n",
              "</tr>\n",
              "        \n",
              "            <tr style=\"background-color: hsl(120, 100.00%, 82.18%); border: none;\">\n",
              "    <td style=\"padding: 0 1em 0 0.5em; text-align: right; border: none;\">\n",
              "        +1.267\n",
              "    </td>\n",
              "    <td style=\"padding: 0 0.5em 0 0.5em; text-align: left; border: none;\">\n",
              "        good products\n",
              "    </td>\n",
              "    \n",
              "</tr>\n",
              "        \n",
              "            <tr style=\"background-color: hsl(120, 100.00%, 83.22%); border: none;\">\n",
              "    <td style=\"padding: 0 1em 0 0.5em; text-align: right; border: none;\">\n",
              "        +1.163\n",
              "    </td>\n",
              "    <td style=\"padding: 0 0.5em 0 0.5em; text-align: left; border: none;\">\n",
              "        for water\n",
              "    </td>\n",
              "    \n",
              "</tr>\n",
              "        \n",
              "            <tr style=\"background-color: hsl(120, 100.00%, 83.55%); border: none;\">\n",
              "    <td style=\"padding: 0 1em 0 0.5em; text-align: right; border: none;\">\n",
              "        +1.131\n",
              "    </td>\n",
              "    <td style=\"padding: 0 0.5em 0 0.5em; text-align: left; border: none;\">\n",
              "        really have\n",
              "    </td>\n",
              "    \n",
              "</tr>\n",
              "        \n",
              "            <tr style=\"background-color: hsl(120, 100.00%, 84.42%); border: none;\">\n",
              "    <td style=\"padding: 0 1em 0 0.5em; text-align: right; border: none;\">\n",
              "        +1.046\n",
              "    </td>\n",
              "    <td style=\"padding: 0 0.5em 0 0.5em; text-align: left; border: none;\">\n",
              "        most part\n",
              "    </td>\n",
              "    \n",
              "</tr>\n",
              "        \n",
              "            <tr style=\"background-color: hsl(120, 100.00%, 84.49%); border: none;\">\n",
              "    <td style=\"padding: 0 1em 0 0.5em; text-align: right; border: none;\">\n",
              "        +1.040\n",
              "    </td>\n",
              "    <td style=\"padding: 0 0.5em 0 0.5em; text-align: left; border: none;\">\n",
              "        product way\n",
              "    </td>\n",
              "    \n",
              "</tr>\n",
              "        \n",
              "            <tr style=\"background-color: hsl(120, 100.00%, 84.49%); border: none;\">\n",
              "    <td style=\"padding: 0 1em 0 0.5em; text-align: right; border: none;\">\n",
              "        +1.040\n",
              "    </td>\n",
              "    <td style=\"padding: 0 0.5em 0 0.5em; text-align: left; border: none;\">\n",
              "        described happy\n",
              "    </td>\n",
              "    \n",
              "</tr>\n",
              "        \n",
              "            <tr style=\"background-color: hsl(120, 100.00%, 84.69%); border: none;\">\n",
              "    <td style=\"padding: 0 1em 0 0.5em; text-align: right; border: none;\">\n",
              "        +1.020\n",
              "    </td>\n",
              "    <td style=\"padding: 0 0.5em 0 0.5em; text-align: left; border: none;\">\n",
              "        product thanks\n",
              "    </td>\n",
              "    \n",
              "</tr>\n",
              "        \n",
              "            <tr style=\"background-color: hsl(120, 100.00%, 84.83%); border: none;\">\n",
              "    <td style=\"padding: 0 1em 0 0.5em; text-align: right; border: none;\">\n",
              "        +1.007\n",
              "    </td>\n",
              "    <td style=\"padding: 0 0.5em 0 0.5em; text-align: left; border: none;\">\n",
              "        in ear\n",
              "    </td>\n",
              "    \n",
              "</tr>\n",
              "        \n",
              "            <tr style=\"background-color: hsl(120, 100.00%, 84.83%); border: none;\">\n",
              "    <td style=\"padding: 0 1em 0 0.5em; text-align: right; border: none;\">\n",
              "        +1.007\n",
              "    </td>\n",
              "    <td style=\"padding: 0 0.5em 0 0.5em; text-align: left; border: none;\">\n",
              "        the didnt\n",
              "    </td>\n",
              "    \n",
              "</tr>\n",
              "        \n",
              "            <tr style=\"background-color: hsl(120, 100.00%, 84.83%); border: none;\">\n",
              "    <td style=\"padding: 0 1em 0 0.5em; text-align: right; border: none;\">\n",
              "        +1.007\n",
              "    </td>\n",
              "    <td style=\"padding: 0 0.5em 0 0.5em; text-align: left; border: none;\">\n",
              "        one suction\n",
              "    </td>\n",
              "    \n",
              "</tr>\n",
              "        \n",
              "            <tr style=\"background-color: hsl(120, 100.00%, 84.83%); border: none;\">\n",
              "    <td style=\"padding: 0 1em 0 0.5em; text-align: right; border: none;\">\n",
              "        +1.007\n",
              "    </td>\n",
              "    <td style=\"padding: 0 0.5em 0 0.5em; text-align: left; border: none;\">\n",
              "        bag cheaply\n",
              "    </td>\n",
              "    \n",
              "</tr>\n",
              "        \n",
              "            <tr style=\"background-color: hsl(120, 100.00%, 85.03%); border: none;\">\n",
              "    <td style=\"padding: 0 1em 0 0.5em; text-align: right; border: none;\">\n",
              "        +0.988\n",
              "    </td>\n",
              "    <td style=\"padding: 0 0.5em 0 0.5em; text-align: left; border: none;\">\n",
              "        small in\n",
              "    </td>\n",
              "    \n",
              "</tr>\n",
              "        \n",
              "            <tr style=\"background-color: hsl(120, 100.00%, 85.10%); border: none;\">\n",
              "    <td style=\"padding: 0 1em 0 0.5em; text-align: right; border: none;\">\n",
              "        +0.981\n",
              "    </td>\n",
              "    <td style=\"padding: 0 0.5em 0 0.5em; text-align: left; border: none;\">\n",
              "        uncomfortable to\n",
              "    </td>\n",
              "    \n",
              "</tr>\n",
              "        \n",
              "            <tr style=\"background-color: hsl(120, 100.00%, 85.17%); border: none;\">\n",
              "    <td style=\"padding: 0 1em 0 0.5em; text-align: right; border: none;\">\n",
              "        +0.975\n",
              "    </td>\n",
              "    <td style=\"padding: 0 0.5em 0 0.5em; text-align: left; border: none;\">\n",
              "        looking work\n",
              "    </td>\n",
              "    \n",
              "</tr>\n",
              "        \n",
              "            <tr style=\"background-color: hsl(120, 100.00%, 85.17%); border: none;\">\n",
              "    <td style=\"padding: 0 1em 0 0.5em; text-align: right; border: none;\">\n",
              "        +0.975\n",
              "    </td>\n",
              "    <td style=\"padding: 0 0.5em 0 0.5em; text-align: left; border: none;\">\n",
              "        are bulky\n",
              "    </td>\n",
              "    \n",
              "</tr>\n",
              "        \n",
              "            <tr style=\"background-color: hsl(120, 100.00%, 85.17%); border: none;\">\n",
              "    <td style=\"padding: 0 1em 0 0.5em; text-align: right; border: none;\">\n",
              "        +0.975\n",
              "    </td>\n",
              "    <td style=\"padding: 0 0.5em 0 0.5em; text-align: left; border: none;\">\n",
              "        more volume\n",
              "    </td>\n",
              "    \n",
              "</tr>\n",
              "        \n",
              "        \n",
              "            <tr style=\"background-color: hsl(120, 100.00%, 85.17%); border: none;\">\n",
              "                <td colspan=\"2\" style=\"padding: 0 0.5em 0 0.5em; text-align: center; border: none; white-space: nowrap;\">\n",
              "                    <i>&hellip; 50010 more positive &hellip;</i>\n",
              "                </td>\n",
              "            </tr>\n",
              "        \n",
              "\n",
              "        \n",
              "            <tr style=\"background-color: hsl(0, 100.00%, 84.49%); border: none;\">\n",
              "                <td colspan=\"2\" style=\"padding: 0 0.5em 0 0.5em; text-align: center; border: none; white-space: nowrap;\">\n",
              "                    <i>&hellip; 106350 more negative &hellip;</i>\n",
              "                </td>\n",
              "            </tr>\n",
              "        \n",
              "        \n",
              "            <tr style=\"background-color: hsl(0, 100.00%, 84.49%); border: none;\">\n",
              "    <td style=\"padding: 0 1em 0 0.5em; text-align: right; border: none;\">\n",
              "        -1.039\n",
              "    </td>\n",
              "    <td style=\"padding: 0 0.5em 0 0.5em; text-align: left; border: none;\">\n",
              "        &lt;BIAS&gt;\n",
              "    </td>\n",
              "    \n",
              "</tr>\n",
              "        \n",
              "            <tr style=\"background-color: hsl(0, 100.00%, 84.15%); border: none;\">\n",
              "    <td style=\"padding: 0 1em 0 0.5em; text-align: right; border: none;\">\n",
              "        -1.072\n",
              "    </td>\n",
              "    <td style=\"padding: 0 0.5em 0 0.5em; text-align: left; border: none;\">\n",
              "        ok not\n",
              "    </td>\n",
              "    \n",
              "</tr>\n",
              "        \n",
              "            <tr style=\"background-color: hsl(0, 100.00%, 82.18%); border: none;\">\n",
              "    <td style=\"padding: 0 1em 0 0.5em; text-align: right; border: none;\">\n",
              "        -1.267\n",
              "    </td>\n",
              "    <td style=\"padding: 0 0.5em 0 0.5em; text-align: left; border: none;\">\n",
              "        be but\n",
              "    </td>\n",
              "    \n",
              "</tr>\n",
              "        \n",
              "\n",
              "        </tbody>\n",
              "    </table>\n",
              "\n",
              "                                \n",
              "                            \n",
              "                        </td>\n",
              "                    \n",
              "                        <td style=\"padding: 0px; border: 1px solid black; vertical-align: top;\">\n",
              "                            \n",
              "                                \n",
              "                                    \n",
              "                                    \n",
              "    \n",
              "    <table class=\"eli5-weights\"\n",
              "           style=\"border-collapse: collapse; border: none; margin-top: 0em; table-layout: auto; width: 100%;\">\n",
              "        <thead>\n",
              "        <tr style=\"border: none;\">\n",
              "            \n",
              "                <th style=\"padding: 0 1em 0 0.5em; text-align: right; border: none;\" title=\"Feature weights. Note that weights do not account for feature value scales, so if feature values have different scales, features with highest weights might not be the most important.\">\n",
              "                    Weight<sup>?</sup>\n",
              "                </th>\n",
              "            \n",
              "            <th style=\"padding: 0 0.5em 0 0.5em; text-align: left; border: none;\">Feature</th>\n",
              "            \n",
              "        </tr>\n",
              "        </thead>\n",
              "        <tbody>\n",
              "        \n",
              "            <tr style=\"background-color: hsl(120, 100.00%, 81.25%); border: none;\">\n",
              "    <td style=\"padding: 0 1em 0 0.5em; text-align: right; border: none;\">\n",
              "        +1.363\n",
              "    </td>\n",
              "    <td style=\"padding: 0 0.5em 0 0.5em; text-align: left; border: none;\">\n",
              "        not too\n",
              "    </td>\n",
              "    \n",
              "</tr>\n",
              "        \n",
              "            <tr style=\"background-color: hsl(120, 100.00%, 83.11%); border: none;\">\n",
              "    <td style=\"padding: 0 1em 0 0.5em; text-align: right; border: none;\">\n",
              "        +1.174\n",
              "    </td>\n",
              "    <td style=\"padding: 0 0.5em 0 0.5em; text-align: left; border: none;\">\n",
              "        not bad\n",
              "    </td>\n",
              "    \n",
              "</tr>\n",
              "        \n",
              "            <tr style=\"background-color: hsl(120, 100.00%, 83.11%); border: none;\">\n",
              "    <td style=\"padding: 0 1em 0 0.5em; text-align: right; border: none;\">\n",
              "        +1.174\n",
              "    </td>\n",
              "    <td style=\"padding: 0 0.5em 0 0.5em; text-align: left; border: none;\">\n",
              "        better than\n",
              "    </td>\n",
              "    \n",
              "</tr>\n",
              "        \n",
              "            <tr style=\"background-color: hsl(120, 100.00%, 84.89%); border: none;\">\n",
              "    <td style=\"padding: 0 1em 0 0.5em; text-align: right; border: none;\">\n",
              "        +1.002\n",
              "    </td>\n",
              "    <td style=\"padding: 0 0.5em 0 0.5em; text-align: left; border: none;\">\n",
              "        awesome\n",
              "    </td>\n",
              "    \n",
              "</tr>\n",
              "        \n",
              "            <tr style=\"background-color: hsl(120, 100.00%, 85.32%); border: none;\">\n",
              "    <td style=\"padding: 0 1em 0 0.5em; text-align: right; border: none;\">\n",
              "        +0.961\n",
              "    </td>\n",
              "    <td style=\"padding: 0 0.5em 0 0.5em; text-align: left; border: none;\">\n",
              "        wonderful\n",
              "    </td>\n",
              "    \n",
              "</tr>\n",
              "        \n",
              "            <tr style=\"background-color: hsl(120, 100.00%, 85.50%); border: none;\">\n",
              "    <td style=\"padding: 0 1em 0 0.5em; text-align: right; border: none;\">\n",
              "        +0.944\n",
              "    </td>\n",
              "    <td style=\"padding: 0 0.5em 0 0.5em; text-align: left; border: none;\">\n",
              "        perfect\n",
              "    </td>\n",
              "    \n",
              "</tr>\n",
              "        \n",
              "            <tr style=\"background-color: hsl(120, 100.00%, 85.56%); border: none;\">\n",
              "    <td style=\"padding: 0 1em 0 0.5em; text-align: right; border: none;\">\n",
              "        +0.939\n",
              "    </td>\n",
              "    <td style=\"padding: 0 0.5em 0 0.5em; text-align: left; border: none;\">\n",
              "        love\n",
              "    </td>\n",
              "    \n",
              "</tr>\n",
              "        \n",
              "            <tr style=\"background-color: hsl(120, 100.00%, 85.65%); border: none;\">\n",
              "    <td style=\"padding: 0 1em 0 0.5em; text-align: right; border: none;\">\n",
              "        +0.930\n",
              "    </td>\n",
              "    <td style=\"padding: 0 0.5em 0 0.5em; text-align: left; border: none;\">\n",
              "        great\n",
              "    </td>\n",
              "    \n",
              "</tr>\n",
              "        \n",
              "            <tr style=\"background-color: hsl(120, 100.00%, 86.51%); border: none;\">\n",
              "    <td style=\"padding: 0 1em 0 0.5em; text-align: right; border: none;\">\n",
              "        +0.851\n",
              "    </td>\n",
              "    <td style=\"padding: 0 0.5em 0 0.5em; text-align: left; border: none;\">\n",
              "        amazing\n",
              "    </td>\n",
              "    \n",
              "</tr>\n",
              "        \n",
              "            <tr style=\"background-color: hsl(120, 100.00%, 86.85%); border: none;\">\n",
              "    <td style=\"padding: 0 1em 0 0.5em; text-align: right; border: none;\">\n",
              "        +0.821\n",
              "    </td>\n",
              "    <td style=\"padding: 0 0.5em 0 0.5em; text-align: left; border: none;\">\n",
              "        received as\n",
              "    </td>\n",
              "    \n",
              "</tr>\n",
              "        \n",
              "            <tr style=\"background-color: hsl(120, 100.00%, 87.13%); border: none;\">\n",
              "    <td style=\"padding: 0 1em 0 0.5em; text-align: right; border: none;\">\n",
              "        +0.796\n",
              "    </td>\n",
              "    <td style=\"padding: 0 0.5em 0 0.5em; text-align: left; border: none;\">\n",
              "        perfectly\n",
              "    </td>\n",
              "    \n",
              "</tr>\n",
              "        \n",
              "            <tr style=\"background-color: hsl(120, 100.00%, 87.13%); border: none;\">\n",
              "    <td style=\"padding: 0 1em 0 0.5em; text-align: right; border: none;\">\n",
              "        +0.796\n",
              "    </td>\n",
              "    <td style=\"padding: 0 0.5em 0 0.5em; text-align: left; border: none;\">\n",
              "        beautiful\n",
              "    </td>\n",
              "    \n",
              "</tr>\n",
              "        \n",
              "            <tr style=\"background-color: hsl(120, 100.00%, 87.31%); border: none;\">\n",
              "    <td style=\"padding: 0 1em 0 0.5em; text-align: right; border: none;\">\n",
              "        +0.780\n",
              "    </td>\n",
              "    <td style=\"padding: 0 0.5em 0 0.5em; text-align: left; border: none;\">\n",
              "        the only\n",
              "    </td>\n",
              "    \n",
              "</tr>\n",
              "        \n",
              "            <tr style=\"background-color: hsl(120, 100.00%, 87.47%); border: none;\">\n",
              "    <td style=\"padding: 0 1em 0 0.5em; text-align: right; border: none;\">\n",
              "        +0.766\n",
              "    </td>\n",
              "    <td style=\"padding: 0 0.5em 0 0.5em; text-align: left; border: none;\">\n",
              "        but worked\n",
              "    </td>\n",
              "    \n",
              "</tr>\n",
              "        \n",
              "        \n",
              "            <tr style=\"background-color: hsl(120, 100.00%, 87.47%); border: none;\">\n",
              "                <td colspan=\"2\" style=\"padding: 0 0.5em 0 0.5em; text-align: center; border: none; white-space: nowrap;\">\n",
              "                    <i>&hellip; 64750 more positive &hellip;</i>\n",
              "                </td>\n",
              "            </tr>\n",
              "        \n",
              "\n",
              "        \n",
              "            <tr style=\"background-color: hsl(0, 100.00%, 87.31%); border: none;\">\n",
              "                <td colspan=\"2\" style=\"padding: 0 0.5em 0 0.5em; text-align: center; border: none; white-space: nowrap;\">\n",
              "                    <i>&hellip; 75462 more negative &hellip;</i>\n",
              "                </td>\n",
              "            </tr>\n",
              "        \n",
              "        \n",
              "            <tr style=\"background-color: hsl(0, 100.00%, 87.31%); border: none;\">\n",
              "    <td style=\"padding: 0 1em 0 0.5em; text-align: right; border: none;\">\n",
              "        -0.780\n",
              "    </td>\n",
              "    <td style=\"padding: 0 0.5em 0 0.5em; text-align: left; border: none;\">\n",
              "        didn\n",
              "    </td>\n",
              "    \n",
              "</tr>\n",
              "        \n",
              "            <tr style=\"background-color: hsl(0, 100.00%, 86.30%); border: none;\">\n",
              "    <td style=\"padding: 0 1em 0 0.5em; text-align: right; border: none;\">\n",
              "        -0.870\n",
              "    </td>\n",
              "    <td style=\"padding: 0 0.5em 0 0.5em; text-align: left; border: none;\">\n",
              "        returned\n",
              "    </td>\n",
              "    \n",
              "</tr>\n",
              "        \n",
              "            <tr style=\"background-color: hsl(0, 100.00%, 85.94%); border: none;\">\n",
              "    <td style=\"padding: 0 1em 0 0.5em; text-align: right; border: none;\">\n",
              "        -0.903\n",
              "    </td>\n",
              "    <td style=\"padding: 0 0.5em 0 0.5em; text-align: left; border: none;\">\n",
              "        good products\n",
              "    </td>\n",
              "    \n",
              "</tr>\n",
              "        \n",
              "            <tr style=\"background-color: hsl(0, 100.00%, 85.79%); border: none;\">\n",
              "    <td style=\"padding: 0 1em 0 0.5em; text-align: right; border: none;\">\n",
              "        -0.917\n",
              "    </td>\n",
              "    <td style=\"padding: 0 0.5em 0 0.5em; text-align: left; border: none;\">\n",
              "        not very\n",
              "    </td>\n",
              "    \n",
              "</tr>\n",
              "        \n",
              "            <tr style=\"background-color: hsl(0, 100.00%, 85.29%); border: none;\">\n",
              "    <td style=\"padding: 0 1em 0 0.5em; text-align: right; border: none;\">\n",
              "        -0.963\n",
              "    </td>\n",
              "    <td style=\"padding: 0 0.5em 0 0.5em; text-align: left; border: none;\">\n",
              "        not good\n",
              "    </td>\n",
              "    \n",
              "</tr>\n",
              "        \n",
              "            <tr style=\"background-color: hsl(0, 100.00%, 84.71%); border: none;\">\n",
              "    <td style=\"padding: 0 1em 0 0.5em; text-align: right; border: none;\">\n",
              "        -1.018\n",
              "    </td>\n",
              "    <td style=\"padding: 0 0.5em 0 0.5em; text-align: left; border: none;\">\n",
              "        disappointing\n",
              "    </td>\n",
              "    \n",
              "</tr>\n",
              "        \n",
              "\n",
              "        </tbody>\n",
              "    </table>\n",
              "\n",
              "                                \n",
              "                            \n",
              "                        </td>\n",
              "                    \n",
              "                \n",
              "            </tr>\n",
              "        </table>\n",
              "    \n",
              "\n",
              "    \n",
              "        \n",
              "\n",
              "\n",
              "    \n",
              "        \n",
              "\n",
              "\n",
              "    \n",
              "        \n",
              "\n",
              "\n",
              "    \n",
              "\n",
              "\n",
              "    \n",
              "\n",
              "    \n",
              "\n",
              "    \n",
              "\n",
              "\n",
              "    \n",
              "\n",
              "    \n",
              "\n",
              "    \n",
              "\n",
              "    \n",
              "\n",
              "    \n",
              "\n",
              "    \n",
              "\n",
              "\n",
              "    \n",
              "\n",
              "    \n",
              "\n",
              "    \n",
              "\n",
              "    \n",
              "\n",
              "    \n",
              "\n",
              "    \n",
              "\n",
              "\n",
              "\n"
            ],
            "text/plain": [
              "Explanation(estimator=\"Pipeline(steps=[('cv', CountVectorizer(ngram_range=(1, 2))),\\n                ('clf',\\n                 SGDClassifier(class_weight='balanced', max_iter=10000,\\n                               n_iter_no_change=10))])\", description=\"\\nFeatures with largest coefficients per class.\\nCaveats:\\n1. Be careful with features which are not\\n   independent - weights don't show their importance.\\n2. If scale of input features is different then scale of coefficients\\n   will also be different, making direct comparison between coefficient values\\n   incorrect.\\n3. Depending on regularization, rare features sometimes may have high\\n   coefficients; this doesn't mean they contribute much to the\\n   classification result for most examples.\\n\", error=None, method='linear model', is_regression=False, targets=[TargetExplanation(target=0, feature_weights=FeatureWeights(pos=[FeatureWeight(feature='junk', weight=1.0695206230314156, std=None, value=None), FeatureWeight(feature='horrible', weight=0.9625685607282721, std=None, value=None), FeatureWeight(feature='much smaller', weight=0.9447432170110927, std=None, value=None), FeatureWeight(feature='wouldn', weight=0.912063420196235, std=None, value=None), FeatureWeight(feature='wasn what', weight=0.8764127327618568, std=None, value=None), FeatureWeight(feature='terrible', weight=0.8259075922298151, std=None, value=None), FeatureWeight(feature='not happy', weight=0.8259075922298146, std=None, value=None), FeatureWeight(feature='useless', weight=0.8199658109907474, std=None, value=None), FeatureWeight(feature='fine but', weight=0.816994920371225, std=None, value=None), FeatureWeight(feature='not received', weight=0.8021404672735639, std=None, value=None), FeatureWeight(feature='nothing', weight=0.7813442329368371, std=None, value=None), FeatureWeight(feature='one works', weight=0.7724315610782453, std=None, value=None), FeatureWeight(feature='waste', weight=0.7635188892196451, std=None, value=None), FeatureWeight(feature='not good', weight=0.7546062173610579, std=None, value=None)], neg=[FeatureWeight(feature='not bad', weight=-1.2804538570181634, std=None, value=None), FeatureWeight(feature='on time', weight=-0.8615582796641951, std=None, value=None), FeatureWeight(feature='not too', weight=-0.8526456078055956, std=None, value=None), FeatureWeight(feature='note', weight=-0.8080822485126202, std=None, value=None), FeatureWeight(feature='perfectly', weight=-0.8080822485126197, std=None, value=None), FeatureWeight(feature='awesome', weight=-0.7724315610782441, std=None, value=None)], pos_remaining=69746, neg_remaining=78603), proba=None, score=None, weighted_spans=None, heatmap=None), TargetExplanation(target=1, feature_weights=FeatureWeights(pos=[FeatureWeight(feature='didn love', weight=1.494479846289509, std=None, value=None), FeatureWeight(feature='good products', weight=1.2670590001150186, std=None, value=None), FeatureWeight(feature='for water', weight=1.1630951847209643, std=None, value=None), FeatureWeight(feature='really have', weight=1.1306064924103223, std=None, value=None), FeatureWeight(feature='most part', weight=1.0461358924026491, std=None, value=None), FeatureWeight(feature='product way', weight=1.0396381539405313, std=None, value=None), FeatureWeight(feature='described happy', weight=1.0396381539405302, std=None, value=None), FeatureWeight(feature='product thanks', weight=1.0201449385541446, std=None, value=None), FeatureWeight(feature='in ear', weight=1.0071494616298902, std=None, value=None), FeatureWeight(feature='the didnt', weight=1.0071494616298895, std=None, value=None), FeatureWeight(feature='one suction', weight=1.0071494616298895, std=None, value=None), FeatureWeight(feature='bag cheaply', weight=1.0071494616298884, std=None, value=None), FeatureWeight(feature='small in', weight=0.9876562462435028, std=None, value=None), FeatureWeight(feature='uncomfortable to', weight=0.9811585077813684, std=None, value=None), FeatureWeight(feature='looking work', weight=0.974660769319251, std=None, value=None), FeatureWeight(feature='are bulky', weight=0.9746607693192494, std=None, value=None), FeatureWeight(feature='more volume', weight=0.9746607693192465, std=None, value=None)], neg=[FeatureWeight(feature='be but', weight=-1.2670590001150135, std=None, value=None), FeatureWeight(feature='ok not', weight=-1.0721268462511686, std=None, value=None), FeatureWeight(feature='<BIAS>', weight=-1.0388944756612868, std=None, value=None)], pos_remaining=50010, neg_remaining=106350), proba=None, score=None, weighted_spans=None, heatmap=None), TargetExplanation(target=2, feature_weights=FeatureWeights(pos=[FeatureWeight(feature='not too', weight=1.362892221497881, std=None, value=None), FeatureWeight(feature='not bad', weight=1.174057757073478, std=None, value=None), FeatureWeight(feature='better than', weight=1.174057757073476, std=None, value=None), FeatureWeight(feature='awesome', weight=1.0016436808598899, std=None, value=None), FeatureWeight(feature='wonderful', weight=0.9605927103328403, std=None, value=None), FeatureWeight(feature='perfect', weight=0.9441723221220214, std=None, value=None), FeatureWeight(feature='love', weight=0.9386988593850765, std=None, value=None), FeatureWeight(feature='great', weight=0.93048866527967, std=None, value=None), FeatureWeight(feature='amazing', weight=0.8511234555940533, std=None, value=None), FeatureWeight(feature='received as', weight=0.8210194105408954, std=None, value=None), FeatureWeight(feature='perfectly', weight=0.7963888282246633, std=None, value=None), FeatureWeight(feature='beautiful', weight=0.7963888282246627, std=None, value=None), FeatureWeight(feature='the only', weight=0.7799684400138412, std=None, value=None), FeatureWeight(feature='but worked', weight=0.7662847831715001, std=None, value=None)], neg=[FeatureWeight(feature='disappointing', weight=-1.0180640690707001, std=None, value=None), FeatureWeight(feature='not good', weight=-0.9633294417013137, std=None, value=None), FeatureWeight(feature='not very', weight=-0.9168050084373301, std=None, value=None), FeatureWeight(feature='good products', weight=-0.9031213515949863, std=None, value=None), FeatureWeight(feature='returned', weight=-0.8702805751733383, std=None, value=None), FeatureWeight(feature='didn', weight=-0.7799684400138438, std=None, value=None)], pos_remaining=64750, neg_remaining=75462), proba=None, score=None, weighted_spans=None, heatmap=None)], feature_importances=None, decision_tree=None, highlight_spaces=None, transition_features=None, image=None)"
            ]
          },
          "execution_count": 51,
          "metadata": {},
          "output_type": "execute_result"
        }
      ],
      "source": [
        "eli5.explain_weights(SD_clf)"
      ],
      "id": "KhK_CBFWcAoB"
    },
    {
      "cell_type": "markdown",
      "metadata": {
        "id": "tTDkLkgY7gGM"
      },
      "source": [
        "#Term frequency and Inverse document frequncy "
      ],
      "id": "tTDkLkgY7gGM"
    },
    {
      "cell_type": "code",
      "execution_count": null,
      "metadata": {
        "id": "yM2VKJa_lsOo"
      },
      "outputs": [],
      "source": [
        "# Creating pipeline for feature extraction\n",
        "pipe = Pipeline([\n",
        "    ('tfidf', TfidfVectorizer()),\n",
        "    ('clf', LogisticRegression(solver = 'liblinear'))\n",
        "])"
      ],
      "id": "yM2VKJa_lsOo"
    },
    {
      "cell_type": "code",
      "execution_count": null,
      "metadata": {
        "id": "znFkerQ4fcu8"
      },
      "outputs": [],
      "source": [
        "hyperparameters = {\n",
        "    'tfidf__max_df': (0.5 ,0.7, 1.0),\n",
        "    'tfidf__ngram_range': ((1,1), (1,2)),\n",
        "    'tfidf__use_idf': (True, False),\n",
        "    'tfidf__analyzer': ('word', 'char', 'char_wb'),\n",
        "    'clf__penalty': ('l2', 'l1'),\n",
        "    'clf__C': (1,2)\n",
        "}"
      ],
      "id": "znFkerQ4fcu8"
    },
    {
      "cell_type": "code",
      "execution_count": null,
      "metadata": {
        "id": "A8nhL0eawyKY"
      },
      "outputs": [],
      "source": [
        "#create GridSearch object\n",
        "classifier = GridSearchCV(pipe, hyperparameters, n_jobs=-1, cv = None)"
      ],
      "id": "A8nhL0eawyKY"
    },
    {
      "cell_type": "code",
      "execution_count": null,
      "metadata": {
        "id": "40zLr37BwyHF"
      },
      "outputs": [],
      "source": [
        "classifier.fit(trainsent, train_lab)"
      ],
      "id": "40zLr37BwyHF"
    },
    {
      "cell_type": "code",
      "execution_count": null,
      "metadata": {
        "colab": {
          "base_uri": "https://localhost:8080/"
        },
        "id": "cEv5o_vqwyEp",
        "outputId": "31cb89c7-a67d-4216-c30e-8dbc51f4148f"
      },
      "outputs": [
        {
          "output_type": "execute_result",
          "data": {
            "text/plain": [
              "Pipeline(steps=[('tfidf', TfidfVectorizer(max_df=0.7, ngram_range=(1, 2))),\n",
              "                ('clf', LogisticRegression(C=2, solver='liblinear'))])"
            ]
          },
          "metadata": {},
          "execution_count": 40
        }
      ],
      "source": [
        "classifier.best_estimator_"
      ],
      "id": "cEv5o_vqwyEp"
    },
    {
      "cell_type": "code",
      "execution_count": null,
      "metadata": {
        "id": "LcYgjrQPwyCl"
      },
      "outputs": [],
      "source": [
        "#Best score and para\n",
        "classifier.best_params_"
      ],
      "id": "LcYgjrQPwyCl"
    },
    {
      "cell_type": "code",
      "execution_count": null,
      "metadata": {
        "colab": {
          "base_uri": "https://localhost:8080/"
        },
        "id": "B_oxp5NlxqaD",
        "outputId": "2aca9040-65e8-4805-ab1c-a8a76e4fefc9"
      },
      "outputs": [
        {
          "data": {
            "text/plain": [
              "Pipeline(steps=[('tfidf', TfidfVectorizer(max_df=0.5, ngram_range=(1, 2))),\n",
              "                ('clf', LogisticRegression(C=2, solver='liblinear'))])"
            ]
          },
          "execution_count": 77,
          "metadata": {},
          "output_type": "execute_result"
        }
      ],
      "source": [
        "classifier.best_estimator_"
      ],
      "id": "B_oxp5NlxqaD"
    },
    {
      "cell_type": "code",
      "execution_count": null,
      "metadata": {
        "id": "vaXe3YFSxyQB"
      },
      "outputs": [],
      "source": [
        "y_pred = classifier.predict(test_sentences)"
      ],
      "id": "vaXe3YFSxyQB"
    },
    {
      "cell_type": "code",
      "execution_count": null,
      "metadata": {
        "id": "G3AyBo0QxTrp"
      },
      "outputs": [],
      "source": [
        "from sklearn.metrics import accuracy_score, classification_report, confusion_matrix, f1_score, precision_score, recall_score"
      ],
      "id": "G3AyBo0QxTrp"
    },
    {
      "cell_type": "code",
      "execution_count": null,
      "metadata": {
        "colab": {
          "base_uri": "https://localhost:8080/"
        },
        "id": "D3NbadS7xTpO",
        "outputId": "cefcc546-1624-46a4-c982-0e773b3de16a"
      },
      "outputs": [
        {
          "output_type": "stream",
          "name": "stdout",
          "text": [
            "              precision    recall  f1-score   support\n",
            "\n",
            "           0       0.70      0.74      0.72      1600\n",
            "           1       0.51      0.05      0.10       800\n",
            "           2       0.64      0.88      0.74      1600\n",
            "\n",
            "    accuracy                           0.66      4000\n",
            "   macro avg       0.62      0.56      0.52      4000\n",
            "weighted avg       0.64      0.66      0.60      4000\n",
            "\n"
          ]
        }
      ],
      "source": [
        "print(classification_report(test_lab, y_pred))"
      ],
      "id": "D3NbadS7xTpO"
    },
    {
      "cell_type": "code",
      "execution_count": null,
      "metadata": {
        "id": "qeEeZCeBxTni"
      },
      "outputs": [],
      "source": [
        "from matplotlib import pyplot as plt\n",
        "from sklearn.metrics import ConfusionMatrixDisplay\n",
        "import seaborn as sns"
      ],
      "id": "qeEeZCeBxTni"
    },
    {
      "cell_type": "code",
      "execution_count": null,
      "metadata": {
        "colab": {
          "base_uri": "https://localhost:8080/"
        },
        "id": "BJJvArOQxTlp",
        "outputId": "aca855e3-6def-42c2-aff1-f36296e560b4"
      },
      "outputs": [
        {
          "name": "stdout",
          "output_type": "stream",
          "text": [
            "[[1207   28  365]\n",
            " [ 327   42  431]\n",
            " [ 193   25 1382]]\n"
          ]
        }
      ],
      "source": [
        "cm = confusion_matrix(test_lab, y_pred)\n",
        "print(cm)"
      ],
      "id": "BJJvArOQxTlp"
    },
    {
      "cell_type": "code",
      "execution_count": null,
      "metadata": {
        "colab": {
          "base_uri": "https://localhost:8080/",
          "height": 297
        },
        "id": "HO-pgUGJxTj2",
        "outputId": "19ef35ec-4d16-47c5-fdbe-3e7341dbbe98"
      },
      "outputs": [
        {
          "data": {
            "text/plain": [
              "<sklearn.metrics._plot.confusion_matrix.ConfusionMatrixDisplay at 0x7f2f692c57d0>"
            ]
          },
          "execution_count": 83,
          "metadata": {},
          "output_type": "execute_result"
        },
        {
          "data": {
            "image/png": "[encoded data removed]",
            "text/plain": [
              "<Figure size 432x288 with 2 Axes>"
            ]
          },
          "metadata": {},
          "output_type": "display_data"
        }
      ],
      "source": [
        "ConfusionMatrixDisplay(cm).plot()"
      ],
      "id": "HO-pgUGJxTj2"
    }
  ],
  "metadata": {
    "colab": {
      "collapsed_sections": [],
      "name": "DATask1.ipynb",
      "provenance": [],
      "include_colab_link": true
    },
    "kernelspec": {
      "display_name": "py39",
      "language": "python",
      "name": "py39"
    },
    "language_info": {
      "codemirror_mode": {
        "name": "ipython",
        "version": 3
      },
      "file_extension": ".py",
      "mimetype": "text/x-python",
      "name": "python",
      "nbconvert_exporter": "python",
      "pygments_lexer": "ipython3",
      "version": "3.9.5"
    },
    "accelerator": "GPU",
    "gpuClass": "standard"
  },
  "nbformat": 4,
  "nbformat_minor": 5
}