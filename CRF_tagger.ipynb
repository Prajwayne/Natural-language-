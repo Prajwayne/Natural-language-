{
  "cells": [
    {
      "cell_type": "markdown",
      "metadata": {
        "id": "view-in-github",
        "colab_type": "text"
      },
      "source": [
        "<a href=\"https://colab.research.google.com/github/Prajwayne/Natural-language-/blob/main/CRF_tagger.ipynb\" target=\"_parent\"><img src=\"https://colab.research.google.com/assets/colab-badge.svg\" alt=\"Open In Colab\"/></a>"
      ]
    },
    {
      "cell_type": "markdown",
      "id": "92230737",
      "metadata": {
        "id": "92230737"
      },
      "source": [
        "## Task2 of the Coursework : Loading of SEC Filings Data\n"
      ]
    },
    {
      "cell_type": "markdown",
      "id": "36299323",
      "metadata": {
        "id": "36299323"
      },
      "source": [
        "## SEC Filings"
      ]
    },
    {
      "cell_type": "code",
      "source": [
        "# raw_training_data = get_raw_data_from_bio_file('/content/FIN3.txt') "
      ],
      "metadata": {
        "id": "XKuWkhe8mATK"
      },
      "id": "XKuWkhe8mATK",
      "execution_count": null,
      "outputs": []
    },
    {
      "cell_type": "code",
      "source": [
        "# print(len(raw_training_data), \"instances\")\n",
        "# print(sum([len(sent) for sent in raw_training_data]), \"words\")"
      ],
      "metadata": {
        "colab": {
          "base_uri": "https://localhost:8080/"
        },
        "id": "OqcaNU2wluIK",
        "outputId": "5876e7fc-8db8-4b20-fb67-bf96bd81d3a8"
      },
      "id": "OqcaNU2wluIK",
      "execution_count": null,
      "outputs": [
        {
          "output_type": "stream",
          "name": "stdout",
          "text": [
            "167836 instances\n",
            "167836 words\n"
          ]
        }
      ]
    },
    {
      "cell_type": "code",
      "source": [
        "import os\n",
        "import sys\n",
        "\n",
        "from copy import deepcopy\n",
        "from collections import Counter\n",
        "from nltk.tag import CRFTagger\n",
        "from nltk.tokenize import word_tokenize\n",
        "\n",
        "from sklearn.metrics import confusion_matrix\n",
        "from sklearn.metrics import precision_recall_fscore_support\n",
        "from sklearn.metrics import classification_report\n",
        "\n",
        "from matplotlib import pyplot as plt\n",
        "import numpy as np\n",
        "\n",
        "import re\n",
        "import unicodedata\n",
        "import nltk\n",
        "\n",
        "nltk.download('punkt')"
      ],
      "metadata": {
        "colab": {
          "base_uri": "https://localhost:8080/"
        },
        "id": "glQNuybqmfJW",
        "outputId": "5ffe6c2e-a1e1-4a91-c401-ddf306afd4e5"
      },
      "id": "glQNuybqmfJW",
      "execution_count": null,
      "outputs": [
        {
          "output_type": "stream",
          "name": "stdout",
          "text": [
            "[nltk_data] Downloading package punkt to /root/nltk_data...\n",
            "[nltk_data]   Package punkt is already up-to-date!\n"
          ]
        },
        {
          "output_type": "execute_result",
          "data": {
            "text/plain": [
              "True"
            ]
          },
          "metadata": {},
          "execution_count": 1
        }
      ]
    },
    {
      "cell_type": "code",
      "execution_count": 44,
      "id": "c1f91bc3",
      "metadata": {
        "id": "c1f91bc3"
      },
      "outputs": [],
      "source": [
        "#Lab code\n",
        "import re\n",
        "import numpy as np\n",
        "\n",
        "def read_sec_filings(split):\n",
        "    # Use this function to load the SEC filings data from text files\n",
        "    \n",
        "#     if split == 'train':\n",
        "       \n",
        "#             read_secfilings('train')\n",
        "#     else:\n",
        "        \n",
        "#             read_secfilings('test')\n",
        "    if split == 'train':\n",
        "        with open('FIN5.txt', encoding='utf-8') as fp:\n",
        "            lines = fp.readlines()\n",
        "    else:\n",
        "        with open('FIN3.txt', encoding='utf-8') as fp:\n",
        "            lines = fp.readlines()\n",
        "            \n",
        "   \n",
        "    sentences = []\n",
        "    labels = []\n",
        "\n",
        "    # the tokens and labels for the current sentence\n",
        "    current_sen = []\n",
        "    current_labels = []\n",
        "\n",
        "    for i in range(2, len(lines)):\n",
        "        # print(f'This is line {i}')\n",
        "        # print(lines[i])\n",
        "\n",
        "        if len(lines[i]) > 1:  # Line with some data on: The data consists of tokens and tags.\n",
        "            data = re.split(' ', lines[i])  # tokenise the line\n",
        "            # print(data)\n",
        "            current_sen.append(data[0])  # append the token \n",
        "            \n",
        "            # data[1] contains POS tags -- you can also use these in your model.\n",
        "            \n",
        "            current_labels.append(data[3].strip())  # append the NER tag\n",
        "        elif len(current_sen) > 1:  # this marks the end of a sentence\n",
        "            # end of sentence\n",
        "            sentences.append(current_sen)  # save the tokens for this sentence\n",
        "            current_sen = []  # reset\n",
        "\n",
        "            labels.append(current_labels)  # save the tags for this sentence\n",
        "            current_labels = []\n",
        "\n",
        "    if len(current_sen) > 1:  # save the last sentence\n",
        "        sentences.append(current_sen)\n",
        "        labels.append(current_labels)\n",
        "        \n",
        "#     for i in range(len(labels)):\n",
        "#         for j in range(len(labels[i])):\n",
        "#             if labels[i][j]=='I-LOC':\n",
        "#                 labels[i][j]='LOC'\n",
        "#             if labels[i][j]=='I-ORG':\n",
        "#                 labels[i][j]='ORG'\n",
        "#             if labels[i][j]=='I-MISC':\n",
        "#                 labels[i][j]='MISC'\n",
        "#             if labels[i][j]=='I-PER':\n",
        "#                 labels[i][j]='PER'           \n",
        "    \n",
        "    print(f'Number of sentences loaded = {len(sentences)}')\n",
        "    print(f'Number of unique labels: {np.unique(np.concatenate(labels))}')\n",
        "                                      \n",
        "    return sentences, labels"
      ]
    },
    {
      "cell_type": "code",
      "execution_count": 45,
      "id": "6669802b",
      "metadata": {
        "colab": {
          "base_uri": "https://localhost:8080/"
        },
        "id": "6669802b",
        "outputId": "3a76cdee-fea6-4329-d589-15168ff624ed"
      },
      "outputs": [
        {
          "output_type": "stream",
          "name": "stdout",
          "text": [
            "Loading the original training set: \n",
            "Number of sentences loaded = 1152\n",
            "Number of unique labels: ['I-LOC' 'I-MISC' 'I-ORG' 'I-PER' 'O']\n",
            "\n",
            "Loading the test set: \n",
            "Number of sentences loaded = 303\n",
            "Number of unique labels: ['I-LOC' 'I-MISC' 'I-ORG' 'I-PER' 'O']\n"
          ]
        }
      ],
      "source": [
        "#lab code\n",
        "from sklearn.model_selection import train_test_split\n",
        "\n",
        "print('Loading the original training set: ')\n",
        "sentences_ner, labels_ner = read_sec_filings('train')\n",
        "\n",
        "print('\\nLoading the test set: ')\n",
        "test_sentences_ner, test_labels_ner = read_sec_filings('test')"
      ]
    },
    {
      "cell_type": "code",
      "source": [
        "train_sentences_ner, val_sentences_ner, train_labels_ner, val_labels_ner = train_test_split(\n",
        "    sentences_ner, \n",
        "    labels_ner, \n",
        "    test_size=0.2,\n",
        "    # stratify=labels_ner  # there are too few examples of some classes to stratify\n",
        ")\n",
        "\n",
        "print(f'Number of training sentences = {len(train_sentences_ner)}')\n",
        "print(f'Number of validation sentences = {len(val_sentences_ner)}')"
      ],
      "metadata": {
        "id": "_tpooFqc9ENI",
        "outputId": "f7c2ecb9-a718-46f5-dfb0-7cf781172acf",
        "colab": {
          "base_uri": "https://localhost:8080/"
        }
      },
      "id": "_tpooFqc9ENI",
      "execution_count": 46,
      "outputs": [
        {
          "output_type": "stream",
          "name": "stdout",
          "text": [
            "Number of training sentences = 921\n",
            "Number of validation sentences = 231\n"
          ]
        }
      ]
    },
    {
      "cell_type": "code",
      "source": [
        ""
      ],
      "metadata": {
        "id": "cjFHbQs29dIz"
      },
      "id": "cjFHbQs29dIz",
      "execution_count": null,
      "outputs": []
    },
    {
      "cell_type": "code",
      "source": [
        "import numpy as np\n",
        "sentences =  np.array(['f','g','y','g','f','t','g'])\n",
        "labels = np.array(['q','s','w','q','s','w','s'])\n",
        "\n",
        "remov = sentences != 'g'\n",
        "\n",
        "labels = labels[remov]\n",
        "sentences = sentences[remov]\n",
        "\n",
        "labels, sentences"
      ],
      "metadata": {
        "colab": {
          "base_uri": "https://localhost:8080/"
        },
        "id": "l7rs1sjoUKef",
        "outputId": "2d0c89cc-3a0c-4f9c-a15c-f5e65431c2fb"
      },
      "id": "l7rs1sjoUKef",
      "execution_count": 47,
      "outputs": [
        {
          "output_type": "execute_result",
          "data": {
            "text/plain": [
              "(array(['q', 'w', 's', 'w'], dtype='<U1'),\n",
              " array(['f', 'y', 'f', 't'], dtype='<U1'))"
            ]
          },
          "metadata": {},
          "execution_count": 47
        }
      ]
    },
    {
      "cell_type": "code",
      "source": [
        "list(labels)"
      ],
      "metadata": {
        "id": "_hNIbxdQWejo",
        "outputId": "c934c699-3c65-487d-9fbb-a732776559d6",
        "colab": {
          "base_uri": "https://localhost:8080/"
        }
      },
      "id": "_hNIbxdQWejo",
      "execution_count": null,
      "outputs": [
        {
          "output_type": "execute_result",
          "data": {
            "text/plain": [
              "['q', 'w', 's', 'w']"
            ]
          },
          "metadata": {},
          "execution_count": 21
        }
      ]
    },
    {
      "cell_type": "code",
      "execution_count": null,
      "id": "53c6eed6",
      "metadata": {
        "id": "53c6eed6"
      },
      "outputs": [],
      "source": [
        "#bikramjeet\n",
        "train_set = [list(zip(sentences_ner[index],labels_ner[index]))for index,s in enumerate(sentences_ner)]\n",
        "#val_set = [list(zip(val_sentences_ner[index],val_labels_ner[index]))for index,s in enumerate(val_sentences_ner)]\n",
        "test_set = [list(zip(test_sentences_ner[index],test_labels_ner[index]))for index,s in enumerate(test_sentences_ner)]\n",
        "\n",
        "#list(zip(train_set[0][1][0],train_set[0][1][1]))\n",
        "\n",
        "#type(test_set[0][0][0])\n"
      ]
    },
    {
      "cell_type": "code",
      "source": [
        "type(train_set)"
      ],
      "metadata": {
        "id": "DObHERjqPeOC"
      },
      "id": "DObHERjqPeOC",
      "execution_count": null,
      "outputs": []
    },
    {
      "cell_type": "code",
      "source": [
        "train_set"
      ],
      "metadata": {
        "id": "_n5Cr-ExPuvP"
      },
      "id": "_n5Cr-ExPuvP",
      "execution_count": null,
      "outputs": []
    },
    {
      "cell_type": "code",
      "source": [
        "# Train the CRF  tagger\n",
        "TAGGER_PATH = \"crf_nlu.tagger\"  # path to the tagger- it will save/access the model from here\n",
        "ct = CRFTagger()  # initialize tagger with get_features function\n",
        "\n",
        "print(\"training tagger...\")\n",
        "ct.train(train_set , TAGGER_PATH)\n",
        "print(\"done\")"
      ],
      "metadata": {
        "colab": {
          "base_uri": "https://localhost:8080/"
        },
        "id": "nr7EbFzKmQZP",
        "outputId": "0cd9d298-8188-470e-b220-f6fc1b5981c8"
      },
      "id": "nr7EbFzKmQZP",
      "execution_count": 48,
      "outputs": [
        {
          "output_type": "stream",
          "name": "stdout",
          "text": [
            "training tagger...\n",
            "done\n"
          ]
        }
      ]
    },
    {
      "cell_type": "code",
      "source": [
        "#predicting on test set \n",
        "print(\"testing tagger...\")\n",
        "preds = []\n",
        "y_test = []\n",
        "for sent in test_set:\n",
        "    sent_preds = [x[1] for x in ct.tag([s[0] for s in sent])]\n",
        "    sent_true = [s[1] for s in sent]\n",
        "    preds.extend(sent_preds)\n",
        "    y_test.extend(sent_true)\n",
        "print(\"done\")"
      ],
      "metadata": {
        "colab": {
          "base_uri": "https://localhost:8080/"
        },
        "id": "jhilqX0inP-d",
        "outputId": "2059c0ed-b3e8-44fa-b550-bac2f3d01cbd"
      },
      "id": "jhilqX0inP-d",
      "execution_count": 49,
      "outputs": [
        {
          "output_type": "stream",
          "name": "stdout",
          "text": [
            "testing tagger...\n",
            "done\n"
          ]
        }
      ]
    },
    {
      "cell_type": "code",
      "source": [
        "# Output the classification report (which you should save each time for comparing your models)\n",
        "print(classification_report(y_test, preds))\n"
      ],
      "metadata": {
        "colab": {
          "base_uri": "https://localhost:8080/"
        },
        "id": "aDqx60jbns8v",
        "outputId": "9b67f912-6969-4e16-cd98-97b21e97e030"
      },
      "id": "aDqx60jbns8v",
      "execution_count": 50,
      "outputs": [
        {
          "output_type": "stream",
          "name": "stdout",
          "text": [
            "              precision    recall  f1-score   support\n",
            "\n",
            "       I-LOC       0.55      0.27      0.36        79\n",
            "      I-MISC       0.00      0.00      0.00         7\n",
            "       I-ORG       0.35      0.25      0.30       114\n",
            "       I-PER       0.97      0.82      0.89       236\n",
            "           O       0.99      1.00      0.99     12812\n",
            "\n",
            "    accuracy                           0.98     13248\n",
            "   macro avg       0.57      0.47      0.51     13248\n",
            "weighted avg       0.98      0.98      0.98     13248\n",
            "\n"
          ]
        },
        {
          "output_type": "stream",
          "name": "stderr",
          "text": [
            "/usr/local/lib/python3.7/dist-packages/sklearn/metrics/_classification.py:1318: UndefinedMetricWarning: Precision and F-score are ill-defined and being set to 0.0 in labels with no predicted samples. Use `zero_division` parameter to control this behavior.\n",
            "  _warn_prf(average, modifier, msg_start, len(result))\n",
            "/usr/local/lib/python3.7/dist-packages/sklearn/metrics/_classification.py:1318: UndefinedMetricWarning: Precision and F-score are ill-defined and being set to 0.0 in labels with no predicted samples. Use `zero_division` parameter to control this behavior.\n",
            "  _warn_prf(average, modifier, msg_start, len(result))\n",
            "/usr/local/lib/python3.7/dist-packages/sklearn/metrics/_classification.py:1318: UndefinedMetricWarning: Precision and F-score are ill-defined and being set to 0.0 in labels with no predicted samples. Use `zero_division` parameter to control this behavior.\n",
            "  _warn_prf(average, modifier, msg_start, len(result))\n"
          ]
        }
      ]
    },
    {
      "cell_type": "code",
      "source": [
        "#pip install crf-tagger"
      ],
      "metadata": {
        "id": "ivHvkXpfgwYQ"
      },
      "id": "ivHvkXpfgwYQ",
      "execution_count": null,
      "outputs": []
    },
    {
      "cell_type": "code",
      "source": [
        "labels = list(set(y_test))   # get the labels in the y_test\n",
        "print(labels)"
      ],
      "metadata": {
        "colab": {
          "base_uri": "https://localhost:8080/"
        },
        "id": "8agOnxlFoHlX",
        "outputId": "30c55bb0-2ab0-4f3a-8309-f3c999358158"
      },
      "id": "8agOnxlFoHlX",
      "execution_count": null,
      "outputs": [
        {
          "output_type": "stream",
          "name": "stdout",
          "text": [
            "['I-MISC', 'I-PER', 'I-LOC', 'O', 'I-ORG']\n"
          ]
        }
      ]
    },
    {
      "cell_type": "code",
      "source": [
        "\"\"\"Function to plot a confusion matrix\"\"\"\n",
        "labels = list(set(y_test))   # get the labels in the y_test\n",
        "# print(labels)\n",
        "cm = confusion_matrix(y_test, preds)\n",
        "fig = plt.figure(figsize=(20,20))\n",
        "ax = fig.add_subplot(111)\n",
        "cax = ax.matshow(cm)\n",
        "plt.title('Confusion matrix of the classifier')\n",
        "fig.colorbar(cax)\n",
        "ax.set_xticks(np.arange(len(labels)))\n",
        "ax.set_yticks(np.arange(len(labels)))\n",
        "ax.set_xticklabels( labels, rotation=45)\n",
        "ax.set_yticklabels( labels)\n",
        "\n",
        "for i in range(len(cm)):\n",
        "  for j in range(len(cm)):\n",
        "    text = ax.text(j, i, cm[i, j],ha=\"center\", va=\"center\", color=\"w\")\n",
        "\n",
        "plt.xlabel('Predicted')\n",
        "plt.ylabel('True')\n",
        "    #fig.tight_layout()\n",
        "plt.show()"
      ],
      "metadata": {
        "colab": {
          "base_uri": "https://localhost:8080/",
          "height": 1000
        },
        "id": "LDmOZgAMogZZ",
        "outputId": "43e591fe-033c-4f55-caab-1f9e9c8ce158"
      },
      "id": "LDmOZgAMogZZ",
      "execution_count": null,
      "outputs": [
        {
          "output_type": "display_data",
          "data": {
            "text/plain": [
              "<Figure size 1440x1440 with 2 Axes>"
            ],
            "image/png": "[encoded data removed]"
          },
          "metadata": {
            "needs_background": "light"
          }
        }
      ]
    },
    {
      "cell_type": "code",
      "execution_count": null,
      "id": "18730a10",
      "metadata": {
        "id": "18730a10"
      },
      "outputs": [],
      "source": [
        ""
      ]
    },
    {
      "cell_type": "markdown",
      "source": [
        "Error analysis 1: False positives\n",
        "\n"
      ],
      "metadata": {
        "id": "ceqrcAkUpCEi"
      },
      "id": "ceqrcAkUpCEi"
    },
    {
      "cell_type": "code",
      "source": [
        "print(\"testing tagger...\")\n",
        "# we will train the data by using CRFTagger()\n",
        "predict_result = [] #create list\n",
        "y_predict = []\n",
        "sent_predict_result = []\n",
        "sent_y_predict = []  \n",
        "for i in test_set:\n",
        "\n",
        "      # we use the previous code the train the data\n",
        "      sent_predict_result = [k[1] for k in ct.tag([j[0] for j in i])] # we will tag the word(j) by using ct.tag() and store tag in sent_predict_result\n",
        "      sent_y_predict = [j[1] for j in i] # we store all BIO-tag, which has one line, in sent_y_predict\n",
        "      predict_result.extend(sent_predict_result) # add the data in predict_result \n",
        "      y_predict.extend(sent_y_predict) # add the data in y_predict    \n",
        "\n",
        "\n",
        "print(\"done\")"
      ],
      "metadata": {
        "colab": {
          "base_uri": "https://localhost:8080/"
        },
        "id": "c_VIGop-pBHH",
        "outputId": "46e5ddc4-71cf-4a2d-9459-65276b82673e"
      },
      "id": "c_VIGop-pBHH",
      "execution_count": null,
      "outputs": [
        {
          "output_type": "stream",
          "name": "stdout",
          "text": [
            "testing tagger...\n",
            "done\n"
          ]
        }
      ]
    },
    {
      "cell_type": "code",
      "source": [
        "print(classification_report(y_predict,predict_result))"
      ],
      "metadata": {
        "colab": {
          "base_uri": "https://localhost:8080/"
        },
        "id": "cm-kjXaEpQEG",
        "outputId": "945a4122-20ce-4dd4-bc71-84e24a3a2589"
      },
      "id": "cm-kjXaEpQEG",
      "execution_count": null,
      "outputs": [
        {
          "output_type": "stream",
          "name": "stdout",
          "text": [
            "              precision    recall  f1-score   support\n",
            "\n",
            "       I-LOC       0.55      0.27      0.36        79\n",
            "      I-MISC       0.00      0.00      0.00         7\n",
            "       I-ORG       0.35      0.25      0.30       114\n",
            "       I-PER       0.97      0.82      0.89       236\n",
            "           O       0.99      1.00      0.99     12812\n",
            "\n",
            "    accuracy                           0.98     13248\n",
            "   macro avg       0.57      0.47      0.51     13248\n",
            "weighted avg       0.98      0.98      0.98     13248\n",
            "\n"
          ]
        },
        {
          "output_type": "stream",
          "name": "stderr",
          "text": [
            "/usr/local/lib/python3.7/dist-packages/sklearn/metrics/_classification.py:1318: UndefinedMetricWarning: Precision and F-score are ill-defined and being set to 0.0 in labels with no predicted samples. Use `zero_division` parameter to control this behavior.\n",
            "  _warn_prf(average, modifier, msg_start, len(result))\n",
            "/usr/local/lib/python3.7/dist-packages/sklearn/metrics/_classification.py:1318: UndefinedMetricWarning: Precision and F-score are ill-defined and being set to 0.0 in labels with no predicted samples. Use `zero_division` parameter to control this behavior.\n",
            "  _warn_prf(average, modifier, msg_start, len(result))\n",
            "/usr/local/lib/python3.7/dist-packages/sklearn/metrics/_classification.py:1318: UndefinedMetricWarning: Precision and F-score are ill-defined and being set to 0.0 in labels with no predicted samples. Use `zero_division` parameter to control this behavior.\n",
            "  _warn_prf(average, modifier, msg_start, len(result))\n"
          ]
        }
      ]
    },
    {
      "cell_type": "code",
      "source": [
        "import pandas as pd \n",
        "def classification_report_table(table): # this function will convert classification_report to csv file\n",
        "   data_table = []\n",
        "   column_data = table.split('\\n') # split the data and consider in single-line\n",
        "   for i in column_data[2:-5]: # iterate the data which consider only the data (not white space). So we use index from 2 until the last five lines\n",
        "       row_classification = {} # create dictionary\n",
        "       row_data = ' '.join(i.split()) # split the data by all white space and join the data again by one white space\n",
        "       row_data = row_data.split(' ') # split the data again in order to visualise easily, P.S. we use this method to distiguish the column\n",
        "       row_classification['class'] = row_data[0] # given data in class\n",
        "       row_classification['precision'] = ' '.join(map(str, row_data[1:2])) #given data in precision\n",
        "       row_classification['recall'] = ' '.join(map(str, row_data[2:3])) #given data in recall\n",
        "       row_classification['f1-score'] = ' '.join(map(str, row_data[3:4])) #given data in f1-score\n",
        "       row_classification['support'] = row_data[-1] #given data in support\n",
        "       data_table.append(row_classification) # add the all data in single line to data_table\n",
        "   df = pd.DataFrame.from_dict(data_table) # use this data to create csv file\n",
        "   df.to_csv('classification_report.csv' ,index = False)\n",
        "   \n",
        "x = classification_report(y_predict, predict_result) #store classification_report in x\n",
        "classification_report_table(x) # execute function"
      ],
      "metadata": {
        "colab": {
          "base_uri": "https://localhost:8080/"
        },
        "id": "v2Jg0PRapBEr",
        "outputId": "fb538d4d-5cb3-46ae-daef-33c7cad2c631"
      },
      "id": "v2Jg0PRapBEr",
      "execution_count": null,
      "outputs": [
        {
          "output_type": "stream",
          "name": "stderr",
          "text": [
            "/usr/local/lib/python3.7/dist-packages/sklearn/metrics/_classification.py:1318: UndefinedMetricWarning: Precision and F-score are ill-defined and being set to 0.0 in labels with no predicted samples. Use `zero_division` parameter to control this behavior.\n",
            "  _warn_prf(average, modifier, msg_start, len(result))\n",
            "/usr/local/lib/python3.7/dist-packages/sklearn/metrics/_classification.py:1318: UndefinedMetricWarning: Precision and F-score are ill-defined and being set to 0.0 in labels with no predicted samples. Use `zero_division` parameter to control this behavior.\n",
            "  _warn_prf(average, modifier, msg_start, len(result))\n",
            "/usr/local/lib/python3.7/dist-packages/sklearn/metrics/_classification.py:1318: UndefinedMetricWarning: Precision and F-score are ill-defined and being set to 0.0 in labels with no predicted samples. Use `zero_division` parameter to control this behavior.\n",
            "  _warn_prf(average, modifier, msg_start, len(result))\n"
          ]
        }
      ]
    },
    {
      "cell_type": "code",
      "source": [
        "y = pd.read_csv('classification_report.csv') # read classification_report.csv\n",
        "print(y)"
      ],
      "metadata": {
        "colab": {
          "base_uri": "https://localhost:8080/"
        },
        "id": "ZRNSEeM-pBB5",
        "outputId": "4ef1bc2c-c3b1-4d44-e31f-7dcea0ea5821"
      },
      "id": "ZRNSEeM-pBB5",
      "execution_count": null,
      "outputs": [
        {
          "output_type": "stream",
          "name": "stdout",
          "text": [
            "    class  precision  recall  f1-score  support\n",
            "0   I-LOC       0.55    0.27      0.36       79\n",
            "1  I-MISC       0.00    0.00      0.00        7\n",
            "2   I-ORG       0.35    0.25      0.30      114\n",
            "3   I-PER       0.97    0.82      0.89      236\n",
            "4       O       0.99    1.00      0.99    12812\n"
          ]
        }
      ]
    },
    {
      "cell_type": "code",
      "source": [
        "y_precision = y.sort_values(by = ['precision']) # sort value by 'precision' from lowest to highest\n",
        "y_precision[0:5] # visualise the five lowest precision to illustrate 5 cases in false postive"
      ],
      "metadata": {
        "colab": {
          "base_uri": "https://localhost:8080/",
          "height": 206
        },
        "id": "KIhaK_gRpA_d",
        "outputId": "cbad24f6-6b9a-4a1f-ef77-f1cca2e445b3"
      },
      "id": "KIhaK_gRpA_d",
      "execution_count": null,
      "outputs": [
        {
          "output_type": "execute_result",
          "data": {
            "text/plain": [
              "    class  precision  recall  f1-score  support\n",
              "1  I-MISC       0.00    0.00      0.00        7\n",
              "2   I-ORG       0.35    0.25      0.30      114\n",
              "0   I-LOC       0.55    0.27      0.36       79\n",
              "3   I-PER       0.97    0.82      0.89      236\n",
              "4       O       0.99    1.00      0.99    12812"
            ],
            "text/html": [
              "\n",
              "  <div id=\"df-6e47653f-36ef-49bb-af26-b977f3fd1fe0\">\n",
              "    <div class=\"colab-df-container\">\n",
              "      <div>\n",
              "<style scoped>\n",
              "    .dataframe tbody tr th:only-of-type {\n",
              "        vertical-align: middle;\n",
              "    }\n",
              "\n",
              "    .dataframe tbody tr th {\n",
              "        vertical-align: top;\n",
              "    }\n",
              "\n",
              "    .dataframe thead th {\n",
              "        text-align: right;\n",
              "    }\n",
              "</style>\n",
              "<table border=\"1\" class=\"dataframe\">\n",
              "  <thead>\n",
              "    <tr style=\"text-align: right;\">\n",
              "      <th></th>\n",
              "      <th>class</th>\n",
              "      <th>precision</th>\n",
              "      <th>recall</th>\n",
              "      <th>f1-score</th>\n",
              "      <th>support</th>\n",
              "    </tr>\n",
              "  </thead>\n",
              "  <tbody>\n",
              "    <tr>\n",
              "      <th>1</th>\n",
              "      <td>I-MISC</td>\n",
              "      <td>0.00</td>\n",
              "      <td>0.00</td>\n",
              "      <td>0.00</td>\n",
              "      <td>7</td>\n",
              "    </tr>\n",
              "    <tr>\n",
              "      <th>2</th>\n",
              "      <td>I-ORG</td>\n",
              "      <td>0.35</td>\n",
              "      <td>0.25</td>\n",
              "      <td>0.30</td>\n",
              "      <td>114</td>\n",
              "    </tr>\n",
              "    <tr>\n",
              "      <th>0</th>\n",
              "      <td>I-LOC</td>\n",
              "      <td>0.55</td>\n",
              "      <td>0.27</td>\n",
              "      <td>0.36</td>\n",
              "      <td>79</td>\n",
              "    </tr>\n",
              "    <tr>\n",
              "      <th>3</th>\n",
              "      <td>I-PER</td>\n",
              "      <td>0.97</td>\n",
              "      <td>0.82</td>\n",
              "      <td>0.89</td>\n",
              "      <td>236</td>\n",
              "    </tr>\n",
              "    <tr>\n",
              "      <th>4</th>\n",
              "      <td>O</td>\n",
              "      <td>0.99</td>\n",
              "      <td>1.00</td>\n",
              "      <td>0.99</td>\n",
              "      <td>12812</td>\n",
              "    </tr>\n",
              "  </tbody>\n",
              "</table>\n",
              "</div>\n",
              "      <button class=\"colab-df-convert\" onclick=\"convertToInteractive('df-6e47653f-36ef-49bb-af26-b977f3fd1fe0')\"\n",
              "              title=\"Convert this dataframe to an interactive table.\"\n",
              "              style=\"display:none;\">\n",
              "        \n",
              "  <svg xmlns=\"http://www.w3.org/2000/svg\" height=\"24px\"viewBox=\"0 0 24 24\"\n",
              "       width=\"24px\">\n",
              "    <path d=\"M0 0h24v24H0V0z\" fill=\"none\"/>\n",
              "    <path d=\"M18.56 5.44l.94 2.06.94-2.06 2.06-.94-2.06-.94-.94-2.06-.94 2.06-2.06.94zm-11 1L8.5 8.5l.94-2.06 2.06-.94-2.06-.94L8.5 2.5l-.94 2.06-2.06.94zm10 10l.94 2.06.94-2.06 2.06-.94-2.06-.94-.94-2.06-.94 2.06-2.06.94z\"/><path d=\"M17.41 7.96l-1.37-1.37c-.4-.4-.92-.59-1.43-.59-.52 0-1.04.2-1.43.59L10.3 9.45l-7.72 7.72c-.78.78-.78 2.05 0 2.83L4 21.41c.39.39.9.59 1.41.59.51 0 1.02-.2 1.41-.59l7.78-7.78 2.81-2.81c.8-.78.8-2.07 0-2.86zM5.41 20L4 18.59l7.72-7.72 1.47 1.35L5.41 20z\"/>\n",
              "  </svg>\n",
              "      </button>\n",
              "      \n",
              "  <style>\n",
              "    .colab-df-container {\n",
              "      display:flex;\n",
              "      flex-wrap:wrap;\n",
              "      gap: 12px;\n",
              "    }\n",
              "\n",
              "    .colab-df-convert {\n",
              "      background-color: #E8F0FE;\n",
              "      border: none;\n",
              "      border-radius: 50%;\n",
              "      cursor: pointer;\n",
              "      display: none;\n",
              "      fill: #1967D2;\n",
              "      height: 32px;\n",
              "      padding: 0 0 0 0;\n",
              "      width: 32px;\n",
              "    }\n",
              "\n",
              "    .colab-df-convert:hover {\n",
              "      background-color: #E2EBFA;\n",
              "      box-shadow: 0px 1px 2px rgba(60, 64, 67, 0.3), 0px 1px 3px 1px rgba(60, 64, 67, 0.15);\n",
              "      fill: #174EA6;\n",
              "    }\n",
              "\n",
              "    [theme=dark] .colab-df-convert {\n",
              "      background-color: #3B4455;\n",
              "      fill: #D2E3FC;\n",
              "    }\n",
              "\n",
              "    [theme=dark] .colab-df-convert:hover {\n",
              "      background-color: #434B5C;\n",
              "      box-shadow: 0px 1px 3px 1px rgba(0, 0, 0, 0.15);\n",
              "      filter: drop-shadow(0px 1px 2px rgba(0, 0, 0, 0.3));\n",
              "      fill: #FFFFFF;\n",
              "    }\n",
              "  </style>\n",
              "\n",
              "      <script>\n",
              "        const buttonEl =\n",
              "          document.querySelector('#df-6e47653f-36ef-49bb-af26-b977f3fd1fe0 button.colab-df-convert');\n",
              "        buttonEl.style.display =\n",
              "          google.colab.kernel.accessAllowed ? 'block' : 'none';\n",
              "\n",
              "        async function convertToInteractive(key) {\n",
              "          const element = document.querySelector('#df-6e47653f-36ef-49bb-af26-b977f3fd1fe0');\n",
              "          const dataTable =\n",
              "            await google.colab.kernel.invokeFunction('convertToInteractive',\n",
              "                                                     [key], {});\n",
              "          if (!dataTable) return;\n",
              "\n",
              "          const docLinkHtml = 'Like what you see? Visit the ' +\n",
              "            '<a target=\"_blank\" href=https://colab.research.google.com/notebooks/data_table.ipynb>data table notebook</a>'\n",
              "            + ' to learn more about interactive tables.';\n",
              "          element.innerHTML = '';\n",
              "          dataTable['output_type'] = 'display_data';\n",
              "          await google.colab.output.renderOutput(dataTable, element);\n",
              "          const docLink = document.createElement('div');\n",
              "          docLink.innerHTML = docLinkHtml;\n",
              "          element.appendChild(docLink);\n",
              "        }\n",
              "      </script>\n",
              "    </div>\n",
              "  </div>\n",
              "  "
            ]
          },
          "metadata": {},
          "execution_count": 74
        }
      ]
    },
    {
      "cell_type": "markdown",
      "source": [
        "Error analysis 2: False negatives\n",
        "For the 5 classes which have the lowest recall, according to the results table from your 20% development data,, print out all the sentences where there is a false negative for that label (i.e. the label is present in the ground truth label for a given word, but that label is not predicted for that word by the tagger).\n",
        "\n",
        "Also, we should examine the 5 lowest recall of the classes, according to the 20% development data, finding the false negative for that label. For example,the label is present in the ground truth label for a given word, but that label is not predicted for that word by the tagger"
      ],
      "metadata": {
        "id": "jhpaIfyQpswf"
      },
      "id": "jhpaIfyQpswf"
    },
    {
      "cell_type": "code",
      "source": [
        "y_recall = y.sort_values(by = ['recall']) #sort value by 'recall' from lowest to highest\n",
        "y_recall[0:5] #visualise the five lowest precision to illustrate 5 cases in false postive"
      ],
      "metadata": {
        "colab": {
          "base_uri": "https://localhost:8080/",
          "height": 206
        },
        "id": "38ZOx7kopA8p",
        "outputId": "b95bd0ff-8958-42e1-e79e-d09fdcd738a7"
      },
      "id": "38ZOx7kopA8p",
      "execution_count": null,
      "outputs": [
        {
          "output_type": "execute_result",
          "data": {
            "text/plain": [
              "    class  precision  recall  f1-score  support\n",
              "1  I-MISC       0.00    0.00      0.00        7\n",
              "2   I-ORG       0.35    0.25      0.30      114\n",
              "0   I-LOC       0.55    0.27      0.36       79\n",
              "3   I-PER       0.97    0.82      0.89      236\n",
              "4       O       0.99    1.00      0.99    12812"
            ],
            "text/html": [
              "\n",
              "  <div id=\"df-77b83f5f-b9fe-4a6d-99e2-4682186c258e\">\n",
              "    <div class=\"colab-df-container\">\n",
              "      <div>\n",
              "<style scoped>\n",
              "    .dataframe tbody tr th:only-of-type {\n",
              "        vertical-align: middle;\n",
              "    }\n",
              "\n",
              "    .dataframe tbody tr th {\n",
              "        vertical-align: top;\n",
              "    }\n",
              "\n",
              "    .dataframe thead th {\n",
              "        text-align: right;\n",
              "    }\n",
              "</style>\n",
              "<table border=\"1\" class=\"dataframe\">\n",
              "  <thead>\n",
              "    <tr style=\"text-align: right;\">\n",
              "      <th></th>\n",
              "      <th>class</th>\n",
              "      <th>precision</th>\n",
              "      <th>recall</th>\n",
              "      <th>f1-score</th>\n",
              "      <th>support</th>\n",
              "    </tr>\n",
              "  </thead>\n",
              "  <tbody>\n",
              "    <tr>\n",
              "      <th>1</th>\n",
              "      <td>I-MISC</td>\n",
              "      <td>0.00</td>\n",
              "      <td>0.00</td>\n",
              "      <td>0.00</td>\n",
              "      <td>7</td>\n",
              "    </tr>\n",
              "    <tr>\n",
              "      <th>2</th>\n",
              "      <td>I-ORG</td>\n",
              "      <td>0.35</td>\n",
              "      <td>0.25</td>\n",
              "      <td>0.30</td>\n",
              "      <td>114</td>\n",
              "    </tr>\n",
              "    <tr>\n",
              "      <th>0</th>\n",
              "      <td>I-LOC</td>\n",
              "      <td>0.55</td>\n",
              "      <td>0.27</td>\n",
              "      <td>0.36</td>\n",
              "      <td>79</td>\n",
              "    </tr>\n",
              "    <tr>\n",
              "      <th>3</th>\n",
              "      <td>I-PER</td>\n",
              "      <td>0.97</td>\n",
              "      <td>0.82</td>\n",
              "      <td>0.89</td>\n",
              "      <td>236</td>\n",
              "    </tr>\n",
              "    <tr>\n",
              "      <th>4</th>\n",
              "      <td>O</td>\n",
              "      <td>0.99</td>\n",
              "      <td>1.00</td>\n",
              "      <td>0.99</td>\n",
              "      <td>12812</td>\n",
              "    </tr>\n",
              "  </tbody>\n",
              "</table>\n",
              "</div>\n",
              "      <button class=\"colab-df-convert\" onclick=\"convertToInteractive('df-77b83f5f-b9fe-4a6d-99e2-4682186c258e')\"\n",
              "              title=\"Convert this dataframe to an interactive table.\"\n",
              "              style=\"display:none;\">\n",
              "        \n",
              "  <svg xmlns=\"http://www.w3.org/2000/svg\" height=\"24px\"viewBox=\"0 0 24 24\"\n",
              "       width=\"24px\">\n",
              "    <path d=\"M0 0h24v24H0V0z\" fill=\"none\"/>\n",
              "    <path d=\"M18.56 5.44l.94 2.06.94-2.06 2.06-.94-2.06-.94-.94-2.06-.94 2.06-2.06.94zm-11 1L8.5 8.5l.94-2.06 2.06-.94-2.06-.94L8.5 2.5l-.94 2.06-2.06.94zm10 10l.94 2.06.94-2.06 2.06-.94-2.06-.94-.94-2.06-.94 2.06-2.06.94z\"/><path d=\"M17.41 7.96l-1.37-1.37c-.4-.4-.92-.59-1.43-.59-.52 0-1.04.2-1.43.59L10.3 9.45l-7.72 7.72c-.78.78-.78 2.05 0 2.83L4 21.41c.39.39.9.59 1.41.59.51 0 1.02-.2 1.41-.59l7.78-7.78 2.81-2.81c.8-.78.8-2.07 0-2.86zM5.41 20L4 18.59l7.72-7.72 1.47 1.35L5.41 20z\"/>\n",
              "  </svg>\n",
              "      </button>\n",
              "      \n",
              "  <style>\n",
              "    .colab-df-container {\n",
              "      display:flex;\n",
              "      flex-wrap:wrap;\n",
              "      gap: 12px;\n",
              "    }\n",
              "\n",
              "    .colab-df-convert {\n",
              "      background-color: #E8F0FE;\n",
              "      border: none;\n",
              "      border-radius: 50%;\n",
              "      cursor: pointer;\n",
              "      display: none;\n",
              "      fill: #1967D2;\n",
              "      height: 32px;\n",
              "      padding: 0 0 0 0;\n",
              "      width: 32px;\n",
              "    }\n",
              "\n",
              "    .colab-df-convert:hover {\n",
              "      background-color: #E2EBFA;\n",
              "      box-shadow: 0px 1px 2px rgba(60, 64, 67, 0.3), 0px 1px 3px 1px rgba(60, 64, 67, 0.15);\n",
              "      fill: #174EA6;\n",
              "    }\n",
              "\n",
              "    [theme=dark] .colab-df-convert {\n",
              "      background-color: #3B4455;\n",
              "      fill: #D2E3FC;\n",
              "    }\n",
              "\n",
              "    [theme=dark] .colab-df-convert:hover {\n",
              "      background-color: #434B5C;\n",
              "      box-shadow: 0px 1px 3px 1px rgba(0, 0, 0, 0.15);\n",
              "      filter: drop-shadow(0px 1px 2px rgba(0, 0, 0, 0.3));\n",
              "      fill: #FFFFFF;\n",
              "    }\n",
              "  </style>\n",
              "\n",
              "      <script>\n",
              "        const buttonEl =\n",
              "          document.querySelector('#df-77b83f5f-b9fe-4a6d-99e2-4682186c258e button.colab-df-convert');\n",
              "        buttonEl.style.display =\n",
              "          google.colab.kernel.accessAllowed ? 'block' : 'none';\n",
              "\n",
              "        async function convertToInteractive(key) {\n",
              "          const element = document.querySelector('#df-77b83f5f-b9fe-4a6d-99e2-4682186c258e');\n",
              "          const dataTable =\n",
              "            await google.colab.kernel.invokeFunction('convertToInteractive',\n",
              "                                                     [key], {});\n",
              "          if (!dataTable) return;\n",
              "\n",
              "          const docLinkHtml = 'Like what you see? Visit the ' +\n",
              "            '<a target=\"_blank\" href=https://colab.research.google.com/notebooks/data_table.ipynb>data table notebook</a>'\n",
              "            + ' to learn more about interactive tables.';\n",
              "          element.innerHTML = '';\n",
              "          dataTable['output_type'] = 'display_data';\n",
              "          await google.colab.output.renderOutput(dataTable, element);\n",
              "          const docLink = document.createElement('div');\n",
              "          docLink.innerHTML = docLinkHtml;\n",
              "          element.appendChild(docLink);\n",
              "        }\n",
              "      </script>\n",
              "    </div>\n",
              "  </div>\n",
              "  "
            ]
          },
          "metadata": {},
          "execution_count": 59
        }
      ]
    },
    {
      "cell_type": "code",
      "source": [
        "import pandas as pd\n",
        "\n",
        "# make sure this points to the right place on your system:\n",
        "data_file = 'Sentences_50Agree.txt'\n",
        "\n",
        "df = pd.read_csv(data_file, sep='.@', header=0, names=['sentence', 'label'], encoding=\"windows_1258\")\n",
        "\n",
        "# change the words in the label column to numbers\n",
        "df.loc[df[\"label\"]==\"negative\", \"label\"] = 0\n",
        "df.loc[df[\"label\"]==\"neutral\", \"label\"] = 1\n",
        "df.loc[df[\"label\"]==\"positive\", \"label\"] = 2\n",
        "\n",
        "# convert from a dataframe object to a dictionary of arrays\n",
        "dataset = {\n",
        "    \"sentence\": df[\"sentence\"].to_numpy(),\n",
        "    \"label\": df[\"label\"].to_numpy()\n",
        "}"
      ],
      "metadata": {
        "id": "qDtGyUUspA5q",
        "outputId": "e7523919-3be1-4354-f77b-841e1e11ae67",
        "colab": {
          "base_uri": "https://localhost:8080/"
        }
      },
      "id": "qDtGyUUspA5q",
      "execution_count": null,
      "outputs": [
        {
          "output_type": "stream",
          "name": "stderr",
          "text": [
            "/usr/local/lib/python3.7/dist-packages/pandas/util/_decorators.py:311: ParserWarning: Falling back to the 'python' engine because the 'c' engine does not support regex separators (separators > 1 char and different from '\\s+' are interpreted as regex); you can avoid this warning by specifying engine='python'.\n",
            "  return func(*args, **kwargs)\n"
          ]
        }
      ]
    },
    {
      "cell_type": "code",
      "source": [
        "from sklearn.model_selection import train_test_split\n",
        "\n",
        "# Split test data from training data\n",
        "train_sentences, test_sentences, train_labels, test_labels = train_test_split(\n",
        "    dataset['sentence'], \n",
        "    dataset['label'], \n",
        "    test_size=0.2, \n",
        "    stratify=dataset['label']  # make sure the same proportion of labels is in the test set and training set\n",
        ")"
      ],
      "metadata": {
        "id": "fC657hL8Nkwo"
      },
      "id": "fC657hL8Nkwo",
      "execution_count": null,
      "outputs": []
    },
    {
      "cell_type": "code",
      "source": [
        "x=list(zip(sentences_ner,labels_ner))\n",
        "train_data=[]\n",
        "for i in range(0,len(x)):\n",
        "    y=list(zip(x[i][0],x[i][1]))\n",
        "    train_data.append(y)"
      ],
      "metadata": {
        "id": "6UYYdPJzqDgg"
      },
      "id": "6UYYdPJzqDgg",
      "execution_count": 52,
      "outputs": []
    },
    {
      "cell_type": "code",
      "source": [
        "x1=list(zip(test_sentences_ner,test_labels_ner))\n",
        "test_data=[]\n",
        "for i in range(0,len(x1)):\n",
        "    y1=list(zip(x1[i][0],x1[i][1]))\n",
        "    test_data.append(y1)"
      ],
      "metadata": {
        "id": "oo6gz9j_qDdC"
      },
      "id": "oo6gz9j_qDdC",
      "execution_count": 53,
      "outputs": []
    },
    {
      "cell_type": "code",
      "source": [
        "import re, unicodedata\n",
        "from nltk.corpus import stopwords\n",
        "stop_words = stopwords.words(\"english\")\n",
        "\n",
        "from nltk.stem import PorterStemmer\n",
        "porter = PorterStemmer()\n",
        "\n",
        "from nltk.stem import WordNetLemmatizer\n",
        "lemmatizer = WordNetLemmatizer()\n",
        "\n",
        "class CustomCRFTagger(nltk.tag.CRFTagger):\n",
        "    _current_tokens = None\n",
        "    \n",
        "    def _get_features(self, tokens, idx):\n",
        "            \"\"\"\n",
        "            Extract basic features about this word including\n",
        "                - Current word\n",
        "                - is it capitalized?\n",
        "                - Does it have punctuation?\n",
        "                - Does it have a number?\n",
        "                - Suffixes up to length 3\n",
        "\n",
        "            Note that : we might include feature over previous word, next word etc.\n",
        "\n",
        "            :return: a list which contains the features\n",
        "            :rtype: list(str)\n",
        "            \"\"\"\n",
        "            token = tokens[idx]\n",
        "\n",
        "            feature_list = []\n",
        "\n",
        "            if not token:\n",
        "                return feature_list\n",
        "\n",
        "            # Capitalization\n",
        "            if token[0].isupper():\n",
        "                feature_list.append(\"CAPITAL\")\n",
        "                \n",
        "            #All Caps\n",
        "            if token.isupper():\n",
        "                feature_list.append(\"ALL_CAPS\")\n",
        "            \n",
        "            #All small\n",
        "            if token.islower():\n",
        "                feature_list.append(\"ALL_SMALL\")\n",
        "                \n",
        "            #Stop words\n",
        "            if token in stop_words:\n",
        "                feature_list.append(\"STOPWORD\")\n",
        "            \n",
        "            # Number\n",
        "            if re.search(self._pattern, token) is not None:\n",
        "                feature_list.append(\"HAS_NUM\")\n",
        "  \n",
        "            # Punctuation\n",
        "            if re.search(self._pattern, token) is None: #If not a number exctract following features\n",
        "                punc_cat = {\"Pc\", \"Pd\", \"Ps\", \"Pe\", \"Pi\", \"Pf\", \"Po\"}\n",
        "                if all(unicodedata.category(x) in punc_cat for x in token):\n",
        "                    feature_list.append(\"PUNCTUATION\")\n",
        "            \n",
        "                # Prefix up to length 3\n",
        "                if len(token) > 1:\n",
        "                    feature_list.append(\"PRE_\" + token[0:3])\n",
        "                if len(token) > 2:\n",
        "                    feature_list.append(\"PRE_\" + token[1:4])\n",
        "                if len(token) > 3:\n",
        "                    feature_list.append(\"PRE_\" + token[2:5])\n",
        "            \n",
        "                # Affix up to length 3\n",
        "                if len(token) > 3:\n",
        "                    feature_list.append(\"AFF_\" + token[2:-2])\n",
        "            \n",
        "                # Suffix up to length 3\n",
        "                if len(token) > 1:\n",
        "                    feature_list.append(\"SUF_\" + token[-1:])\n",
        "                if len(token) > 2:\n",
        "                    feature_list.append(\"SUF_\" + token[-2:])\n",
        "                if len(token) > 3:\n",
        "                    feature_list.append(\"SUF_\" + token[-3:])\n",
        "            \n",
        "#                 #Stemming\n",
        "#                 if re.sub(r'(.{2,}?)([aeiougyn]+$)',r'\\1', token.lower()):\n",
        "#                     feature_list.append(\"STEM\")\n",
        "                feature_list.append(\"STEM_\"+porter.stem(token))\n",
        "    \n",
        "                #Lemma\n",
        "                feature_list.append(\"LEMMA_\"+lemmatizer.lemmatize(token))\n",
        "            \n",
        "#             #Hyphen\n",
        "#             if re.search('^[a-zA-Z0-9]*-[-a-zA-Z0-9]*$',token):\n",
        "#                 feature_list.append(\"HYPHEN\")\n",
        "            \n",
        "            # Current word\n",
        "            feature_list.append(\"WORD_\" + token)\n",
        "            \n",
        "            ### WRITE YOUR OWN CODE HERE ###\n",
        "            if idx > 0:\n",
        "                feature_list.append(\"PREVWORD_\" + tokens[idx-1])\n",
        "            if idx < len(tokens)-1:\n",
        "                feature_list.append(\"NEXTWORD_\" + tokens[idx+1])\n",
        "                \n",
        "            if idx > 0:\n",
        "                feature_list.append(\"PREVWORD-1_\" + tokens[idx-2])\n",
        "#             if idx < len(tokens)-1:\n",
        "#                 feature_list.append(\"NEXTWORD+1_\" + tokens[idx+2])\n",
        "                \n",
        "            ####\n",
        "            print(feature_list)\n",
        "\n",
        "            return feature_list\n",
        "                "
      ],
      "metadata": {
        "id": "4PGrF82ypsO1"
      },
      "id": "4PGrF82ypsO1",
      "execution_count": 54,
      "outputs": []
    },
    {
      "cell_type": "code",
      "source": [
        "from nltk.tag import CRFTagger\n",
        "\n",
        "# Train a CRF NER tagger\n",
        "ct = CRFTagger()\n",
        "ct.set_model_file('model.crf.tagger')\n",
        "\n",
        "ct.train(train_data,'model.crf.tagger')\n",
        "\n",
        "predicted_tags = ct.tag_sents(test_sentences_ner)\n",
        "cal_span_level_f1(test_data, predicted_tags)"
      ],
      "metadata": {
        "id": "okhqHA2rqVUp",
        "outputId": "d4a3911e-5db4-4256-c33b-f2a533d2f5d4",
        "colab": {
          "base_uri": "https://localhost:8080/"
        }
      },
      "id": "okhqHA2rqVUp",
      "execution_count": 55,
      "outputs": [
        {
          "output_type": "stream",
          "name": "stdout",
          "text": [
            "F1 score for class ORG = 0.36170212765957444\n",
            "F1 score for class PER = 0.921951219512195\n",
            "F1 score for class LOC = 0.31372549019607837\n",
            "Macro-average f1 score = 0.5324596124559493\n"
          ]
        }
      ]
    },
    {
      "cell_type": "code",
      "source": [
        ""
      ],
      "metadata": {
        "id": "LUERQY60quNs"
      },
      "id": "LUERQY60quNs",
      "execution_count": null,
      "outputs": []
    },
    {
      "cell_type": "code",
      "source": [
        ""
      ],
      "metadata": {
        "id": "BMsSbPiLqBoR"
      },
      "id": "BMsSbPiLqBoR",
      "execution_count": null,
      "outputs": []
    },
    {
      "cell_type": "code",
      "source": [
        ""
      ],
      "metadata": {
        "id": "PuXO0NSnqBkS"
      },
      "id": "PuXO0NSnqBkS",
      "execution_count": null,
      "outputs": []
    }
  ],
  "metadata": {
    "kernelspec": {
      "display_name": "Python 3",
      "language": "python",
      "name": "python3"
    },
    "language_info": {
      "codemirror_mode": {
        "name": "ipython",
        "version": 3
      },
      "file_extension": ".py",
      "mimetype": "text/x-python",
      "name": "python",
      "nbconvert_exporter": "python",
      "pygments_lexer": "ipython3",
      "version": "3.8.8"
    },
    "colab": {
      "name": "Data Analytics Coursework.ipynb",
      "provenance": [],
      "include_colab_link": true
    }
  },
  "nbformat": 4,
  "nbformat_minor": 5
}